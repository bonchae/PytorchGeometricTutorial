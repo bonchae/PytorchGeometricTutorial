{
  "nbformat": 4,
  "nbformat_minor": 0,
  "metadata": {
    "kernelspec": {
      "display_name": "Python 3",
      "language": "python",
      "name": "python3"
    },
    "language_info": {
      "codemirror_mode": {
        "name": "ipython",
        "version": 3
      },
      "file_extension": ".py",
      "mimetype": "text/x-python",
      "name": "python",
      "nbconvert_exporter": "python",
      "pygments_lexer": "ipython3",
      "version": "3.8.3"
    },
    "colab": {
      "name": "Tutorial2.ipynb",
      "provenance": [],
      "machine_shape": "hm",
      "include_colab_link": true
    },
    "accelerator": "GPU"
  },
  "cells": [
    {
      "cell_type": "markdown",
      "metadata": {
        "id": "view-in-github",
        "colab_type": "text"
      },
      "source": [
        "<a href=\"https://colab.research.google.com/github/bonchae/PytorchGeometricTutorial/blob/main/Tutorial2/Tutorial2.ipynb\" target=\"_parent\"><img src=\"https://colab.research.google.com/assets/colab-badge.svg\" alt=\"Open In Colab\"/></a>"
      ]
    },
    {
      "cell_type": "markdown",
      "metadata": {
        "id": "ZUvMXbyi92Xf"
      },
      "source": [
        "# Tutorial2: PyTorch basics"
      ]
    },
    {
      "cell_type": "markdown",
      "metadata": {
        "id": "sdSck-LB92Xi"
      },
      "source": [
        "## Outline"
      ]
    },
    {
      "cell_type": "markdown",
      "metadata": {
        "id": "X0_2AQqO92Xj"
      },
      "source": [
        "- Datasets\n",
        "- Models\n",
        "- Losses\n",
        "- Optimizers"
      ]
    },
    {
      "cell_type": "markdown",
      "metadata": {
        "id": "FX2ySWY592Xj"
      },
      "source": [
        "Official resources:\n",
        "* [Deep Learning with PyTorch: a 60 Minute Blitz](https://pytorch.org/tutorials/beginner/deep_learning_60min_blitz.html)\n",
        "* [PyTorch documentation](https://pytorch.org/docs/stable/index.html)"
      ]
    },
    {
      "cell_type": "markdown",
      "metadata": {
        "id": "eTKnH9ws92Xk"
      },
      "source": [
        "Here no details, mostly visualization, with linear regression."
      ]
    },
    {
      "cell_type": "markdown",
      "metadata": {
        "id": "-FQiymGj92Xk"
      },
      "source": [
        "### Imports"
      ]
    },
    {
      "cell_type": "code",
      "metadata": {
        "id": "E6Y_E_QE92Xk"
      },
      "source": [
        "import numpy as np\n",
        "import torch\n",
        "import matplotlib.pyplot as plt\n",
        "from matplotlib import colors\n",
        "plt.rcParams.update({'font.size': 16})"
      ],
      "execution_count": 1,
      "outputs": []
    },
    {
      "cell_type": "code",
      "metadata": {
        "id": "-BbYcRkr92Xm",
        "colab": {
          "base_uri": "https://localhost:8080/"
        },
        "outputId": "819ff952-29f4-4e31-8b9a-75e90167abe2"
      },
      "source": [
        "x = torch.rand(20, 5)\n",
        "x\n",
        "((x.norm(dim=1) - 1).abs() < 1e-10).float()"
      ],
      "execution_count": 2,
      "outputs": [
        {
          "output_type": "execute_result",
          "data": {
            "text/plain": [
              "tensor([0., 0., 0., 0., 0., 0., 0., 0., 0., 0., 0., 0., 0., 0., 0., 0., 0., 0., 0., 0.])"
            ]
          },
          "metadata": {},
          "execution_count": 2
        }
      ]
    },
    {
      "cell_type": "markdown",
      "metadata": {
        "id": "s8qIjYXi92Xm"
      },
      "source": [
        "## Datasets"
      ]
    },
    {
      "cell_type": "markdown",
      "metadata": {
        "id": "ibmTZEV692Xn"
      },
      "source": [
        "### A raw dataset"
      ]
    },
    {
      "cell_type": "markdown",
      "metadata": {
        "id": "5fQXEDCY92Xn"
      },
      "source": [
        "The data are obtained from the model \n",
        "$$\n",
        "x \\mapsto y:=Ax + b\n",
        "$$\n",
        "with $x\\in\\mathbb R^{input\\_dim}$ and $y\\in\\mathbb R^{output\\_dim}$."
      ]
    },
    {
      "cell_type": "code",
      "metadata": {
        "id": "OYl4mjJn92Xn",
        "outputId": "69b02bed-b67b-4d55-c276-d145a7be4262",
        "colab": {
          "base_uri": "https://localhost:8080/"
        }
      },
      "source": [
        "input_dim = 1\n",
        "output_dim = 1\n",
        "\n",
        "A = 2 * np.random.rand(output_dim, input_dim) - 1\n",
        "b = 2 * np.random.rand(output_dim) - 1\n",
        "\n",
        "true_model = lambda x: A @ x + b\n",
        "true_model"
      ],
      "execution_count": 3,
      "outputs": [
        {
          "output_type": "execute_result",
          "data": {
            "text/plain": [
              "<function __main__.<lambda>>"
            ]
          },
          "metadata": {},
          "execution_count": 3
        }
      ]
    },
    {
      "cell_type": "markdown",
      "metadata": {
        "id": "kWRDvpxe92Xo"
      },
      "source": [
        "We get a training set by randomly sampling and noisy observations\n",
        "\\begin{align*}\n",
        "&x_i \\sim U([-1, 1])\\\\\n",
        "&y_i = A x_i + b + \\nu_i\n",
        "\\end{align*}"
      ]
    },
    {
      "cell_type": "code",
      "metadata": {
        "id": "QCQO6Dvb92Xo"
      },
      "source": [
        "n_train = 1000\n",
        "noise_level = 0.04\n",
        "\n",
        "# Generate a random set of n_train samples\n",
        "X_train = np.random.rand(n_train, input_dim)\n",
        "y_train = np.array([true_model(x) for x in X_train])\n",
        "\n",
        "# Add some noise\n",
        "y_train += noise_level * np.random.standard_normal(size=y_train.shape)"
      ],
      "execution_count": 4,
      "outputs": []
    },
    {
      "cell_type": "code",
      "metadata": {
        "id": "f5ckvTRO92Xo",
        "colab": {
          "base_uri": "https://localhost:8080/",
          "height": 280
        },
        "outputId": "966a9741-b207-442a-8b95-9ac980feb871"
      },
      "source": [
        "if input_dim == output_dim == 1:\n",
        "    fig = plt.figure()\n",
        "    fig.clf()\n",
        "    ax = fig.gca()\n",
        "    ax.plot(X_train, y_train, '.')\n",
        "    ax.grid(True)\n",
        "    ax.set_xlabel('X_train')\n",
        "    ax.set_ylabel('y_train')"
      ],
      "execution_count": 5,
      "outputs": [
        {
          "output_type": "display_data",
          "data": {
            "image/png": "[encoded data removed]",
            "text/plain": [
              "<Figure size 432x288 with 1 Axes>"
            ]
          },
          "metadata": {
            "needs_background": "light"
          }
        }
      ]
    },
    {
      "cell_type": "markdown",
      "metadata": {
        "id": "ZQDf3Ip092Xo"
      },
      "source": [
        "### PyTorch `Dataset`"
      ]
    },
    {
      "cell_type": "code",
      "metadata": {
        "id": "p3Qu9nEH92Xp"
      },
      "source": [
        "#%% Dataset to manage vector to vector data\n",
        "class VectorialDataset(torch.utils.data.Dataset):\n",
        "    def __init__(self, input_data, output_data):\n",
        "        super(VectorialDataset, self).__init__()\n",
        "        self.input_data = torch.tensor(input_data.astype('f'))\n",
        "        self.output_data = torch.tensor(output_data.astype('f'))\n",
        "        \n",
        "    def __len__(self):\n",
        "        return self.input_data.shape[0]\n",
        "    \n",
        "    def __getitem__(self, idx):\n",
        "        if torch.is_tensor(idx):\n",
        "            idx = idx.tolist()\n",
        "        sample = (self.input_data[idx, :], \n",
        "                  self.output_data[idx, :])  \n",
        "        return sample "
      ],
      "execution_count": 6,
      "outputs": []
    },
    {
      "cell_type": "code",
      "metadata": {
        "id": "CTKzByrC92Xp"
      },
      "source": [
        "training_set = VectorialDataset(input_data=X_train, output_data=y_train)"
      ],
      "execution_count": 7,
      "outputs": []
    },
    {
      "cell_type": "code",
      "metadata": {
        "id": "x3msj7hF92Xp",
        "colab": {
          "base_uri": "https://localhost:8080/"
        },
        "outputId": "18c78bbd-d080-4fd8-e7cc-7813da9c484f"
      },
      "source": [
        "len(training_set)"
      ],
      "execution_count": 8,
      "outputs": [
        {
          "output_type": "execute_result",
          "data": {
            "text/plain": [
              "1000"
            ]
          },
          "metadata": {},
          "execution_count": 8
        }
      ]
    },
    {
      "cell_type": "code",
      "metadata": {
        "id": "0WMeLXzo92Xp",
        "colab": {
          "base_uri": "https://localhost:8080/"
        },
        "outputId": "f89f618d-95cd-4c1e-f50f-f6d1be99d915"
      },
      "source": [
        "training_set[10:12]"
      ],
      "execution_count": 9,
      "outputs": [
        {
          "output_type": "execute_result",
          "data": {
            "text/plain": [
              "(tensor([[0.5910],\n",
              "         [0.7455]]), tensor([[-0.3684],\n",
              "         [-0.2545]]))"
            ]
          },
          "metadata": {},
          "execution_count": 9
        }
      ]
    },
    {
      "cell_type": "code",
      "metadata": {
        "id": "1vTPBYIqQZPN",
        "outputId": "5810a160-594f-41eb-ed2b-d6141258d0c7",
        "colab": {
          "base_uri": "https://localhost:8080/"
        }
      },
      "source": [
        "training_set[10]"
      ],
      "execution_count": 10,
      "outputs": [
        {
          "output_type": "execute_result",
          "data": {
            "text/plain": [
              "(tensor([0.5910]), tensor([-0.3684]))"
            ]
          },
          "metadata": {},
          "execution_count": 10
        }
      ]
    },
    {
      "cell_type": "code",
      "metadata": {
        "id": "5XccjD3KQdSh",
        "outputId": "398b5c58-d28f-4e09-cd11-bb6d7aa9d388",
        "colab": {
          "base_uri": "https://localhost:8080/"
        }
      },
      "source": [
        "training_set[11]"
      ],
      "execution_count": 11,
      "outputs": [
        {
          "output_type": "execute_result",
          "data": {
            "text/plain": [
              "(tensor([0.7455]), tensor([-0.2545]))"
            ]
          },
          "metadata": {},
          "execution_count": 11
        }
      ]
    },
    {
      "cell_type": "markdown",
      "metadata": {
        "id": "4iYxCnZ992Xq"
      },
      "source": [
        "Here almost useless, but think about e.g. images."
      ]
    },
    {
      "cell_type": "markdown",
      "metadata": {
        "id": "RA0ctJnZ92Xq"
      },
      "source": [
        "### PyTorch `DataLoader`"
      ]
    },
    {
      "cell_type": "code",
      "metadata": {
        "id": "MwGJVUl992Xq"
      },
      "source": [
        "batch_size = 120\n",
        "train_loader = torch.utils.data.DataLoader(training_set, \n",
        "                                           batch_size=batch_size, \n",
        "                                           shuffle=True)"
      ],
      "execution_count": 12,
      "outputs": []
    },
    {
      "cell_type": "markdown",
      "metadata": {
        "id": "Wg5gtCR992Xq"
      },
      "source": [
        "The role of `batch_size`:"
      ]
    },
    {
      "cell_type": "code",
      "metadata": {
        "id": "6WNjBT-I92Xr",
        "colab": {
          "base_uri": "https://localhost:8080/"
        },
        "outputId": "bc851f56-c5ef-42f5-ab9d-15470baa9b64"
      },
      "source": [
        "for idx, batch in enumerate(train_loader):\n",
        "    print('Batch n. %2d: input size=%s, output size=%s' % (idx+1, batch[0].shape, batch[1].shape))"
      ],
      "execution_count": 13,
      "outputs": [
        {
          "output_type": "stream",
          "name": "stdout",
          "text": [
            "Batch n.  1: input size=torch.Size([120, 1]), output size=torch.Size([120, 1])\n",
            "Batch n.  2: input size=torch.Size([120, 1]), output size=torch.Size([120, 1])\n",
            "Batch n.  3: input size=torch.Size([120, 1]), output size=torch.Size([120, 1])\n",
            "Batch n.  4: input size=torch.Size([120, 1]), output size=torch.Size([120, 1])\n",
            "Batch n.  5: input size=torch.Size([120, 1]), output size=torch.Size([120, 1])\n",
            "Batch n.  6: input size=torch.Size([120, 1]), output size=torch.Size([120, 1])\n",
            "Batch n.  7: input size=torch.Size([120, 1]), output size=torch.Size([120, 1])\n",
            "Batch n.  8: input size=torch.Size([120, 1]), output size=torch.Size([120, 1])\n",
            "Batch n.  9: input size=torch.Size([40, 1]), output size=torch.Size([40, 1])\n"
          ]
        }
      ]
    },
    {
      "cell_type": "code",
      "metadata": {
        "id": "XAw8eKce92Xr",
        "colab": {
          "base_uri": "https://localhost:8080/"
        },
        "outputId": "d7063e08-acb1-4761-fcce-022162cba3f3"
      },
      "source": [
        "8 * 120"
      ],
      "execution_count": 14,
      "outputs": [
        {
          "output_type": "execute_result",
          "data": {
            "text/plain": [
              "960"
            ]
          },
          "metadata": {},
          "execution_count": 14
        }
      ]
    },
    {
      "cell_type": "markdown",
      "metadata": {
        "id": "zdXF-6qs92Xr"
      },
      "source": [
        "The role of `shuffle`:"
      ]
    },
    {
      "cell_type": "code",
      "metadata": {
        "id": "tdw6_Qtd92Xr",
        "colab": {
          "base_uri": "https://localhost:8080/"
        },
        "outputId": "95a5ce1c-e746-45e9-d4f6-e40749de2bb9"
      },
      "source": [
        "first_batch = []\n",
        "\n",
        "for epoch in range(2):\n",
        "    for idx, batch in enumerate(train_loader):\n",
        "        if idx == 0:\n",
        "            first_batch.append(batch)\n",
        "        \n",
        "np.c_[X_train[:batch_size], first_batch[0][0].numpy(), first_batch[1][0].numpy()]"
      ],
      "execution_count": 15,
      "outputs": [
        {
          "output_type": "execute_result",
          "data": {
            "text/plain": [
              "array([[5.25104540e-01, 6.27156556e-01, 7.62421489e-01],\n",
              "       [6.37245023e-02, 7.14562714e-01, 1.17548011e-01],\n",
              "       [6.80696171e-01, 3.14731568e-01, 3.54920387e-01],\n",
              "       [5.57659441e-01, 3.91828954e-01, 1.29548743e-01],\n",
              "       [1.17548008e-01, 1.95919946e-01, 4.08640742e-01],\n",
              "       [7.13165868e-01, 1.11388199e-01, 3.11602771e-01],\n",
              "       [6.71439954e-01, 8.55213940e-01, 6.63924694e-01],\n",
              "       [4.77572161e-01, 1.69329464e-01, 2.96961129e-01],\n",
              "       [2.73872206e-02, 6.87559962e-01, 2.00194076e-01],\n",
              "       [8.92912105e-01, 4.39548343e-01, 2.64454842e-01],\n",
              "       [5.91020100e-01, 8.18225503e-01, 4.52056140e-01],\n",
              "       [7.45466563e-01, 5.75423658e-01, 6.71468303e-02],\n",
              "       [5.07147234e-01, 7.32346654e-01, 3.99999261e-01],\n",
              "       [8.75433550e-02, 1.99480355e-01, 6.38894081e-01],\n",
              "       [7.09974409e-01, 4.27761763e-01, 4.45118725e-01],\n",
              "       [3.45904738e-01, 3.85160089e-01, 2.02679366e-01],\n",
              "       [5.61661168e-01, 6.27929866e-01, 4.49131221e-01],\n",
              "       [9.32503912e-02, 1.93441123e-01, 1.43961892e-01],\n",
              "       [4.66670899e-01, 3.36283594e-02, 4.69171703e-01],\n",
              "       [5.73334548e-02, 1.00731358e-01, 2.94107884e-01],\n",
              "       [6.52127658e-01, 3.07612717e-01, 4.41714555e-01],\n",
              "       [6.58353096e-01, 1.44433632e-01, 8.63275230e-01],\n",
              "       [4.93051516e-01, 7.48943090e-01, 1.81702510e-01],\n",
              "       [5.80740755e-01, 4.43256497e-01, 7.06284165e-01],\n",
              "       [8.87366975e-01, 9.99324262e-01, 7.53094554e-01],\n",
              "       [4.49252928e-01, 2.14785747e-02, 6.01050854e-01],\n",
              "       [9.84273797e-01, 6.73893571e-01, 6.77099973e-02],\n",
              "       [2.71801710e-01, 8.75072241e-01, 5.53073227e-01],\n",
              "       [2.52939295e-01, 9.90078211e-01, 5.75928092e-01],\n",
              "       [9.13530923e-01, 1.16354942e-01, 6.73893571e-01],\n",
              "       [3.97723443e-01, 4.34760988e-01, 1.89455792e-01],\n",
              "       [9.85043007e-01, 2.11275563e-01, 1.17309488e-01],\n",
              "       [9.56119656e-01, 1.15617560e-02, 9.95662510e-02],\n",
              "       [8.57476315e-01, 9.99136865e-01, 2.84027774e-02],\n",
              "       [3.62114350e-02, 6.01050854e-01, 5.00218093e-01],\n",
              "       [2.24961578e-01, 9.42058265e-01, 5.80740750e-01],\n",
              "       [4.27761773e-01, 3.32783788e-01, 2.75398195e-01],\n",
              "       [7.32346655e-01, 7.79613733e-01, 4.23932299e-02],\n",
              "       [8.43382618e-01, 2.67468430e-02, 6.71968341e-01],\n",
              "       [6.27929891e-01, 5.91837406e-01, 8.95399973e-02],\n",
              "       [9.90078194e-01, 6.42852128e-01, 9.69629705e-01],\n",
              "       [9.30820046e-01, 2.18704971e-03, 5.29675543e-01],\n",
              "       [5.69228430e-01, 8.89691174e-01, 3.24889749e-01],\n",
              "       [2.42439639e-01, 3.23937684e-01, 2.16418147e-01],\n",
              "       [4.42371969e-01, 1.36179343e-01, 3.21388513e-01],\n",
              "       [7.52578728e-01, 1.42654791e-01, 3.25021654e-01],\n",
              "       [6.46092398e-01, 1.19888604e-01, 7.25629807e-01],\n",
              "       [7.09863090e-01, 7.03914762e-02, 6.79092646e-01],\n",
              "       [3.66899499e-01, 8.17551315e-02, 3.82275760e-01],\n",
              "       [2.89708870e-01, 6.46092415e-01, 1.48782045e-01],\n",
              "       [6.27044006e-01, 7.47507691e-01, 6.15679085e-01],\n",
              "       [3.47051593e-01, 5.05215168e-01, 3.60086411e-01],\n",
              "       [9.90276830e-02, 7.81366289e-01, 7.60995507e-01],\n",
              "       [6.07266600e-01, 9.59839439e-04, 9.18280333e-02],\n",
              "       [3.07612706e-01, 9.37473774e-01, 4.69811708e-01],\n",
              "       [2.79853302e-01, 2.73872204e-02, 2.11275563e-01],\n",
              "       [9.55197101e-01, 8.09605122e-01, 4.84944820e-01],\n",
              "       [8.27593861e-01, 7.09863067e-01, 4.44897801e-01],\n",
              "       [1.07036284e-01, 5.58934271e-01, 5.27985752e-01],\n",
              "       [2.87552020e-01, 5.64072907e-01, 8.89954925e-01],\n",
              "       [5.09383225e-01, 3.86666745e-01, 7.23794222e-01],\n",
              "       [6.28261683e-01, 6.58353090e-01, 5.67685187e-01],\n",
              "       [4.61215020e-01, 8.17295790e-01, 9.53921497e-01],\n",
              "       [6.77099964e-02, 1.91938117e-01, 9.09171045e-01],\n",
              "       [3.32005131e-01, 1.02198273e-01, 1.62254646e-02],\n",
              "       [3.77293369e-01, 5.11194408e-01, 7.37169802e-01],\n",
              "       [2.64454847e-01, 5.35077870e-01, 8.14311206e-01],\n",
              "       [2.30578762e-01, 8.92912090e-01, 3.67011309e-01],\n",
              "       [5.94576681e-01, 6.51174307e-01, 1.19458713e-01],\n",
              "       [2.75398193e-01, 1.43603742e-01, 6.16700411e-01],\n",
              "       [4.23932305e-02, 4.50572670e-01, 1.91668138e-01],\n",
              "       [6.95067917e-02, 3.24155778e-01, 7.50746727e-01],\n",
              "       [1.75278149e-01, 2.24487856e-01, 9.69270051e-01],\n",
              "       [1.11388202e-01, 7.22181678e-01, 5.39219975e-01],\n",
              "       [1.29519687e-01, 9.68722343e-01, 2.78479666e-01],\n",
              "       [1.37570511e-01, 7.31289327e-01, 2.41408825e-01],\n",
              "       [1.33709536e-01, 8.50183010e-01, 1.89883307e-01],\n",
              "       [8.76134377e-01, 2.57051885e-01, 1.26879111e-01],\n",
              "       [5.79914349e-01, 1.91668138e-01, 2.53841400e-01],\n",
              "       [9.86587124e-01, 9.75400507e-01, 4.45704788e-01],\n",
              "       [8.82649376e-01, 2.75398195e-01, 3.88643831e-01],\n",
              "       [8.16525179e-01, 9.81779099e-01, 2.67468430e-02],\n",
              "       [2.47270846e-01, 7.94634402e-01, 7.99391568e-01],\n",
              "       [5.37177160e-01, 6.71439946e-01, 8.06034729e-02],\n",
              "       [2.88468416e-01, 4.62969303e-01, 9.03133810e-01],\n",
              "       [1.16069568e-02, 3.88643831e-01, 2.21900702e-01],\n",
              "       [7.38606458e-01, 5.03012955e-01, 9.70560670e-01],\n",
              "       [8.70708863e-01, 3.93370569e-01, 3.87791961e-01],\n",
              "       [3.51224943e-01, 2.96543688e-01, 2.33272575e-02],\n",
              "       [9.03133814e-01, 4.86083746e-01, 1.76849917e-01],\n",
              "       [5.68606922e-01, 5.14243618e-02, 1.88202053e-01],\n",
              "       [4.01993872e-01, 8.81161392e-01, 3.91828954e-01],\n",
              "       [6.08949501e-02, 5.17256558e-01, 4.28074062e-01],\n",
              "       [1.12502359e-01, 1.40663445e-01, 3.18776578e-01],\n",
              "       [6.72036852e-01, 3.57173890e-01, 7.45466590e-01],\n",
              "       [5.88500469e-01, 6.14391267e-01, 1.12846404e-01],\n",
              "       [2.81191750e-01, 6.15679085e-01, 3.11028689e-01],\n",
              "       [4.16995799e-01, 4.61350620e-01, 6.52127683e-01],\n",
              "       [2.33272572e-02, 1.32815391e-02, 5.61355293e-01],\n",
              "       [4.23038164e-01, 6.01010442e-01, 8.77959967e-01],\n",
              "       [1.88794904e-01, 8.76689672e-01, 9.81887937e-01],\n",
              "       [3.68649997e-01, 8.78265277e-02, 9.68121812e-02],\n",
              "       [4.22872839e-02, 6.16881788e-01, 6.04744315e-01],\n",
              "       [4.64430882e-01, 8.94405901e-01, 9.41545516e-03],\n",
              "       [2.84632233e-01, 4.48540986e-01, 5.13265967e-01],\n",
              "       [2.92367323e-01, 7.19623089e-01, 3.10921669e-01],\n",
              "       [5.62518926e-01, 5.12020469e-01, 9.99087751e-01],\n",
              "       [7.20752892e-01, 7.09957957e-01, 4.33330864e-01],\n",
              "       [4.07373033e-01, 4.23932299e-02, 7.46873856e-01],\n",
              "       [7.03493017e-01, 1.48782045e-01, 6.10380530e-01],\n",
              "       [5.30115625e-01, 4.45118725e-01, 3.78147103e-02],\n",
              "       [9.91540960e-01, 3.00265312e-01, 5.87255180e-01],\n",
              "       [6.33919501e-01, 1.79324880e-01, 6.42852128e-01],\n",
              "       [2.78479663e-01, 5.61712794e-02, 2.18796775e-01],\n",
              "       [3.82376759e-01, 4.87081349e-01, 1.50628492e-01],\n",
              "       [2.28710033e-01, 1.29548743e-01, 3.58620644e-01],\n",
              "       [3.07157840e-02, 4.31018144e-01, 3.65634590e-01],\n",
              "       [3.60086412e-01, 4.60590482e-01, 3.47051591e-01],\n",
              "       [9.83762699e-01, 4.38608915e-01, 5.15934587e-01],\n",
              "       [2.13427333e-01, 6.63924694e-01, 8.44082594e-01]])"
            ]
          },
          "metadata": {},
          "execution_count": 15
        }
      ]
    },
    {
      "cell_type": "markdown",
      "metadata": {
        "id": "mt5YsKzb92Xr"
      },
      "source": [
        "## Models"
      ]
    },
    {
      "cell_type": "markdown",
      "metadata": {
        "id": "SNjd_Tv492Xr"
      },
      "source": [
        "We implement a linear model $$x \\mapsto model(x):=A x + b$$ \n",
        "\n",
        "with $A\\in \\mathbb{R}^{input\\_dim\\times output\\_dim}$, $b\\in\\mathbb{R}^{output\\_dim}$."
      ]
    },
    {
      "cell_type": "code",
      "metadata": {
        "id": "84Z1Yb2G92Xs"
      },
      "source": [
        "import torch.nn as nn\n",
        "import torch\n",
        "\n",
        "#%% Linear layer\n",
        "class LinearModel(nn.Module):\n",
        "    def __init__(self, input_dim, output_dim):\n",
        "        super(LinearModel, self).__init__()\n",
        "\n",
        "        self.input_dim = input_dim\n",
        "        self.output_dim = output_dim\n",
        "\n",
        "        self.linear = nn.Linear(self.input_dim, self.output_dim, bias=True)\n",
        "\n",
        "    def forward(self, x):\n",
        "        out = self.linear(x)\n",
        "        return out\n",
        "    \n",
        "    def reset(self):\n",
        "        self.linear.reset_parameters()"
      ],
      "execution_count": 16,
      "outputs": []
    },
    {
      "cell_type": "code",
      "metadata": {
        "id": "_yBKgIr692Xs",
        "outputId": "2247e84a-e8fe-4630-9ba3-95bc8a8b81ca",
        "colab": {
          "base_uri": "https://localhost:8080/"
        }
      },
      "source": [
        "model = LinearModel(input_dim, output_dim)\n",
        "model"
      ],
      "execution_count": 17,
      "outputs": [
        {
          "output_type": "execute_result",
          "data": {
            "text/plain": [
              "LinearModel(\n",
              "  (linear): Linear(in_features=1, out_features=1, bias=True)\n",
              ")"
            ]
          },
          "metadata": {},
          "execution_count": 17
        }
      ]
    },
    {
      "cell_type": "markdown",
      "metadata": {
        "id": "ieXZIGpD92Xs"
      },
      "source": [
        "### Model inspection"
      ]
    },
    {
      "cell_type": "code",
      "metadata": {
        "id": "ynIdloRP92Xs",
        "colab": {
          "base_uri": "https://localhost:8080/"
        },
        "outputId": "c9dd624d-1ea7-445d-89ad-2e163e456c99"
      },
      "source": [
        "print(model)"
      ],
      "execution_count": 18,
      "outputs": [
        {
          "output_type": "stream",
          "name": "stdout",
          "text": [
            "LinearModel(\n",
            "  (linear): Linear(in_features=1, out_features=1, bias=True)\n",
            ")\n"
          ]
        }
      ]
    },
    {
      "cell_type": "markdown",
      "metadata": {
        "id": "9XPWFGgf92Xs"
      },
      "source": [
        "See [pytorch.org/docs/stable/nn.html](https://pytorch.org/docs/stable/nn.html) for many other layers."
      ]
    },
    {
      "cell_type": "code",
      "metadata": {
        "id": "cfpe0ypt92Xs",
        "colab": {
          "base_uri": "https://localhost:8080/"
        },
        "outputId": "b6437968-e727-449b-ce42-947d9cfbcf2d"
      },
      "source": [
        "list(model.parameters())"
      ],
      "execution_count": 19,
      "outputs": [
        {
          "output_type": "execute_result",
          "data": {
            "text/plain": [
              "[Parameter containing:\n",
              " tensor([[-0.1870]], requires_grad=True), Parameter containing:\n",
              " tensor([0.3245], requires_grad=True)]"
            ]
          },
          "metadata": {},
          "execution_count": 19
        }
      ]
    },
    {
      "cell_type": "code",
      "metadata": {
        "id": "MDJI7Q-492Xs",
        "colab": {
          "base_uri": "https://localhost:8080/"
        },
        "outputId": "9efa3b3f-7ad7-4870-cb70-92b2e1facf53"
      },
      "source": [
        "model.linear.weight"
      ],
      "execution_count": 20,
      "outputs": [
        {
          "output_type": "execute_result",
          "data": {
            "text/plain": [
              "Parameter containing:\n",
              "tensor([[-0.1870]], requires_grad=True)"
            ]
          },
          "metadata": {},
          "execution_count": 20
        }
      ]
    },
    {
      "cell_type": "code",
      "metadata": {
        "id": "mT06tPiS92Xt",
        "colab": {
          "base_uri": "https://localhost:8080/"
        },
        "outputId": "83955390-6e95-43d5-db89-2dfd2cd0d44a"
      },
      "source": [
        "model.linear.bias"
      ],
      "execution_count": 21,
      "outputs": [
        {
          "output_type": "execute_result",
          "data": {
            "text/plain": [
              "Parameter containing:\n",
              "tensor([0.3245], requires_grad=True)"
            ]
          },
          "metadata": {},
          "execution_count": 21
        }
      ]
    },
    {
      "cell_type": "markdown",
      "metadata": {
        "id": "7djh5d_a92Xt"
      },
      "source": [
        "### The `forward` method"
      ]
    },
    {
      "cell_type": "code",
      "metadata": {
        "id": "3EIkRVcA92Xt",
        "colab": {
          "base_uri": "https://localhost:8080/"
        },
        "outputId": "c57cc744-b827-4820-d4b3-a0447e093687"
      },
      "source": [
        "x = torch.randn(5, input_dim)\n",
        "model.forward(x)"
      ],
      "execution_count": 22,
      "outputs": [
        {
          "output_type": "execute_result",
          "data": {
            "text/plain": [
              "tensor([[0.6416],\n",
              "        [0.4154],\n",
              "        [0.4598],\n",
              "        [0.1870],\n",
              "        [0.2365]], grad_fn=<AddmmBackward>)"
            ]
          },
          "metadata": {},
          "execution_count": 22
        }
      ]
    },
    {
      "cell_type": "code",
      "metadata": {
        "id": "Who_dnZP92Xt",
        "colab": {
          "base_uri": "https://localhost:8080/"
        },
        "outputId": "d5097262-a034-4991-f3a1-d12dd779bf33"
      },
      "source": [
        "[model.linear.weight @ xx + model.linear.bias for xx in x]"
      ],
      "execution_count": 23,
      "outputs": [
        {
          "output_type": "execute_result",
          "data": {
            "text/plain": [
              "[tensor([0.6416], grad_fn=<AddBackward0>),\n",
              " tensor([0.4154], grad_fn=<AddBackward0>),\n",
              " tensor([0.4598], grad_fn=<AddBackward0>),\n",
              " tensor([0.1870], grad_fn=<AddBackward0>),\n",
              " tensor([0.2365], grad_fn=<AddBackward0>)]"
            ]
          },
          "metadata": {},
          "execution_count": 23
        }
      ]
    },
    {
      "cell_type": "code",
      "metadata": {
        "id": "Ckfyuj1292Xt",
        "colab": {
          "base_uri": "https://localhost:8080/",
          "height": 280
        },
        "outputId": "f5551a05-81b8-4a11-c545-c4a39945a1c8"
      },
      "source": [
        "if input_dim == output_dim == 1:\n",
        "    fig = plt.figure()\n",
        "    fig.clf()\n",
        "    ax = fig.gca()\n",
        "    ax.plot(training_set.input_data, training_set.output_data, '.')\n",
        "    ax.plot(training_set.input_data, model.forward(training_set.input_data).detach().numpy(), '.')\n",
        "    ax.grid(True)\n",
        "    ax.set_xlabel('X_train')\n",
        "    ax.legend(['y_train', 'model(X_train)'])    "
      ],
      "execution_count": 24,
      "outputs": [
        {
          "output_type": "display_data",
          "data": {
            "image/png": "[encoded data removed]",
            "text/plain": [
              "<Figure size 432x288 with 1 Axes>"
            ]
          },
          "metadata": {
            "needs_background": "light"
          }
        }
      ]
    },
    {
      "cell_type": "markdown",
      "metadata": {
        "id": "cvtLe2cx92Xt"
      },
      "source": [
        "## Losses"
      ]
    },
    {
      "cell_type": "markdown",
      "metadata": {
        "id": "JEDV1i8b92Xt"
      },
      "source": [
        "### The MSE loss"
      ]
    },
    {
      "cell_type": "markdown",
      "metadata": {
        "id": "Q3rFVR5s92Xt"
      },
      "source": [
        "The MSE loss is\n",
        "$$\n",
        "L(y, y') = \\|y-y'\\|_2^2\n",
        "$$"
      ]
    },
    {
      "cell_type": "code",
      "metadata": {
        "id": "l_I2rNSk92Xu"
      },
      "source": [
        "import torch.nn as nn\n",
        "loss_fun = nn.MSELoss(reduction='mean')"
      ],
      "execution_count": 25,
      "outputs": []
    },
    {
      "cell_type": "markdown",
      "metadata": {
        "id": "Pk1MGdju92Xu"
      },
      "source": [
        "More at [pytorch.org/docs/stable/nn.html#loss-functions](https://pytorch.org/docs/stable/nn.html#loss-functions)"
      ]
    },
    {
      "cell_type": "code",
      "metadata": {
        "id": "ogcyQGwq92Xu",
        "colab": {
          "base_uri": "https://localhost:8080/"
        },
        "outputId": "c5718a94-535d-494b-e601-ae2760721652"
      },
      "source": [
        "x = torch.tensor(np.array([1, 2, 1]).astype('f'))\n",
        "z = torch.tensor(np.array([0, 0, 0]).astype('f'))\n",
        "loss_fun(x, z)"
      ],
      "execution_count": 26,
      "outputs": [
        {
          "output_type": "execute_result",
          "data": {
            "text/plain": [
              "tensor(2.)"
            ]
          },
          "metadata": {},
          "execution_count": 26
        }
      ]
    },
    {
      "cell_type": "markdown",
      "metadata": {
        "id": "QFqdsLzL92Xu"
      },
      "source": [
        "### Giving a score to the model (parameters) given the training set"
      ]
    },
    {
      "cell_type": "markdown",
      "metadata": {
        "id": "SLrSVaFs92Xu"
      },
      "source": [
        "The loss for one data pair $(x_i, y_i)$ is \n",
        "$$\n",
        "L(model(x_i), y_i)\n",
        "$$\n",
        "\n",
        "The cumulative (average) loss on the training set is \n",
        "$$\n",
        "L(X_{train}, y_{train}):=\\frac{1}{n_{train}} \\sum_{i=1}^{n_{train}} L(model(x_i), y_i)\n",
        "$$"
      ]
    },
    {
      "cell_type": "code",
      "metadata": {
        "id": "YHTbiDmF92Xu",
        "colab": {
          "base_uri": "https://localhost:8080/",
          "height": 0
        },
        "outputId": "4ff0f5ae-9371-4ba8-894d-0245df84d85f"
      },
      "source": [
        "if input_dim == output_dim == 1:\n",
        "\n",
        "    state_dict = model.state_dict()\n",
        "\n",
        "    ww, bb = np.meshgrid(np.linspace(-2, 2, 30), np.linspace(-2, 2, 30))\n",
        "\n",
        "    loss_values = 0 * ww\n",
        "    for i in range(ww.shape[0]):\n",
        "        for j in range(ww.shape[1]):\n",
        "            state_dict['linear.weight'] = torch.tensor([[ww[i, j]]])\n",
        "            state_dict['linear.bias'] = torch.tensor([bb[i, j]])\n",
        "            model.load_state_dict(state_dict)\n",
        "            loss_values[i, j] = loss_fun(model.forward(training_set.input_data),  training_set.output_data)\n",
        "\n",
        "    fig = plt.figure(figsize=(10, 8))\n",
        "    fig.clf()\n",
        "    ax = fig.gca()\n",
        "    levels = np.logspace(np.log(np.min(loss_values)), np.log(np.max(loss_values)), 20)\n",
        "    c=ax.contourf(ww, bb, loss_values, levels=levels, norm=colors.LogNorm())\n",
        "    plt.colorbar(c)\n",
        "    ax.plot(A[0], b, 'r*', markersize=10)\n",
        "    ax.set_ylabel('bias')\n",
        "    ax.set_xlabel('weight')\n",
        "    ax.legend(['(A, b)'])\n",
        "    \n",
        "    ax.grid(True)    "
      ],
      "execution_count": 27,
      "outputs": [
        {
          "output_type": "display_data",
          "data": {
            "image/png": "[encoded data removed]",
            "text/plain": [
              "<Figure size 720x576 with 2 Axes>"
            ]
          },
          "metadata": {
            "needs_background": "light"
          }
        }
      ]
    },
    {
      "cell_type": "markdown",
      "metadata": {
        "id": "1mkogFPT92Xu"
      },
      "source": [
        "## Optimization"
      ]
    },
    {
      "cell_type": "markdown",
      "metadata": {
        "id": "sQm1FtGq92Xu"
      },
      "source": [
        "Goal: minimize the loss given the data:\n",
        "$$\n",
        "\\min\\limits_{par \\in model} L(X_{train}, y_{train})\n",
        "=\\min\\limits_{par \\in model} \\frac{1}{n_{train}} \\sum_{i=1}^{n_{train}} L(x_i, model(x_i))\n",
        "$$\n",
        "\n",
        "In this case $par =\\{A, b\\}$."
      ]
    },
    {
      "cell_type": "markdown",
      "metadata": {
        "id": "RnK-NtFu92Xv"
      },
      "source": [
        "Iterative gradient based optimization:\n",
        "\\begin{align*}\n",
        "par^{(0)} &= par_0\\\\\n",
        "par^{(k+1)} &=  par^{(k)} - \\eta^{(k)} \\nabla_{par} L(X_{train}, y_{train})\n",
        "\\end{align*}    \n",
        "with learning rate $\\eta^{(k)}$."
      ]
    },
    {
      "cell_type": "markdown",
      "metadata": {
        "id": "D-SY6MgV92Xv"
      },
      "source": [
        "### Gradients"
      ]
    },
    {
      "cell_type": "markdown",
      "metadata": {
        "id": "JEshpO8V92Xv"
      },
      "source": [
        "The model is \n",
        "$$\n",
        "model(x) = A x + b\n",
        "$$\n",
        "\n",
        "With $input\\_dim = output\\_dim = 1$ we have $A:=a\\in\\mathbb{R},\\ b\\in\\mathbb{R}$. \n",
        "\n",
        "For a data pair $(x, y)$ the loss is\n",
        "\\begin{align*}\n",
        "L(x, y) \n",
        "&= \\|model(x)-y\\|_2^2\\\\ \n",
        "&= (model(x)-y)^2\\\\\n",
        "&= (a x + b - y)^2\\\\\n",
        "&= a^2 x^2 + 2 a b x - 2 a xy + b^2 -2 b y + y^2.\n",
        "\\end{align*}\n",
        "\n",
        "We can compute\n",
        "\\begin{align*}\n",
        "\\nabla_a L(x, y) \n",
        "&= 2 a x^2 + 2 b x - 2 xy\n",
        "=2 x (a x + b - y)\\\\\n",
        "\\nabla_b L(x, y)\n",
        "&= 2 a x + 2 b - 2 y\n",
        "= 2 (ax + b - y).\n",
        "\\end{align*}\n"
      ]
    },
    {
      "cell_type": "code",
      "metadata": {
        "id": "C0FeHXr-92Xv"
      },
      "source": [
        "x = torch.randn(1, input_dim)\n",
        "y =  torch.randn(1, output_dim)\n",
        "\n",
        "model.zero_grad()\n",
        "loss = loss_fun(model.forward(x),  y)\n",
        "loss.backward()"
      ],
      "execution_count": 28,
      "outputs": []
    },
    {
      "cell_type": "code",
      "metadata": {
        "id": "JZ-rBoXy92Xv",
        "colab": {
          "base_uri": "https://localhost:8080/"
        },
        "outputId": "a0db5498-9b52-41f3-f7f1-8de725e716c1"
      },
      "source": [
        "if input_dim == output_dim == 1:\n",
        "    print(model.linear.weight.grad)\n",
        "    print(2 * x * (model.linear.weight * x + model.linear.bias - y))\n",
        "    \n",
        "    print(model.linear.bias.grad)\n",
        "    print(2 * (model.linear.weight * x + model.linear.bias - y))"
      ],
      "execution_count": 29,
      "outputs": [
        {
          "output_type": "stream",
          "name": "stdout",
          "text": [
            "tensor([[2.5807]])\n",
            "tensor([[2.5807]], grad_fn=<MulBackward0>)\n",
            "tensor([3.8625])\n",
            "tensor([[3.8625]], grad_fn=<MulBackward0>)\n"
          ]
        }
      ]
    },
    {
      "cell_type": "markdown",
      "metadata": {
        "id": "9OrvzKKc92Xv"
      },
      "source": [
        "### Handmade optimization"
      ]
    },
    {
      "cell_type": "code",
      "metadata": {
        "id": "IwufHklh92Xv"
      },
      "source": [
        "if input_dim == output_dim == 1:\n",
        "\n",
        "    num_iter = 200\n",
        "    lr = 0.5 # 0.01\n",
        "\n",
        "    train_hist = {}\n",
        "    train_hist['weight'] = []\n",
        "    train_hist['bias'] = []\n",
        "\n",
        "    model.reset()\n",
        "    state_dict = model.state_dict()\n",
        "\n",
        "    for _ in range(num_iter):\n",
        "\n",
        "        model.zero_grad()\n",
        "        loss = loss_fun(model.forward(training_set.input_data), training_set.output_data)\n",
        "        loss.backward()\n",
        "\n",
        "        w = model.linear.weight.item()\n",
        "        b = model.linear.bias.item()\n",
        "\n",
        "        dw = model.linear.weight.grad.item()\n",
        "        db = model.linear.bias.grad.item()\n",
        "\n",
        "        state_dict['linear.weight'] += torch.tensor([-lr * dw])\n",
        "        state_dict['linear.bias'] += torch.tensor([-lr * db])\n",
        "        model.load_state_dict(state_dict)\n",
        "\n",
        "        train_hist['weight'].append(w)\n",
        "        train_hist['bias'].append(b)\n",
        "\n",
        "    for label in train_hist:\n",
        "        train_hist[label] = np.array(train_hist[label])"
      ],
      "execution_count": 30,
      "outputs": []
    },
    {
      "cell_type": "code",
      "metadata": {
        "id": "yoM2clmT92Xw",
        "colab": {
          "base_uri": "https://localhost:8080/",
          "height": 501
        },
        "outputId": "652e156d-7eb9-40c6-c5b9-d56c8b421445"
      },
      "source": [
        "if input_dim == output_dim == 1:\n",
        "    fig = plt.figure(figsize=(8, 8))\n",
        "    fig.clf()\n",
        "    ax = fig.gca()\n",
        "    levels = np.logspace(np.log(np.min(loss_values)), np.log(np.max(loss_values)), 20)\n",
        "    ax.contourf(ww, bb, loss_values, levels=levels, norm=colors.LogNorm())\n",
        "    ax.set_xlabel('weight')\n",
        "    ax.set_ylabel('bias')\n",
        "    ax.grid(True)\n",
        "    ax.set_xlim(-2, 2) \n",
        "    ax.set_ylim(-2, 2) \n",
        "    \n",
        "    ax.plot(train_hist['weight'], train_hist['bias'], '.-b')\n",
        "    ax.plot(A[0], b, 'r*', markersize=10)\n",
        "\n",
        "    ax.legend(['optim', '(A, b)'])"
      ],
      "execution_count": 31,
      "outputs": [
        {
          "output_type": "display_data",
          "data": {
            "image/png": "[encoded data removed]",
            "text/plain": [
              "<Figure size 576x576 with 1 Axes>"
            ]
          },
          "metadata": {
            "needs_background": "light"
          }
        }
      ]
    },
    {
      "cell_type": "markdown",
      "metadata": {
        "id": "nEjEQ1Yw92Xw"
      },
      "source": [
        "### Stochastic GD"
      ]
    },
    {
      "cell_type": "markdown",
      "metadata": {
        "id": "Ai1BpOW892Xw"
      },
      "source": [
        "* Avoid loading the full training set\n",
        "* Avoid evaluating the model on the full training set"
      ]
    },
    {
      "cell_type": "markdown",
      "metadata": {
        "id": "5_T884Z_92Xw"
      },
      "source": [
        "At every step, compute the loss on a batch of data $(X^{(k)}, y^{(k)})\\sim (X_{train}, y_{train})$: \n",
        "\n",
        "\\begin{align*}\n",
        "L(X^{(k)}, y^{(k)}) := \\sum_{(x, y) \\in (X^{(k)}, y^{(k)})} L(x, model(x)).\n",
        "\\end{align*}    \n",
        "\n",
        "and then update with this approximated gradient:\n",
        "\\begin{align*}\n",
        "par^{(k+1)} &=  par^{(k)} - \\eta^{(k)} \\nabla_{par} L(X^{(k)}, y^{(k)}). \n",
        "\\end{align*}    "
      ]
    },
    {
      "cell_type": "markdown",
      "metadata": {
        "id": "3HmRlZbR92Xw"
      },
      "source": [
        "### PyTorch `optim`"
      ]
    },
    {
      "cell_type": "code",
      "metadata": {
        "id": "uKF878or92Xw"
      },
      "source": [
        "lr = 0.1\n",
        "weight_decay = 5e-4\n",
        "optimizer = torch.optim.Adam(model.parameters(), lr=lr, weight_decay=weight_decay)"
      ],
      "execution_count": 32,
      "outputs": []
    },
    {
      "cell_type": "markdown",
      "metadata": {
        "id": "8Qd3f2gV92Xw"
      },
      "source": [
        "More at [pytorch.org/docs/stable/optim.html](https://pytorch.org/docs/stable/optim.html)."
      ]
    },
    {
      "cell_type": "code",
      "metadata": {
        "id": "I1J5Kc_X92Xw"
      },
      "source": [
        "n_epochs = 100"
      ],
      "execution_count": 33,
      "outputs": []
    },
    {
      "cell_type": "code",
      "metadata": {
        "id": "pFfa-7Uc92Xw",
        "colab": {
          "base_uri": "https://localhost:8080/"
        },
        "outputId": "0d6c8ae3-d1b9-428e-cc40-db27612f5d31"
      },
      "source": [
        "train_hist = {}\n",
        "train_hist['loss'] = []\n",
        "\n",
        "if input_dim == output_dim == 1:\n",
        "    train_hist['weight'] = []\n",
        "    train_hist['bias'] = []\n",
        "\n",
        "# Initialize training\n",
        "model.reset()\n",
        "model.train()\n",
        "\n",
        "for epoch in range(n_epochs):\n",
        "    for idx, batch in enumerate(train_loader):\n",
        "        optimizer.zero_grad()\n",
        "        loss = loss_fun(model.forward(batch[0]),  batch[1])\n",
        "        loss.backward()\n",
        "        optimizer.step()\n",
        "\n",
        "        train_hist['loss'].append(loss.item())\n",
        "        if input_dim == output_dim == 1:\n",
        "            train_hist['weight'].append(model.linear.weight.item())\n",
        "            train_hist['bias'].append(model.linear.bias.item())\n",
        "        \n",
        "        print('[Epoch %4d/%4d] [Batch %4d/%4d] Loss: % 2.2e' % (epoch + 1, n_epochs, \n",
        "                                                                idx + 1, len(train_loader), \n",
        "                                                                loss.item()))\n",
        "        \n",
        "model.eval()"
      ],
      "execution_count": 34,
      "outputs": [
        {
          "output_type": "stream",
          "name": "stdout",
          "text": [
            "[Epoch    1/ 100] [Batch    1/   9] Loss:  2.68e-01\n",
            "[Epoch    1/ 100] [Batch    2/   9] Loss:  2.32e-01\n",
            "[Epoch    1/ 100] [Batch    3/   9] Loss:  2.04e-01\n",
            "[Epoch    1/ 100] [Batch    4/   9] Loss:  1.78e-01\n",
            "[Epoch    1/ 100] [Batch    5/   9] Loss:  1.91e-01\n",
            "[Epoch    1/ 100] [Batch    6/   9] Loss:  1.64e-01\n",
            "[Epoch    1/ 100] [Batch    7/   9] Loss:  1.22e-01\n",
            "[Epoch    1/ 100] [Batch    8/   9] Loss:  1.45e-01\n",
            "[Epoch    1/ 100] [Batch    9/   9] Loss:  1.09e-01\n",
            "[Epoch    2/ 100] [Batch    1/   9] Loss:  8.17e-02\n",
            "[Epoch    2/ 100] [Batch    2/   9] Loss:  8.28e-02\n",
            "[Epoch    2/ 100] [Batch    3/   9] Loss:  7.02e-02\n",
            "[Epoch    2/ 100] [Batch    4/   9] Loss:  5.08e-02\n",
            "[Epoch    2/ 100] [Batch    5/   9] Loss:  5.03e-02\n",
            "[Epoch    2/ 100] [Batch    6/   9] Loss:  3.17e-02\n",
            "[Epoch    2/ 100] [Batch    7/   9] Loss:  2.89e-02\n",
            "[Epoch    2/ 100] [Batch    8/   9] Loss:  2.46e-02\n",
            "[Epoch    2/ 100] [Batch    9/   9] Loss:  2.23e-02\n",
            "[Epoch    3/ 100] [Batch    1/   9] Loss:  1.20e-02\n",
            "[Epoch    3/ 100] [Batch    2/   9] Loss:  1.01e-02\n",
            "[Epoch    3/ 100] [Batch    3/   9] Loss:  7.31e-03\n",
            "[Epoch    3/ 100] [Batch    4/   9] Loss:  5.30e-03\n",
            "[Epoch    3/ 100] [Batch    5/   9] Loss:  4.12e-03\n",
            "[Epoch    3/ 100] [Batch    6/   9] Loss:  3.80e-03\n",
            "[Epoch    3/ 100] [Batch    7/   9] Loss:  2.59e-03\n",
            "[Epoch    3/ 100] [Batch    8/   9] Loss:  1.38e-03\n",
            "[Epoch    3/ 100] [Batch    9/   9] Loss:  1.96e-03\n",
            "[Epoch    4/ 100] [Batch    1/   9] Loss:  2.11e-03\n",
            "[Epoch    4/ 100] [Batch    2/   9] Loss:  2.40e-03\n",
            "[Epoch    4/ 100] [Batch    3/   9] Loss:  3.45e-03\n",
            "[Epoch    4/ 100] [Batch    4/   9] Loss:  3.64e-03\n",
            "[Epoch    4/ 100] [Batch    5/   9] Loss:  4.36e-03\n",
            "[Epoch    4/ 100] [Batch    6/   9] Loss:  4.77e-03\n",
            "[Epoch    4/ 100] [Batch    7/   9] Loss:  5.49e-03\n",
            "[Epoch    4/ 100] [Batch    8/   9] Loss:  5.24e-03\n",
            "[Epoch    4/ 100] [Batch    9/   9] Loss:  5.43e-03\n",
            "[Epoch    5/ 100] [Batch    1/   9] Loss:  5.99e-03\n",
            "[Epoch    5/ 100] [Batch    2/   9] Loss:  6.87e-03\n",
            "[Epoch    5/ 100] [Batch    3/   9] Loss:  4.86e-03\n",
            "[Epoch    5/ 100] [Batch    4/   9] Loss:  5.20e-03\n",
            "[Epoch    5/ 100] [Batch    5/   9] Loss:  5.31e-03\n",
            "[Epoch    5/ 100] [Batch    6/   9] Loss:  4.74e-03\n",
            "[Epoch    5/ 100] [Batch    7/   9] Loss:  4.24e-03\n",
            "[Epoch    5/ 100] [Batch    8/   9] Loss:  4.59e-03\n",
            "[Epoch    5/ 100] [Batch    9/   9] Loss:  4.11e-03\n",
            "[Epoch    6/ 100] [Batch    1/   9] Loss:  3.55e-03\n",
            "[Epoch    6/ 100] [Batch    2/   9] Loss:  4.21e-03\n",
            "[Epoch    6/ 100] [Batch    3/   9] Loss:  3.33e-03\n",
            "[Epoch    6/ 100] [Batch    4/   9] Loss:  2.31e-03\n",
            "[Epoch    6/ 100] [Batch    5/   9] Loss:  2.38e-03\n",
            "[Epoch    6/ 100] [Batch    6/   9] Loss:  2.81e-03\n",
            "[Epoch    6/ 100] [Batch    7/   9] Loss:  1.76e-03\n",
            "[Epoch    6/ 100] [Batch    8/   9] Loss:  1.79e-03\n",
            "[Epoch    6/ 100] [Batch    9/   9] Loss:  2.51e-03\n",
            "[Epoch    7/ 100] [Batch    1/   9] Loss:  2.35e-03\n",
            "[Epoch    7/ 100] [Batch    2/   9] Loss:  1.60e-03\n",
            "[Epoch    7/ 100] [Batch    3/   9] Loss:  1.80e-03\n",
            "[Epoch    7/ 100] [Batch    4/   9] Loss:  1.88e-03\n",
            "[Epoch    7/ 100] [Batch    5/   9] Loss:  2.05e-03\n",
            "[Epoch    7/ 100] [Batch    6/   9] Loss:  1.74e-03\n",
            "[Epoch    7/ 100] [Batch    7/   9] Loss:  1.63e-03\n",
            "[Epoch    7/ 100] [Batch    8/   9] Loss:  1.65e-03\n",
            "[Epoch    7/ 100] [Batch    9/   9] Loss:  1.33e-03\n",
            "[Epoch    8/ 100] [Batch    1/   9] Loss:  1.79e-03\n",
            "[Epoch    8/ 100] [Batch    2/   9] Loss:  1.97e-03\n",
            "[Epoch    8/ 100] [Batch    3/   9] Loss:  2.06e-03\n",
            "[Epoch    8/ 100] [Batch    4/   9] Loss:  2.38e-03\n",
            "[Epoch    8/ 100] [Batch    5/   9] Loss:  1.60e-03\n",
            "[Epoch    8/ 100] [Batch    6/   9] Loss:  2.12e-03\n",
            "[Epoch    8/ 100] [Batch    7/   9] Loss:  1.48e-03\n",
            "[Epoch    8/ 100] [Batch    8/   9] Loss:  1.90e-03\n",
            "[Epoch    8/ 100] [Batch    9/   9] Loss:  1.27e-03\n",
            "[Epoch    9/ 100] [Batch    1/   9] Loss:  1.61e-03\n",
            "[Epoch    9/ 100] [Batch    2/   9] Loss:  2.22e-03\n",
            "[Epoch    9/ 100] [Batch    3/   9] Loss:  1.64e-03\n",
            "[Epoch    9/ 100] [Batch    4/   9] Loss:  1.88e-03\n",
            "[Epoch    9/ 100] [Batch    5/   9] Loss:  1.56e-03\n",
            "[Epoch    9/ 100] [Batch    6/   9] Loss:  1.51e-03\n",
            "[Epoch    9/ 100] [Batch    7/   9] Loss:  1.85e-03\n",
            "[Epoch    9/ 100] [Batch    8/   9] Loss:  1.84e-03\n",
            "[Epoch    9/ 100] [Batch    9/   9] Loss:  1.71e-03\n",
            "[Epoch   10/ 100] [Batch    1/   9] Loss:  1.46e-03\n",
            "[Epoch   10/ 100] [Batch    2/   9] Loss:  1.43e-03\n",
            "[Epoch   10/ 100] [Batch    3/   9] Loss:  1.35e-03\n",
            "[Epoch   10/ 100] [Batch    4/   9] Loss:  1.61e-03\n",
            "[Epoch   10/ 100] [Batch    5/   9] Loss:  1.91e-03\n",
            "[Epoch   10/ 100] [Batch    6/   9] Loss:  2.04e-03\n",
            "[Epoch   10/ 100] [Batch    7/   9] Loss:  1.63e-03\n",
            "[Epoch   10/ 100] [Batch    8/   9] Loss:  1.72e-03\n",
            "[Epoch   10/ 100] [Batch    9/   9] Loss:  2.15e-03\n",
            "[Epoch   11/ 100] [Batch    1/   9] Loss:  1.71e-03\n",
            "[Epoch   11/ 100] [Batch    2/   9] Loss:  2.26e-03\n",
            "[Epoch   11/ 100] [Batch    3/   9] Loss:  1.35e-03\n",
            "[Epoch   11/ 100] [Batch    4/   9] Loss:  1.74e-03\n",
            "[Epoch   11/ 100] [Batch    5/   9] Loss:  1.75e-03\n",
            "[Epoch   11/ 100] [Batch    6/   9] Loss:  1.56e-03\n",
            "[Epoch   11/ 100] [Batch    7/   9] Loss:  1.59e-03\n",
            "[Epoch   11/ 100] [Batch    8/   9] Loss:  1.51e-03\n",
            "[Epoch   11/ 100] [Batch    9/   9] Loss:  1.18e-03\n",
            "[Epoch   12/ 100] [Batch    1/   9] Loss:  1.46e-03\n",
            "[Epoch   12/ 100] [Batch    2/   9] Loss:  2.04e-03\n",
            "[Epoch   12/ 100] [Batch    3/   9] Loss:  1.37e-03\n",
            "[Epoch   12/ 100] [Batch    4/   9] Loss:  1.58e-03\n",
            "[Epoch   12/ 100] [Batch    5/   9] Loss:  1.56e-03\n",
            "[Epoch   12/ 100] [Batch    6/   9] Loss:  1.58e-03\n",
            "[Epoch   12/ 100] [Batch    7/   9] Loss:  2.21e-03\n",
            "[Epoch   12/ 100] [Batch    8/   9] Loss:  1.41e-03\n",
            "[Epoch   12/ 100] [Batch    9/   9] Loss:  1.84e-03\n",
            "[Epoch   13/ 100] [Batch    1/   9] Loss:  1.49e-03\n",
            "[Epoch   13/ 100] [Batch    2/   9] Loss:  1.87e-03\n",
            "[Epoch   13/ 100] [Batch    3/   9] Loss:  1.54e-03\n",
            "[Epoch   13/ 100] [Batch    4/   9] Loss:  1.62e-03\n",
            "[Epoch   13/ 100] [Batch    5/   9] Loss:  1.70e-03\n",
            "[Epoch   13/ 100] [Batch    6/   9] Loss:  1.60e-03\n",
            "[Epoch   13/ 100] [Batch    7/   9] Loss:  1.63e-03\n",
            "[Epoch   13/ 100] [Batch    8/   9] Loss:  1.88e-03\n",
            "[Epoch   13/ 100] [Batch    9/   9] Loss:  1.93e-03\n",
            "[Epoch   14/ 100] [Batch    1/   9] Loss:  1.66e-03\n",
            "[Epoch   14/ 100] [Batch    2/   9] Loss:  1.72e-03\n",
            "[Epoch   14/ 100] [Batch    3/   9] Loss:  1.40e-03\n",
            "[Epoch   14/ 100] [Batch    4/   9] Loss:  1.60e-03\n",
            "[Epoch   14/ 100] [Batch    5/   9] Loss:  1.86e-03\n",
            "[Epoch   14/ 100] [Batch    6/   9] Loss:  1.86e-03\n",
            "[Epoch   14/ 100] [Batch    7/   9] Loss:  1.58e-03\n",
            "[Epoch   14/ 100] [Batch    8/   9] Loss:  1.80e-03\n",
            "[Epoch   14/ 100] [Batch    9/   9] Loss:  2.26e-03\n",
            "[Epoch   15/ 100] [Batch    1/   9] Loss:  1.42e-03\n",
            "[Epoch   15/ 100] [Batch    2/   9] Loss:  1.64e-03\n",
            "[Epoch   15/ 100] [Batch    3/   9] Loss:  1.94e-03\n",
            "[Epoch   15/ 100] [Batch    4/   9] Loss:  1.66e-03\n",
            "[Epoch   15/ 100] [Batch    5/   9] Loss:  1.85e-03\n",
            "[Epoch   15/ 100] [Batch    6/   9] Loss:  1.70e-03\n",
            "[Epoch   15/ 100] [Batch    7/   9] Loss:  1.55e-03\n",
            "[Epoch   15/ 100] [Batch    8/   9] Loss:  1.57e-03\n",
            "[Epoch   15/ 100] [Batch    9/   9] Loss:  1.55e-03\n",
            "[Epoch   16/ 100] [Batch    1/   9] Loss:  1.36e-03\n",
            "[Epoch   16/ 100] [Batch    2/   9] Loss:  1.30e-03\n",
            "[Epoch   16/ 100] [Batch    3/   9] Loss:  1.92e-03\n",
            "[Epoch   16/ 100] [Batch    4/   9] Loss:  1.55e-03\n",
            "[Epoch   16/ 100] [Batch    5/   9] Loss:  1.61e-03\n",
            "[Epoch   16/ 100] [Batch    6/   9] Loss:  1.77e-03\n",
            "[Epoch   16/ 100] [Batch    7/   9] Loss:  2.11e-03\n",
            "[Epoch   16/ 100] [Batch    8/   9] Loss:  1.70e-03\n",
            "[Epoch   16/ 100] [Batch    9/   9] Loss:  1.48e-03\n",
            "[Epoch   17/ 100] [Batch    1/   9] Loss:  1.85e-03\n",
            "[Epoch   17/ 100] [Batch    2/   9] Loss:  1.42e-03\n",
            "[Epoch   17/ 100] [Batch    3/   9] Loss:  1.52e-03\n",
            "[Epoch   17/ 100] [Batch    4/   9] Loss:  1.99e-03\n",
            "[Epoch   17/ 100] [Batch    5/   9] Loss:  1.83e-03\n",
            "[Epoch   17/ 100] [Batch    6/   9] Loss:  1.75e-03\n",
            "[Epoch   17/ 100] [Batch    7/   9] Loss:  1.34e-03\n",
            "[Epoch   17/ 100] [Batch    8/   9] Loss:  1.67e-03\n",
            "[Epoch   17/ 100] [Batch    9/   9] Loss:  1.84e-03\n",
            "[Epoch   18/ 100] [Batch    1/   9] Loss:  1.67e-03\n",
            "[Epoch   18/ 100] [Batch    2/   9] Loss:  1.67e-03\n",
            "[Epoch   18/ 100] [Batch    3/   9] Loss:  1.39e-03\n",
            "[Epoch   18/ 100] [Batch    4/   9] Loss:  1.47e-03\n",
            "[Epoch   18/ 100] [Batch    5/   9] Loss:  1.49e-03\n",
            "[Epoch   18/ 100] [Batch    6/   9] Loss:  1.89e-03\n",
            "[Epoch   18/ 100] [Batch    7/   9] Loss:  1.92e-03\n",
            "[Epoch   18/ 100] [Batch    8/   9] Loss:  1.97e-03\n",
            "[Epoch   18/ 100] [Batch    9/   9] Loss:  1.12e-03\n",
            "[Epoch   19/ 100] [Batch    1/   9] Loss:  1.46e-03\n",
            "[Epoch   19/ 100] [Batch    2/   9] Loss:  1.79e-03\n",
            "[Epoch   19/ 100] [Batch    3/   9] Loss:  1.77e-03\n",
            "[Epoch   19/ 100] [Batch    4/   9] Loss:  1.91e-03\n",
            "[Epoch   19/ 100] [Batch    5/   9] Loss:  1.74e-03\n",
            "[Epoch   19/ 100] [Batch    6/   9] Loss:  1.68e-03\n",
            "[Epoch   19/ 100] [Batch    7/   9] Loss:  1.67e-03\n",
            "[Epoch   19/ 100] [Batch    8/   9] Loss:  1.58e-03\n",
            "[Epoch   19/ 100] [Batch    9/   9] Loss:  1.65e-03\n",
            "[Epoch   20/ 100] [Batch    1/   9] Loss:  2.70e-03\n",
            "[Epoch   20/ 100] [Batch    2/   9] Loss:  1.93e-03\n",
            "[Epoch   20/ 100] [Batch    3/   9] Loss:  1.66e-03\n",
            "[Epoch   20/ 100] [Batch    4/   9] Loss:  1.56e-03\n",
            "[Epoch   20/ 100] [Batch    5/   9] Loss:  1.57e-03\n",
            "[Epoch   20/ 100] [Batch    6/   9] Loss:  1.68e-03\n",
            "[Epoch   20/ 100] [Batch    7/   9] Loss:  2.10e-03\n",
            "[Epoch   20/ 100] [Batch    8/   9] Loss:  1.51e-03\n",
            "[Epoch   20/ 100] [Batch    9/   9] Loss:  1.27e-03\n",
            "[Epoch   21/ 100] [Batch    1/   9] Loss:  1.86e-03\n",
            "[Epoch   21/ 100] [Batch    2/   9] Loss:  2.41e-03\n",
            "[Epoch   21/ 100] [Batch    3/   9] Loss:  1.53e-03\n",
            "[Epoch   21/ 100] [Batch    4/   9] Loss:  1.48e-03\n",
            "[Epoch   21/ 100] [Batch    5/   9] Loss:  1.84e-03\n",
            "[Epoch   21/ 100] [Batch    6/   9] Loss:  1.85e-03\n",
            "[Epoch   21/ 100] [Batch    7/   9] Loss:  1.88e-03\n",
            "[Epoch   21/ 100] [Batch    8/   9] Loss:  1.58e-03\n",
            "[Epoch   21/ 100] [Batch    9/   9] Loss:  1.53e-03\n",
            "[Epoch   22/ 100] [Batch    1/   9] Loss:  1.86e-03\n",
            "[Epoch   22/ 100] [Batch    2/   9] Loss:  1.63e-03\n",
            "[Epoch   22/ 100] [Batch    3/   9] Loss:  1.90e-03\n",
            "[Epoch   22/ 100] [Batch    4/   9] Loss:  2.17e-03\n",
            "[Epoch   22/ 100] [Batch    5/   9] Loss:  1.37e-03\n",
            "[Epoch   22/ 100] [Batch    6/   9] Loss:  1.51e-03\n",
            "[Epoch   22/ 100] [Batch    7/   9] Loss:  1.82e-03\n",
            "[Epoch   22/ 100] [Batch    8/   9] Loss:  1.40e-03\n",
            "[Epoch   22/ 100] [Batch    9/   9] Loss:  2.48e-03\n",
            "[Epoch   23/ 100] [Batch    1/   9] Loss:  1.59e-03\n",
            "[Epoch   23/ 100] [Batch    2/   9] Loss:  1.85e-03\n",
            "[Epoch   23/ 100] [Batch    3/   9] Loss:  1.53e-03\n",
            "[Epoch   23/ 100] [Batch    4/   9] Loss:  1.49e-03\n",
            "[Epoch   23/ 100] [Batch    5/   9] Loss:  1.79e-03\n",
            "[Epoch   23/ 100] [Batch    6/   9] Loss:  1.71e-03\n",
            "[Epoch   23/ 100] [Batch    7/   9] Loss:  1.49e-03\n",
            "[Epoch   23/ 100] [Batch    8/   9] Loss:  2.45e-03\n",
            "[Epoch   23/ 100] [Batch    9/   9] Loss:  1.37e-03\n",
            "[Epoch   24/ 100] [Batch    1/   9] Loss:  1.69e-03\n",
            "[Epoch   24/ 100] [Batch    2/   9] Loss:  1.78e-03\n",
            "[Epoch   24/ 100] [Batch    3/   9] Loss:  2.12e-03\n",
            "[Epoch   24/ 100] [Batch    4/   9] Loss:  2.03e-03\n",
            "[Epoch   24/ 100] [Batch    5/   9] Loss:  1.21e-03\n",
            "[Epoch   24/ 100] [Batch    6/   9] Loss:  1.73e-03\n",
            "[Epoch   24/ 100] [Batch    7/   9] Loss:  1.69e-03\n",
            "[Epoch   24/ 100] [Batch    8/   9] Loss:  1.42e-03\n",
            "[Epoch   24/ 100] [Batch    9/   9] Loss:  1.37e-03\n",
            "[Epoch   25/ 100] [Batch    1/   9] Loss:  1.99e-03\n",
            "[Epoch   25/ 100] [Batch    2/   9] Loss:  2.10e-03\n",
            "[Epoch   25/ 100] [Batch    3/   9] Loss:  1.89e-03\n",
            "[Epoch   25/ 100] [Batch    4/   9] Loss:  1.54e-03\n",
            "[Epoch   25/ 100] [Batch    5/   9] Loss:  1.45e-03\n",
            "[Epoch   25/ 100] [Batch    6/   9] Loss:  1.48e-03\n",
            "[Epoch   25/ 100] [Batch    7/   9] Loss:  1.21e-03\n",
            "[Epoch   25/ 100] [Batch    8/   9] Loss:  1.57e-03\n",
            "[Epoch   25/ 100] [Batch    9/   9] Loss:  2.21e-03\n",
            "[Epoch   26/ 100] [Batch    1/   9] Loss:  1.78e-03\n",
            "[Epoch   26/ 100] [Batch    2/   9] Loss:  1.71e-03\n",
            "[Epoch   26/ 100] [Batch    3/   9] Loss:  1.54e-03\n",
            "[Epoch   26/ 100] [Batch    4/   9] Loss:  1.86e-03\n",
            "[Epoch   26/ 100] [Batch    5/   9] Loss:  2.00e-03\n",
            "[Epoch   26/ 100] [Batch    6/   9] Loss:  1.28e-03\n",
            "[Epoch   26/ 100] [Batch    7/   9] Loss:  1.95e-03\n",
            "[Epoch   26/ 100] [Batch    8/   9] Loss:  1.59e-03\n",
            "[Epoch   26/ 100] [Batch    9/   9] Loss:  1.62e-03\n",
            "[Epoch   27/ 100] [Batch    1/   9] Loss:  1.36e-03\n",
            "[Epoch   27/ 100] [Batch    2/   9] Loss:  1.80e-03\n",
            "[Epoch   27/ 100] [Batch    3/   9] Loss:  1.71e-03\n",
            "[Epoch   27/ 100] [Batch    4/   9] Loss:  1.65e-03\n",
            "[Epoch   27/ 100] [Batch    5/   9] Loss:  1.81e-03\n",
            "[Epoch   27/ 100] [Batch    6/   9] Loss:  1.86e-03\n",
            "[Epoch   27/ 100] [Batch    7/   9] Loss:  1.62e-03\n",
            "[Epoch   27/ 100] [Batch    8/   9] Loss:  1.68e-03\n",
            "[Epoch   27/ 100] [Batch    9/   9] Loss:  1.80e-03\n",
            "[Epoch   28/ 100] [Batch    1/   9] Loss:  1.63e-03\n",
            "[Epoch   28/ 100] [Batch    2/   9] Loss:  1.93e-03\n",
            "[Epoch   28/ 100] [Batch    3/   9] Loss:  1.60e-03\n",
            "[Epoch   28/ 100] [Batch    4/   9] Loss:  1.80e-03\n",
            "[Epoch   28/ 100] [Batch    5/   9] Loss:  1.59e-03\n",
            "[Epoch   28/ 100] [Batch    6/   9] Loss:  2.01e-03\n",
            "[Epoch   28/ 100] [Batch    7/   9] Loss:  1.60e-03\n",
            "[Epoch   28/ 100] [Batch    8/   9] Loss:  1.48e-03\n",
            "[Epoch   28/ 100] [Batch    9/   9] Loss:  8.21e-04\n",
            "[Epoch   29/ 100] [Batch    1/   9] Loss:  1.65e-03\n",
            "[Epoch   29/ 100] [Batch    2/   9] Loss:  1.63e-03\n",
            "[Epoch   29/ 100] [Batch    3/   9] Loss:  1.42e-03\n",
            "[Epoch   29/ 100] [Batch    4/   9] Loss:  1.34e-03\n",
            "[Epoch   29/ 100] [Batch    5/   9] Loss:  1.77e-03\n",
            "[Epoch   29/ 100] [Batch    6/   9] Loss:  2.10e-03\n",
            "[Epoch   29/ 100] [Batch    7/   9] Loss:  1.70e-03\n",
            "[Epoch   29/ 100] [Batch    8/   9] Loss:  1.58e-03\n",
            "[Epoch   29/ 100] [Batch    9/   9] Loss:  2.28e-03\n",
            "[Epoch   30/ 100] [Batch    1/   9] Loss:  1.89e-03\n",
            "[Epoch   30/ 100] [Batch    2/   9] Loss:  2.05e-03\n",
            "[Epoch   30/ 100] [Batch    3/   9] Loss:  1.60e-03\n",
            "[Epoch   30/ 100] [Batch    4/   9] Loss:  1.74e-03\n",
            "[Epoch   30/ 100] [Batch    5/   9] Loss:  1.50e-03\n",
            "[Epoch   30/ 100] [Batch    6/   9] Loss:  1.54e-03\n",
            "[Epoch   30/ 100] [Batch    7/   9] Loss:  1.38e-03\n",
            "[Epoch   30/ 100] [Batch    8/   9] Loss:  1.60e-03\n",
            "[Epoch   30/ 100] [Batch    9/   9] Loss:  1.82e-03\n",
            "[Epoch   31/ 100] [Batch    1/   9] Loss:  1.40e-03\n",
            "[Epoch   31/ 100] [Batch    2/   9] Loss:  1.89e-03\n",
            "[Epoch   31/ 100] [Batch    3/   9] Loss:  1.62e-03\n",
            "[Epoch   31/ 100] [Batch    4/   9] Loss:  1.57e-03\n",
            "[Epoch   31/ 100] [Batch    5/   9] Loss:  1.60e-03\n",
            "[Epoch   31/ 100] [Batch    6/   9] Loss:  1.97e-03\n",
            "[Epoch   31/ 100] [Batch    7/   9] Loss:  1.97e-03\n",
            "[Epoch   31/ 100] [Batch    8/   9] Loss:  2.02e-03\n",
            "[Epoch   31/ 100] [Batch    9/   9] Loss:  1.20e-03\n",
            "[Epoch   32/ 100] [Batch    1/   9] Loss:  1.70e-03\n",
            "[Epoch   32/ 100] [Batch    2/   9] Loss:  1.59e-03\n",
            "[Epoch   32/ 100] [Batch    3/   9] Loss:  1.35e-03\n",
            "[Epoch   32/ 100] [Batch    4/   9] Loss:  1.80e-03\n",
            "[Epoch   32/ 100] [Batch    5/   9] Loss:  1.66e-03\n",
            "[Epoch   32/ 100] [Batch    6/   9] Loss:  1.63e-03\n",
            "[Epoch   32/ 100] [Batch    7/   9] Loss:  1.86e-03\n",
            "[Epoch   32/ 100] [Batch    8/   9] Loss:  1.68e-03\n",
            "[Epoch   32/ 100] [Batch    9/   9] Loss:  1.84e-03\n",
            "[Epoch   33/ 100] [Batch    1/   9] Loss:  1.33e-03\n",
            "[Epoch   33/ 100] [Batch    2/   9] Loss:  1.71e-03\n",
            "[Epoch   33/ 100] [Batch    3/   9] Loss:  1.12e-03\n",
            "[Epoch   33/ 100] [Batch    4/   9] Loss:  1.75e-03\n",
            "[Epoch   33/ 100] [Batch    5/   9] Loss:  1.83e-03\n",
            "[Epoch   33/ 100] [Batch    6/   9] Loss:  1.91e-03\n",
            "[Epoch   33/ 100] [Batch    7/   9] Loss:  1.52e-03\n",
            "[Epoch   33/ 100] [Batch    8/   9] Loss:  2.13e-03\n",
            "[Epoch   33/ 100] [Batch    9/   9] Loss:  1.71e-03\n",
            "[Epoch   34/ 100] [Batch    1/   9] Loss:  1.77e-03\n",
            "[Epoch   34/ 100] [Batch    2/   9] Loss:  1.70e-03\n",
            "[Epoch   34/ 100] [Batch    3/   9] Loss:  1.96e-03\n",
            "[Epoch   34/ 100] [Batch    4/   9] Loss:  1.70e-03\n",
            "[Epoch   34/ 100] [Batch    5/   9] Loss:  1.57e-03\n",
            "[Epoch   34/ 100] [Batch    6/   9] Loss:  1.32e-03\n",
            "[Epoch   34/ 100] [Batch    7/   9] Loss:  1.75e-03\n",
            "[Epoch   34/ 100] [Batch    8/   9] Loss:  1.80e-03\n",
            "[Epoch   34/ 100] [Batch    9/   9] Loss:  1.55e-03\n",
            "[Epoch   35/ 100] [Batch    1/   9] Loss:  1.26e-03\n",
            "[Epoch   35/ 100] [Batch    2/   9] Loss:  1.70e-03\n",
            "[Epoch   35/ 100] [Batch    3/   9] Loss:  1.56e-03\n",
            "[Epoch   35/ 100] [Batch    4/   9] Loss:  1.90e-03\n",
            "[Epoch   35/ 100] [Batch    5/   9] Loss:  1.71e-03\n",
            "[Epoch   35/ 100] [Batch    6/   9] Loss:  1.88e-03\n",
            "[Epoch   35/ 100] [Batch    7/   9] Loss:  1.72e-03\n",
            "[Epoch   35/ 100] [Batch    8/   9] Loss:  1.60e-03\n",
            "[Epoch   35/ 100] [Batch    9/   9] Loss:  2.17e-03\n",
            "[Epoch   36/ 100] [Batch    1/   9] Loss:  1.65e-03\n",
            "[Epoch   36/ 100] [Batch    2/   9] Loss:  1.56e-03\n",
            "[Epoch   36/ 100] [Batch    3/   9] Loss:  1.65e-03\n",
            "[Epoch   36/ 100] [Batch    4/   9] Loss:  1.77e-03\n",
            "[Epoch   36/ 100] [Batch    5/   9] Loss:  1.80e-03\n",
            "[Epoch   36/ 100] [Batch    6/   9] Loss:  2.16e-03\n",
            "[Epoch   36/ 100] [Batch    7/   9] Loss:  1.68e-03\n",
            "[Epoch   36/ 100] [Batch    8/   9] Loss:  1.82e-03\n",
            "[Epoch   36/ 100] [Batch    9/   9] Loss:  1.44e-03\n",
            "[Epoch   37/ 100] [Batch    1/   9] Loss:  1.96e-03\n",
            "[Epoch   37/ 100] [Batch    2/   9] Loss:  1.69e-03\n",
            "[Epoch   37/ 100] [Batch    3/   9] Loss:  1.60e-03\n",
            "[Epoch   37/ 100] [Batch    4/   9] Loss:  1.77e-03\n",
            "[Epoch   37/ 100] [Batch    5/   9] Loss:  1.58e-03\n",
            "[Epoch   37/ 100] [Batch    6/   9] Loss:  1.89e-03\n",
            "[Epoch   37/ 100] [Batch    7/   9] Loss:  1.72e-03\n",
            "[Epoch   37/ 100] [Batch    8/   9] Loss:  1.63e-03\n",
            "[Epoch   37/ 100] [Batch    9/   9] Loss:  1.38e-03\n",
            "[Epoch   38/ 100] [Batch    1/   9] Loss:  1.60e-03\n",
            "[Epoch   38/ 100] [Batch    2/   9] Loss:  1.75e-03\n",
            "[Epoch   38/ 100] [Batch    3/   9] Loss:  1.80e-03\n",
            "[Epoch   38/ 100] [Batch    4/   9] Loss:  1.84e-03\n",
            "[Epoch   38/ 100] [Batch    5/   9] Loss:  1.86e-03\n",
            "[Epoch   38/ 100] [Batch    6/   9] Loss:  1.68e-03\n",
            "[Epoch   38/ 100] [Batch    7/   9] Loss:  1.75e-03\n",
            "[Epoch   38/ 100] [Batch    8/   9] Loss:  1.33e-03\n",
            "[Epoch   38/ 100] [Batch    9/   9] Loss:  1.73e-03\n",
            "[Epoch   39/ 100] [Batch    1/   9] Loss:  1.76e-03\n",
            "[Epoch   39/ 100] [Batch    2/   9] Loss:  1.79e-03\n",
            "[Epoch   39/ 100] [Batch    3/   9] Loss:  2.08e-03\n",
            "[Epoch   39/ 100] [Batch    4/   9] Loss:  1.97e-03\n",
            "[Epoch   39/ 100] [Batch    5/   9] Loss:  1.64e-03\n",
            "[Epoch   39/ 100] [Batch    6/   9] Loss:  1.65e-03\n",
            "[Epoch   39/ 100] [Batch    7/   9] Loss:  1.47e-03\n",
            "[Epoch   39/ 100] [Batch    8/   9] Loss:  1.64e-03\n",
            "[Epoch   39/ 100] [Batch    9/   9] Loss:  1.38e-03\n",
            "[Epoch   40/ 100] [Batch    1/   9] Loss:  1.94e-03\n",
            "[Epoch   40/ 100] [Batch    2/   9] Loss:  1.37e-03\n",
            "[Epoch   40/ 100] [Batch    3/   9] Loss:  1.64e-03\n",
            "[Epoch   40/ 100] [Batch    4/   9] Loss:  2.12e-03\n",
            "[Epoch   40/ 100] [Batch    5/   9] Loss:  1.50e-03\n",
            "[Epoch   40/ 100] [Batch    6/   9] Loss:  1.55e-03\n",
            "[Epoch   40/ 100] [Batch    7/   9] Loss:  1.47e-03\n",
            "[Epoch   40/ 100] [Batch    8/   9] Loss:  1.74e-03\n",
            "[Epoch   40/ 100] [Batch    9/   9] Loss:  2.20e-03\n",
            "[Epoch   41/ 100] [Batch    1/   9] Loss:  1.63e-03\n",
            "[Epoch   41/ 100] [Batch    2/   9] Loss:  1.77e-03\n",
            "[Epoch   41/ 100] [Batch    3/   9] Loss:  1.56e-03\n",
            "[Epoch   41/ 100] [Batch    4/   9] Loss:  1.58e-03\n",
            "[Epoch   41/ 100] [Batch    5/   9] Loss:  1.75e-03\n",
            "[Epoch   41/ 100] [Batch    6/   9] Loss:  1.61e-03\n",
            "[Epoch   41/ 100] [Batch    7/   9] Loss:  1.59e-03\n",
            "[Epoch   41/ 100] [Batch    8/   9] Loss:  1.74e-03\n",
            "[Epoch   41/ 100] [Batch    9/   9] Loss:  2.10e-03\n",
            "[Epoch   42/ 100] [Batch    1/   9] Loss:  1.87e-03\n",
            "[Epoch   42/ 100] [Batch    2/   9] Loss:  1.59e-03\n",
            "[Epoch   42/ 100] [Batch    3/   9] Loss:  1.61e-03\n",
            "[Epoch   42/ 100] [Batch    4/   9] Loss:  1.81e-03\n",
            "[Epoch   42/ 100] [Batch    5/   9] Loss:  1.85e-03\n",
            "[Epoch   42/ 100] [Batch    6/   9] Loss:  1.85e-03\n",
            "[Epoch   42/ 100] [Batch    7/   9] Loss:  1.44e-03\n",
            "[Epoch   42/ 100] [Batch    8/   9] Loss:  1.53e-03\n",
            "[Epoch   42/ 100] [Batch    9/   9] Loss:  1.48e-03\n",
            "[Epoch   43/ 100] [Batch    1/   9] Loss:  1.89e-03\n",
            "[Epoch   43/ 100] [Batch    2/   9] Loss:  2.10e-03\n",
            "[Epoch   43/ 100] [Batch    3/   9] Loss:  1.74e-03\n",
            "[Epoch   43/ 100] [Batch    4/   9] Loss:  1.93e-03\n",
            "[Epoch   43/ 100] [Batch    5/   9] Loss:  1.77e-03\n",
            "[Epoch   43/ 100] [Batch    6/   9] Loss:  1.59e-03\n",
            "[Epoch   43/ 100] [Batch    7/   9] Loss:  1.43e-03\n",
            "[Epoch   43/ 100] [Batch    8/   9] Loss:  1.70e-03\n",
            "[Epoch   43/ 100] [Batch    9/   9] Loss:  1.78e-03\n",
            "[Epoch   44/ 100] [Batch    1/   9] Loss:  1.34e-03\n",
            "[Epoch   44/ 100] [Batch    2/   9] Loss:  1.74e-03\n",
            "[Epoch   44/ 100] [Batch    3/   9] Loss:  1.53e-03\n",
            "[Epoch   44/ 100] [Batch    4/   9] Loss:  1.71e-03\n",
            "[Epoch   44/ 100] [Batch    5/   9] Loss:  1.69e-03\n",
            "[Epoch   44/ 100] [Batch    6/   9] Loss:  1.94e-03\n",
            "[Epoch   44/ 100] [Batch    7/   9] Loss:  1.68e-03\n",
            "[Epoch   44/ 100] [Batch    8/   9] Loss:  1.62e-03\n",
            "[Epoch   44/ 100] [Batch    9/   9] Loss:  2.28e-03\n",
            "[Epoch   45/ 100] [Batch    1/   9] Loss:  1.61e-03\n",
            "[Epoch   45/ 100] [Batch    2/   9] Loss:  1.47e-03\n",
            "[Epoch   45/ 100] [Batch    3/   9] Loss:  1.75e-03\n",
            "[Epoch   45/ 100] [Batch    4/   9] Loss:  1.96e-03\n",
            "[Epoch   45/ 100] [Batch    5/   9] Loss:  1.65e-03\n",
            "[Epoch   45/ 100] [Batch    6/   9] Loss:  1.59e-03\n",
            "[Epoch   45/ 100] [Batch    7/   9] Loss:  1.33e-03\n",
            "[Epoch   45/ 100] [Batch    8/   9] Loss:  1.82e-03\n",
            "[Epoch   45/ 100] [Batch    9/   9] Loss:  2.17e-03\n",
            "[Epoch   46/ 100] [Batch    1/   9] Loss:  1.43e-03\n",
            "[Epoch   46/ 100] [Batch    2/   9] Loss:  1.80e-03\n",
            "[Epoch   46/ 100] [Batch    3/   9] Loss:  1.63e-03\n",
            "[Epoch   46/ 100] [Batch    4/   9] Loss:  1.66e-03\n",
            "[Epoch   46/ 100] [Batch    5/   9] Loss:  1.81e-03\n",
            "[Epoch   46/ 100] [Batch    6/   9] Loss:  1.66e-03\n",
            "[Epoch   46/ 100] [Batch    7/   9] Loss:  1.36e-03\n",
            "[Epoch   46/ 100] [Batch    8/   9] Loss:  2.17e-03\n",
            "[Epoch   46/ 100] [Batch    9/   9] Loss:  2.05e-03\n",
            "[Epoch   47/ 100] [Batch    1/   9] Loss:  1.77e-03\n",
            "[Epoch   47/ 100] [Batch    2/   9] Loss:  1.71e-03\n",
            "[Epoch   47/ 100] [Batch    3/   9] Loss:  1.45e-03\n",
            "[Epoch   47/ 100] [Batch    4/   9] Loss:  1.65e-03\n",
            "[Epoch   47/ 100] [Batch    5/   9] Loss:  1.76e-03\n",
            "[Epoch   47/ 100] [Batch    6/   9] Loss:  2.00e-03\n",
            "[Epoch   47/ 100] [Batch    7/   9] Loss:  1.64e-03\n",
            "[Epoch   47/ 100] [Batch    8/   9] Loss:  1.74e-03\n",
            "[Epoch   47/ 100] [Batch    9/   9] Loss:  1.45e-03\n",
            "[Epoch   48/ 100] [Batch    1/   9] Loss:  1.72e-03\n",
            "[Epoch   48/ 100] [Batch    2/   9] Loss:  1.66e-03\n",
            "[Epoch   48/ 100] [Batch    3/   9] Loss:  1.90e-03\n",
            "[Epoch   48/ 100] [Batch    4/   9] Loss:  1.67e-03\n",
            "[Epoch   48/ 100] [Batch    5/   9] Loss:  1.76e-03\n",
            "[Epoch   48/ 100] [Batch    6/   9] Loss:  1.40e-03\n",
            "[Epoch   48/ 100] [Batch    7/   9] Loss:  1.64e-03\n",
            "[Epoch   48/ 100] [Batch    8/   9] Loss:  2.11e-03\n",
            "[Epoch   48/ 100] [Batch    9/   9] Loss:  1.48e-03\n",
            "[Epoch   49/ 100] [Batch    1/   9] Loss:  1.66e-03\n",
            "[Epoch   49/ 100] [Batch    2/   9] Loss:  1.72e-03\n",
            "[Epoch   49/ 100] [Batch    3/   9] Loss:  1.36e-03\n",
            "[Epoch   49/ 100] [Batch    4/   9] Loss:  1.67e-03\n",
            "[Epoch   49/ 100] [Batch    5/   9] Loss:  1.77e-03\n",
            "[Epoch   49/ 100] [Batch    6/   9] Loss:  1.76e-03\n",
            "[Epoch   49/ 100] [Batch    7/   9] Loss:  2.17e-03\n",
            "[Epoch   49/ 100] [Batch    8/   9] Loss:  1.44e-03\n",
            "[Epoch   49/ 100] [Batch    9/   9] Loss:  1.45e-03\n",
            "[Epoch   50/ 100] [Batch    1/   9] Loss:  1.70e-03\n",
            "[Epoch   50/ 100] [Batch    2/   9] Loss:  1.73e-03\n",
            "[Epoch   50/ 100] [Batch    3/   9] Loss:  1.59e-03\n",
            "[Epoch   50/ 100] [Batch    4/   9] Loss:  1.79e-03\n",
            "[Epoch   50/ 100] [Batch    5/   9] Loss:  1.49e-03\n",
            "[Epoch   50/ 100] [Batch    6/   9] Loss:  1.66e-03\n",
            "[Epoch   50/ 100] [Batch    7/   9] Loss:  1.73e-03\n",
            "[Epoch   50/ 100] [Batch    8/   9] Loss:  1.89e-03\n",
            "[Epoch   50/ 100] [Batch    9/   9] Loss:  1.72e-03\n",
            "[Epoch   51/ 100] [Batch    1/   9] Loss:  1.62e-03\n",
            "[Epoch   51/ 100] [Batch    2/   9] Loss:  1.51e-03\n",
            "[Epoch   51/ 100] [Batch    3/   9] Loss:  1.51e-03\n",
            "[Epoch   51/ 100] [Batch    4/   9] Loss:  2.04e-03\n",
            "[Epoch   51/ 100] [Batch    5/   9] Loss:  1.88e-03\n",
            "[Epoch   51/ 100] [Batch    6/   9] Loss:  1.52e-03\n",
            "[Epoch   51/ 100] [Batch    7/   9] Loss:  1.63e-03\n",
            "[Epoch   51/ 100] [Batch    8/   9] Loss:  1.49e-03\n",
            "[Epoch   51/ 100] [Batch    9/   9] Loss:  2.02e-03\n",
            "[Epoch   52/ 100] [Batch    1/   9] Loss:  1.73e-03\n",
            "[Epoch   52/ 100] [Batch    2/   9] Loss:  1.81e-03\n",
            "[Epoch   52/ 100] [Batch    3/   9] Loss:  2.34e-03\n",
            "[Epoch   52/ 100] [Batch    4/   9] Loss:  1.63e-03\n",
            "[Epoch   52/ 100] [Batch    5/   9] Loss:  1.63e-03\n",
            "[Epoch   52/ 100] [Batch    6/   9] Loss:  1.81e-03\n",
            "[Epoch   52/ 100] [Batch    7/   9] Loss:  1.68e-03\n",
            "[Epoch   52/ 100] [Batch    8/   9] Loss:  1.62e-03\n",
            "[Epoch   52/ 100] [Batch    9/   9] Loss:  1.70e-03\n",
            "[Epoch   53/ 100] [Batch    1/   9] Loss:  1.51e-03\n",
            "[Epoch   53/ 100] [Batch    2/   9] Loss:  1.54e-03\n",
            "[Epoch   53/ 100] [Batch    3/   9] Loss:  2.15e-03\n",
            "[Epoch   53/ 100] [Batch    4/   9] Loss:  1.79e-03\n",
            "[Epoch   53/ 100] [Batch    5/   9] Loss:  1.78e-03\n",
            "[Epoch   53/ 100] [Batch    6/   9] Loss:  1.51e-03\n",
            "[Epoch   53/ 100] [Batch    7/   9] Loss:  1.53e-03\n",
            "[Epoch   53/ 100] [Batch    8/   9] Loss:  1.67e-03\n",
            "[Epoch   53/ 100] [Batch    9/   9] Loss:  2.35e-03\n",
            "[Epoch   54/ 100] [Batch    1/   9] Loss:  2.05e-03\n",
            "[Epoch   54/ 100] [Batch    2/   9] Loss:  1.51e-03\n",
            "[Epoch   54/ 100] [Batch    3/   9] Loss:  1.79e-03\n",
            "[Epoch   54/ 100] [Batch    4/   9] Loss:  1.48e-03\n",
            "[Epoch   54/ 100] [Batch    5/   9] Loss:  1.25e-03\n",
            "[Epoch   54/ 100] [Batch    6/   9] Loss:  2.16e-03\n",
            "[Epoch   54/ 100] [Batch    7/   9] Loss:  1.70e-03\n",
            "[Epoch   54/ 100] [Batch    8/   9] Loss:  1.46e-03\n",
            "[Epoch   54/ 100] [Batch    9/   9] Loss:  1.67e-03\n",
            "[Epoch   55/ 100] [Batch    1/   9] Loss:  1.65e-03\n",
            "[Epoch   55/ 100] [Batch    2/   9] Loss:  1.56e-03\n",
            "[Epoch   55/ 100] [Batch    3/   9] Loss:  1.74e-03\n",
            "[Epoch   55/ 100] [Batch    4/   9] Loss:  1.80e-03\n",
            "[Epoch   55/ 100] [Batch    5/   9] Loss:  1.85e-03\n",
            "[Epoch   55/ 100] [Batch    6/   9] Loss:  1.59e-03\n",
            "[Epoch   55/ 100] [Batch    7/   9] Loss:  1.51e-03\n",
            "[Epoch   55/ 100] [Batch    8/   9] Loss:  1.61e-03\n",
            "[Epoch   55/ 100] [Batch    9/   9] Loss:  2.14e-03\n",
            "[Epoch   56/ 100] [Batch    1/   9] Loss:  1.66e-03\n",
            "[Epoch   56/ 100] [Batch    2/   9] Loss:  1.14e-03\n",
            "[Epoch   56/ 100] [Batch    3/   9] Loss:  1.86e-03\n",
            "[Epoch   56/ 100] [Batch    4/   9] Loss:  2.26e-03\n",
            "[Epoch   56/ 100] [Batch    5/   9] Loss:  1.70e-03\n",
            "[Epoch   56/ 100] [Batch    6/   9] Loss:  2.31e-03\n",
            "[Epoch   56/ 100] [Batch    7/   9] Loss:  1.93e-03\n",
            "[Epoch   56/ 100] [Batch    8/   9] Loss:  1.63e-03\n",
            "[Epoch   56/ 100] [Batch    9/   9] Loss:  1.71e-03\n",
            "[Epoch   57/ 100] [Batch    1/   9] Loss:  1.48e-03\n",
            "[Epoch   57/ 100] [Batch    2/   9] Loss:  2.04e-03\n",
            "[Epoch   57/ 100] [Batch    3/   9] Loss:  1.98e-03\n",
            "[Epoch   57/ 100] [Batch    4/   9] Loss:  1.61e-03\n",
            "[Epoch   57/ 100] [Batch    5/   9] Loss:  1.63e-03\n",
            "[Epoch   57/ 100] [Batch    6/   9] Loss:  1.27e-03\n",
            "[Epoch   57/ 100] [Batch    7/   9] Loss:  1.43e-03\n",
            "[Epoch   57/ 100] [Batch    8/   9] Loss:  1.95e-03\n",
            "[Epoch   57/ 100] [Batch    9/   9] Loss:  1.46e-03\n",
            "[Epoch   58/ 100] [Batch    1/   9] Loss:  1.89e-03\n",
            "[Epoch   58/ 100] [Batch    2/   9] Loss:  1.35e-03\n",
            "[Epoch   58/ 100] [Batch    3/   9] Loss:  1.48e-03\n",
            "[Epoch   58/ 100] [Batch    4/   9] Loss:  1.73e-03\n",
            "[Epoch   58/ 100] [Batch    5/   9] Loss:  1.83e-03\n",
            "[Epoch   58/ 100] [Batch    6/   9] Loss:  1.61e-03\n",
            "[Epoch   58/ 100] [Batch    7/   9] Loss:  1.65e-03\n",
            "[Epoch   58/ 100] [Batch    8/   9] Loss:  1.85e-03\n",
            "[Epoch   58/ 100] [Batch    9/   9] Loss:  1.43e-03\n",
            "[Epoch   59/ 100] [Batch    1/   9] Loss:  1.47e-03\n",
            "[Epoch   59/ 100] [Batch    2/   9] Loss:  1.29e-03\n",
            "[Epoch   59/ 100] [Batch    3/   9] Loss:  1.68e-03\n",
            "[Epoch   59/ 100] [Batch    4/   9] Loss:  1.23e-03\n",
            "[Epoch   59/ 100] [Batch    5/   9] Loss:  2.08e-03\n",
            "[Epoch   59/ 100] [Batch    6/   9] Loss:  1.92e-03\n",
            "[Epoch   59/ 100] [Batch    7/   9] Loss:  1.71e-03\n",
            "[Epoch   59/ 100] [Batch    8/   9] Loss:  1.64e-03\n",
            "[Epoch   59/ 100] [Batch    9/   9] Loss:  2.98e-03\n",
            "[Epoch   60/ 100] [Batch    1/   9] Loss:  1.63e-03\n",
            "[Epoch   60/ 100] [Batch    2/   9] Loss:  1.61e-03\n",
            "[Epoch   60/ 100] [Batch    3/   9] Loss:  2.34e-03\n",
            "[Epoch   60/ 100] [Batch    4/   9] Loss:  1.77e-03\n",
            "[Epoch   60/ 100] [Batch    5/   9] Loss:  1.85e-03\n",
            "[Epoch   60/ 100] [Batch    6/   9] Loss:  1.28e-03\n",
            "[Epoch   60/ 100] [Batch    7/   9] Loss:  2.01e-03\n",
            "[Epoch   60/ 100] [Batch    8/   9] Loss:  2.00e-03\n",
            "[Epoch   60/ 100] [Batch    9/   9] Loss:  1.89e-03\n",
            "[Epoch   61/ 100] [Batch    1/   9] Loss:  1.88e-03\n",
            "[Epoch   61/ 100] [Batch    2/   9] Loss:  1.56e-03\n",
            "[Epoch   61/ 100] [Batch    3/   9] Loss:  1.63e-03\n",
            "[Epoch   61/ 100] [Batch    4/   9] Loss:  2.03e-03\n",
            "[Epoch   61/ 100] [Batch    5/   9] Loss:  1.62e-03\n",
            "[Epoch   61/ 100] [Batch    6/   9] Loss:  1.57e-03\n",
            "[Epoch   61/ 100] [Batch    7/   9] Loss:  1.89e-03\n",
            "[Epoch   61/ 100] [Batch    8/   9] Loss:  1.72e-03\n",
            "[Epoch   61/ 100] [Batch    9/   9] Loss:  2.55e-03\n",
            "[Epoch   62/ 100] [Batch    1/   9] Loss:  2.04e-03\n",
            "[Epoch   62/ 100] [Batch    2/   9] Loss:  1.44e-03\n",
            "[Epoch   62/ 100] [Batch    3/   9] Loss:  2.14e-03\n",
            "[Epoch   62/ 100] [Batch    4/   9] Loss:  1.69e-03\n",
            "[Epoch   62/ 100] [Batch    5/   9] Loss:  1.46e-03\n",
            "[Epoch   62/ 100] [Batch    6/   9] Loss:  2.51e-03\n",
            "[Epoch   62/ 100] [Batch    7/   9] Loss:  2.21e-03\n",
            "[Epoch   62/ 100] [Batch    8/   9] Loss:  1.64e-03\n",
            "[Epoch   62/ 100] [Batch    9/   9] Loss:  2.19e-03\n",
            "[Epoch   63/ 100] [Batch    1/   9] Loss:  2.48e-03\n",
            "[Epoch   63/ 100] [Batch    2/   9] Loss:  1.18e-03\n",
            "[Epoch   63/ 100] [Batch    3/   9] Loss:  1.51e-03\n",
            "[Epoch   63/ 100] [Batch    4/   9] Loss:  2.34e-03\n",
            "[Epoch   63/ 100] [Batch    5/   9] Loss:  1.95e-03\n",
            "[Epoch   63/ 100] [Batch    6/   9] Loss:  1.35e-03\n",
            "[Epoch   63/ 100] [Batch    7/   9] Loss:  2.27e-03\n",
            "[Epoch   63/ 100] [Batch    8/   9] Loss:  2.56e-03\n",
            "[Epoch   63/ 100] [Batch    9/   9] Loss:  2.64e-03\n",
            "[Epoch   64/ 100] [Batch    1/   9] Loss:  2.01e-03\n",
            "[Epoch   64/ 100] [Batch    2/   9] Loss:  2.67e-03\n",
            "[Epoch   64/ 100] [Batch    3/   9] Loss:  2.44e-03\n",
            "[Epoch   64/ 100] [Batch    4/   9] Loss:  1.68e-03\n",
            "[Epoch   64/ 100] [Batch    5/   9] Loss:  2.46e-03\n",
            "[Epoch   64/ 100] [Batch    6/   9] Loss:  2.44e-03\n",
            "[Epoch   64/ 100] [Batch    7/   9] Loss:  1.69e-03\n",
            "[Epoch   64/ 100] [Batch    8/   9] Loss:  1.76e-03\n",
            "[Epoch   64/ 100] [Batch    9/   9] Loss:  2.82e-03\n",
            "[Epoch   65/ 100] [Batch    1/   9] Loss:  1.52e-03\n",
            "[Epoch   65/ 100] [Batch    2/   9] Loss:  1.16e-03\n",
            "[Epoch   65/ 100] [Batch    3/   9] Loss:  2.35e-03\n",
            "[Epoch   65/ 100] [Batch    4/   9] Loss:  2.04e-03\n",
            "[Epoch   65/ 100] [Batch    5/   9] Loss:  1.59e-03\n",
            "[Epoch   65/ 100] [Batch    6/   9] Loss:  2.25e-03\n",
            "[Epoch   65/ 100] [Batch    7/   9] Loss:  2.21e-03\n",
            "[Epoch   65/ 100] [Batch    8/   9] Loss:  1.76e-03\n",
            "[Epoch   65/ 100] [Batch    9/   9] Loss:  1.95e-03\n",
            "[Epoch   66/ 100] [Batch    1/   9] Loss:  2.52e-03\n",
            "[Epoch   66/ 100] [Batch    2/   9] Loss:  1.76e-03\n",
            "[Epoch   66/ 100] [Batch    3/   9] Loss:  1.78e-03\n",
            "[Epoch   66/ 100] [Batch    4/   9] Loss:  2.07e-03\n",
            "[Epoch   66/ 100] [Batch    5/   9] Loss:  1.84e-03\n",
            "[Epoch   66/ 100] [Batch    6/   9] Loss:  2.00e-03\n",
            "[Epoch   66/ 100] [Batch    7/   9] Loss:  1.21e-03\n",
            "[Epoch   66/ 100] [Batch    8/   9] Loss:  1.71e-03\n",
            "[Epoch   66/ 100] [Batch    9/   9] Loss:  1.44e-03\n",
            "[Epoch   67/ 100] [Batch    1/   9] Loss:  1.60e-03\n",
            "[Epoch   67/ 100] [Batch    2/   9] Loss:  1.62e-03\n",
            "[Epoch   67/ 100] [Batch    3/   9] Loss:  1.82e-03\n",
            "[Epoch   67/ 100] [Batch    4/   9] Loss:  1.72e-03\n",
            "[Epoch   67/ 100] [Batch    5/   9] Loss:  1.93e-03\n",
            "[Epoch   67/ 100] [Batch    6/   9] Loss:  2.12e-03\n",
            "[Epoch   67/ 100] [Batch    7/   9] Loss:  1.37e-03\n",
            "[Epoch   67/ 100] [Batch    8/   9] Loss:  2.11e-03\n",
            "[Epoch   67/ 100] [Batch    9/   9] Loss:  1.22e-03\n",
            "[Epoch   68/ 100] [Batch    1/   9] Loss:  1.43e-03\n",
            "[Epoch   68/ 100] [Batch    2/   9] Loss:  2.06e-03\n",
            "[Epoch   68/ 100] [Batch    3/   9] Loss:  1.38e-03\n",
            "[Epoch   68/ 100] [Batch    4/   9] Loss:  1.73e-03\n",
            "[Epoch   68/ 100] [Batch    5/   9] Loss:  1.55e-03\n",
            "[Epoch   68/ 100] [Batch    6/   9] Loss:  1.37e-03\n",
            "[Epoch   68/ 100] [Batch    7/   9] Loss:  2.15e-03\n",
            "[Epoch   68/ 100] [Batch    8/   9] Loss:  1.64e-03\n",
            "[Epoch   68/ 100] [Batch    9/   9] Loss:  1.77e-03\n",
            "[Epoch   69/ 100] [Batch    1/   9] Loss:  1.70e-03\n",
            "[Epoch   69/ 100] [Batch    2/   9] Loss:  1.58e-03\n",
            "[Epoch   69/ 100] [Batch    3/   9] Loss:  1.73e-03\n",
            "[Epoch   69/ 100] [Batch    4/   9] Loss:  1.38e-03\n",
            "[Epoch   69/ 100] [Batch    5/   9] Loss:  1.90e-03\n",
            "[Epoch   69/ 100] [Batch    6/   9] Loss:  1.96e-03\n",
            "[Epoch   69/ 100] [Batch    7/   9] Loss:  1.49e-03\n",
            "[Epoch   69/ 100] [Batch    8/   9] Loss:  1.53e-03\n",
            "[Epoch   69/ 100] [Batch    9/   9] Loss:  1.58e-03\n",
            "[Epoch   70/ 100] [Batch    1/   9] Loss:  1.98e-03\n",
            "[Epoch   70/ 100] [Batch    2/   9] Loss:  1.76e-03\n",
            "[Epoch   70/ 100] [Batch    3/   9] Loss:  1.76e-03\n",
            "[Epoch   70/ 100] [Batch    4/   9] Loss:  1.24e-03\n",
            "[Epoch   70/ 100] [Batch    5/   9] Loss:  1.48e-03\n",
            "[Epoch   70/ 100] [Batch    6/   9] Loss:  1.96e-03\n",
            "[Epoch   70/ 100] [Batch    7/   9] Loss:  1.60e-03\n",
            "[Epoch   70/ 100] [Batch    8/   9] Loss:  1.63e-03\n",
            "[Epoch   70/ 100] [Batch    9/   9] Loss:  1.83e-03\n",
            "[Epoch   71/ 100] [Batch    1/   9] Loss:  1.41e-03\n",
            "[Epoch   71/ 100] [Batch    2/   9] Loss:  2.06e-03\n",
            "[Epoch   71/ 100] [Batch    3/   9] Loss:  1.88e-03\n",
            "[Epoch   71/ 100] [Batch    4/   9] Loss:  1.34e-03\n",
            "[Epoch   71/ 100] [Batch    5/   9] Loss:  1.84e-03\n",
            "[Epoch   71/ 100] [Batch    6/   9] Loss:  1.46e-03\n",
            "[Epoch   71/ 100] [Batch    7/   9] Loss:  1.50e-03\n",
            "[Epoch   71/ 100] [Batch    8/   9] Loss:  1.75e-03\n",
            "[Epoch   71/ 100] [Batch    9/   9] Loss:  2.16e-03\n",
            "[Epoch   72/ 100] [Batch    1/   9] Loss:  2.24e-03\n",
            "[Epoch   72/ 100] [Batch    2/   9] Loss:  1.64e-03\n",
            "[Epoch   72/ 100] [Batch    3/   9] Loss:  1.36e-03\n",
            "[Epoch   72/ 100] [Batch    4/   9] Loss:  1.75e-03\n",
            "[Epoch   72/ 100] [Batch    5/   9] Loss:  1.60e-03\n",
            "[Epoch   72/ 100] [Batch    6/   9] Loss:  1.72e-03\n",
            "[Epoch   72/ 100] [Batch    7/   9] Loss:  1.37e-03\n",
            "[Epoch   72/ 100] [Batch    8/   9] Loss:  1.84e-03\n",
            "[Epoch   72/ 100] [Batch    9/   9] Loss:  1.86e-03\n",
            "[Epoch   73/ 100] [Batch    1/   9] Loss:  2.00e-03\n",
            "[Epoch   73/ 100] [Batch    2/   9] Loss:  1.65e-03\n",
            "[Epoch   73/ 100] [Batch    3/   9] Loss:  1.55e-03\n",
            "[Epoch   73/ 100] [Batch    4/   9] Loss:  1.70e-03\n",
            "[Epoch   73/ 100] [Batch    5/   9] Loss:  1.56e-03\n",
            "[Epoch   73/ 100] [Batch    6/   9] Loss:  1.54e-03\n",
            "[Epoch   73/ 100] [Batch    7/   9] Loss:  2.16e-03\n",
            "[Epoch   73/ 100] [Batch    8/   9] Loss:  1.29e-03\n",
            "[Epoch   73/ 100] [Batch    9/   9] Loss:  2.20e-03\n",
            "[Epoch   74/ 100] [Batch    1/   9] Loss:  1.61e-03\n",
            "[Epoch   74/ 100] [Batch    2/   9] Loss:  1.67e-03\n",
            "[Epoch   74/ 100] [Batch    3/   9] Loss:  1.99e-03\n",
            "[Epoch   74/ 100] [Batch    4/   9] Loss:  1.55e-03\n",
            "[Epoch   74/ 100] [Batch    5/   9] Loss:  1.70e-03\n",
            "[Epoch   74/ 100] [Batch    6/   9] Loss:  1.38e-03\n",
            "[Epoch   74/ 100] [Batch    7/   9] Loss:  1.82e-03\n",
            "[Epoch   74/ 100] [Batch    8/   9] Loss:  1.70e-03\n",
            "[Epoch   74/ 100] [Batch    9/   9] Loss:  1.14e-03\n",
            "[Epoch   75/ 100] [Batch    1/   9] Loss:  1.71e-03\n",
            "[Epoch   75/ 100] [Batch    2/   9] Loss:  1.65e-03\n",
            "[Epoch   75/ 100] [Batch    3/   9] Loss:  1.92e-03\n",
            "[Epoch   75/ 100] [Batch    4/   9] Loss:  1.80e-03\n",
            "[Epoch   75/ 100] [Batch    5/   9] Loss:  2.23e-03\n",
            "[Epoch   75/ 100] [Batch    6/   9] Loss:  1.71e-03\n",
            "[Epoch   75/ 100] [Batch    7/   9] Loss:  1.51e-03\n",
            "[Epoch   75/ 100] [Batch    8/   9] Loss:  1.72e-03\n",
            "[Epoch   75/ 100] [Batch    9/   9] Loss:  3.14e-03\n",
            "[Epoch   76/ 100] [Batch    1/   9] Loss:  1.50e-03\n",
            "[Epoch   76/ 100] [Batch    2/   9] Loss:  2.08e-03\n",
            "[Epoch   76/ 100] [Batch    3/   9] Loss:  2.00e-03\n",
            "[Epoch   76/ 100] [Batch    4/   9] Loss:  2.05e-03\n",
            "[Epoch   76/ 100] [Batch    5/   9] Loss:  1.46e-03\n",
            "[Epoch   76/ 100] [Batch    6/   9] Loss:  2.29e-03\n",
            "[Epoch   76/ 100] [Batch    7/   9] Loss:  2.16e-03\n",
            "[Epoch   76/ 100] [Batch    8/   9] Loss:  1.75e-03\n",
            "[Epoch   76/ 100] [Batch    9/   9] Loss:  2.53e-03\n",
            "[Epoch   77/ 100] [Batch    1/   9] Loss:  2.03e-03\n",
            "[Epoch   77/ 100] [Batch    2/   9] Loss:  1.79e-03\n",
            "[Epoch   77/ 100] [Batch    3/   9] Loss:  1.94e-03\n",
            "[Epoch   77/ 100] [Batch    4/   9] Loss:  1.30e-03\n",
            "[Epoch   77/ 100] [Batch    5/   9] Loss:  1.55e-03\n",
            "[Epoch   77/ 100] [Batch    6/   9] Loss:  1.39e-03\n",
            "[Epoch   77/ 100] [Batch    7/   9] Loss:  1.60e-03\n",
            "[Epoch   77/ 100] [Batch    8/   9] Loss:  1.82e-03\n",
            "[Epoch   77/ 100] [Batch    9/   9] Loss:  1.92e-03\n",
            "[Epoch   78/ 100] [Batch    1/   9] Loss:  1.61e-03\n",
            "[Epoch   78/ 100] [Batch    2/   9] Loss:  1.60e-03\n",
            "[Epoch   78/ 100] [Batch    3/   9] Loss:  1.55e-03\n",
            "[Epoch   78/ 100] [Batch    4/   9] Loss:  1.54e-03\n",
            "[Epoch   78/ 100] [Batch    5/   9] Loss:  1.79e-03\n",
            "[Epoch   78/ 100] [Batch    6/   9] Loss:  1.65e-03\n",
            "[Epoch   78/ 100] [Batch    7/   9] Loss:  2.03e-03\n",
            "[Epoch   78/ 100] [Batch    8/   9] Loss:  1.59e-03\n",
            "[Epoch   78/ 100] [Batch    9/   9] Loss:  1.59e-03\n",
            "[Epoch   79/ 100] [Batch    1/   9] Loss:  2.08e-03\n",
            "[Epoch   79/ 100] [Batch    2/   9] Loss:  1.49e-03\n",
            "[Epoch   79/ 100] [Batch    3/   9] Loss:  1.44e-03\n",
            "[Epoch   79/ 100] [Batch    4/   9] Loss:  1.83e-03\n",
            "[Epoch   79/ 100] [Batch    5/   9] Loss:  1.79e-03\n",
            "[Epoch   79/ 100] [Batch    6/   9] Loss:  1.46e-03\n",
            "[Epoch   79/ 100] [Batch    7/   9] Loss:  1.63e-03\n",
            "[Epoch   79/ 100] [Batch    8/   9] Loss:  1.77e-03\n",
            "[Epoch   79/ 100] [Batch    9/   9] Loss:  1.49e-03\n",
            "[Epoch   80/ 100] [Batch    1/   9] Loss:  1.63e-03\n",
            "[Epoch   80/ 100] [Batch    2/   9] Loss:  1.86e-03\n",
            "[Epoch   80/ 100] [Batch    3/   9] Loss:  1.80e-03\n",
            "[Epoch   80/ 100] [Batch    4/   9] Loss:  1.68e-03\n",
            "[Epoch   80/ 100] [Batch    5/   9] Loss:  1.48e-03\n",
            "[Epoch   80/ 100] [Batch    6/   9] Loss:  1.67e-03\n",
            "[Epoch   80/ 100] [Batch    7/   9] Loss:  1.61e-03\n",
            "[Epoch   80/ 100] [Batch    8/   9] Loss:  1.86e-03\n",
            "[Epoch   80/ 100] [Batch    9/   9] Loss:  1.21e-03\n",
            "[Epoch   81/ 100] [Batch    1/   9] Loss:  1.64e-03\n",
            "[Epoch   81/ 100] [Batch    2/   9] Loss:  1.67e-03\n",
            "[Epoch   81/ 100] [Batch    3/   9] Loss:  1.58e-03\n",
            "[Epoch   81/ 100] [Batch    4/   9] Loss:  1.79e-03\n",
            "[Epoch   81/ 100] [Batch    5/   9] Loss:  1.87e-03\n",
            "[Epoch   81/ 100] [Batch    6/   9] Loss:  1.62e-03\n",
            "[Epoch   81/ 100] [Batch    7/   9] Loss:  1.53e-03\n",
            "[Epoch   81/ 100] [Batch    8/   9] Loss:  1.71e-03\n",
            "[Epoch   81/ 100] [Batch    9/   9] Loss:  2.33e-03\n",
            "[Epoch   82/ 100] [Batch    1/   9] Loss:  1.60e-03\n",
            "[Epoch   82/ 100] [Batch    2/   9] Loss:  1.44e-03\n",
            "[Epoch   82/ 100] [Batch    3/   9] Loss:  1.58e-03\n",
            "[Epoch   82/ 100] [Batch    4/   9] Loss:  1.87e-03\n",
            "[Epoch   82/ 100] [Batch    5/   9] Loss:  1.56e-03\n",
            "[Epoch   82/ 100] [Batch    6/   9] Loss:  1.68e-03\n",
            "[Epoch   82/ 100] [Batch    7/   9] Loss:  2.25e-03\n",
            "[Epoch   82/ 100] [Batch    8/   9] Loss:  1.39e-03\n",
            "[Epoch   82/ 100] [Batch    9/   9] Loss:  1.72e-03\n",
            "[Epoch   83/ 100] [Batch    1/   9] Loss:  1.46e-03\n",
            "[Epoch   83/ 100] [Batch    2/   9] Loss:  1.84e-03\n",
            "[Epoch   83/ 100] [Batch    3/   9] Loss:  1.75e-03\n",
            "[Epoch   83/ 100] [Batch    4/   9] Loss:  1.88e-03\n",
            "[Epoch   83/ 100] [Batch    5/   9] Loss:  1.77e-03\n",
            "[Epoch   83/ 100] [Batch    6/   9] Loss:  1.20e-03\n",
            "[Epoch   83/ 100] [Batch    7/   9] Loss:  1.76e-03\n",
            "[Epoch   83/ 100] [Batch    8/   9] Loss:  2.01e-03\n",
            "[Epoch   83/ 100] [Batch    9/   9] Loss:  2.21e-03\n",
            "[Epoch   84/ 100] [Batch    1/   9] Loss:  1.97e-03\n",
            "[Epoch   84/ 100] [Batch    2/   9] Loss:  1.68e-03\n",
            "[Epoch   84/ 100] [Batch    3/   9] Loss:  1.96e-03\n",
            "[Epoch   84/ 100] [Batch    4/   9] Loss:  1.63e-03\n",
            "[Epoch   84/ 100] [Batch    5/   9] Loss:  2.03e-03\n",
            "[Epoch   84/ 100] [Batch    6/   9] Loss:  1.39e-03\n",
            "[Epoch   84/ 100] [Batch    7/   9] Loss:  1.84e-03\n",
            "[Epoch   84/ 100] [Batch    8/   9] Loss:  2.02e-03\n",
            "[Epoch   84/ 100] [Batch    9/   9] Loss:  1.06e-03\n",
            "[Epoch   85/ 100] [Batch    1/   9] Loss:  2.15e-03\n",
            "[Epoch   85/ 100] [Batch    2/   9] Loss:  1.87e-03\n",
            "[Epoch   85/ 100] [Batch    3/   9] Loss:  1.61e-03\n",
            "[Epoch   85/ 100] [Batch    4/   9] Loss:  1.75e-03\n",
            "[Epoch   85/ 100] [Batch    5/   9] Loss:  1.91e-03\n",
            "[Epoch   85/ 100] [Batch    6/   9] Loss:  1.96e-03\n",
            "[Epoch   85/ 100] [Batch    7/   9] Loss:  1.81e-03\n",
            "[Epoch   85/ 100] [Batch    8/   9] Loss:  1.48e-03\n",
            "[Epoch   85/ 100] [Batch    9/   9] Loss:  1.48e-03\n",
            "[Epoch   86/ 100] [Batch    1/   9] Loss:  1.37e-03\n",
            "[Epoch   86/ 100] [Batch    2/   9] Loss:  1.80e-03\n",
            "[Epoch   86/ 100] [Batch    3/   9] Loss:  1.59e-03\n",
            "[Epoch   86/ 100] [Batch    4/   9] Loss:  1.83e-03\n",
            "[Epoch   86/ 100] [Batch    5/   9] Loss:  1.62e-03\n",
            "[Epoch   86/ 100] [Batch    6/   9] Loss:  1.81e-03\n",
            "[Epoch   86/ 100] [Batch    7/   9] Loss:  1.80e-03\n",
            "[Epoch   86/ 100] [Batch    8/   9] Loss:  1.49e-03\n",
            "[Epoch   86/ 100] [Batch    9/   9] Loss:  1.58e-03\n",
            "[Epoch   87/ 100] [Batch    1/   9] Loss:  1.78e-03\n",
            "[Epoch   87/ 100] [Batch    2/   9] Loss:  2.00e-03\n",
            "[Epoch   87/ 100] [Batch    3/   9] Loss:  1.60e-03\n",
            "[Epoch   87/ 100] [Batch    4/   9] Loss:  1.37e-03\n",
            "[Epoch   87/ 100] [Batch    5/   9] Loss:  1.69e-03\n",
            "[Epoch   87/ 100] [Batch    6/   9] Loss:  1.88e-03\n",
            "[Epoch   87/ 100] [Batch    7/   9] Loss:  1.47e-03\n",
            "[Epoch   87/ 100] [Batch    8/   9] Loss:  1.61e-03\n",
            "[Epoch   87/ 100] [Batch    9/   9] Loss:  1.39e-03\n",
            "[Epoch   88/ 100] [Batch    1/   9] Loss:  1.49e-03\n",
            "[Epoch   88/ 100] [Batch    2/   9] Loss:  1.44e-03\n",
            "[Epoch   88/ 100] [Batch    3/   9] Loss:  1.83e-03\n",
            "[Epoch   88/ 100] [Batch    4/   9] Loss:  1.60e-03\n",
            "[Epoch   88/ 100] [Batch    5/   9] Loss:  1.75e-03\n",
            "[Epoch   88/ 100] [Batch    6/   9] Loss:  1.68e-03\n",
            "[Epoch   88/ 100] [Batch    7/   9] Loss:  1.72e-03\n",
            "[Epoch   88/ 100] [Batch    8/   9] Loss:  1.96e-03\n",
            "[Epoch   88/ 100] [Batch    9/   9] Loss:  1.38e-03\n",
            "[Epoch   89/ 100] [Batch    1/   9] Loss:  1.27e-03\n",
            "[Epoch   89/ 100] [Batch    2/   9] Loss:  1.37e-03\n",
            "[Epoch   89/ 100] [Batch    3/   9] Loss:  1.73e-03\n",
            "[Epoch   89/ 100] [Batch    4/   9] Loss:  2.07e-03\n",
            "[Epoch   89/ 100] [Batch    5/   9] Loss:  1.93e-03\n",
            "[Epoch   89/ 100] [Batch    6/   9] Loss:  1.55e-03\n",
            "[Epoch   89/ 100] [Batch    7/   9] Loss:  2.11e-03\n",
            "[Epoch   89/ 100] [Batch    8/   9] Loss:  2.28e-03\n",
            "[Epoch   89/ 100] [Batch    9/   9] Loss:  2.57e-03\n",
            "[Epoch   90/ 100] [Batch    1/   9] Loss:  1.88e-03\n",
            "[Epoch   90/ 100] [Batch    2/   9] Loss:  1.65e-03\n",
            "[Epoch   90/ 100] [Batch    3/   9] Loss:  1.65e-03\n",
            "[Epoch   90/ 100] [Batch    4/   9] Loss:  1.27e-03\n",
            "[Epoch   90/ 100] [Batch    5/   9] Loss:  1.84e-03\n",
            "[Epoch   90/ 100] [Batch    6/   9] Loss:  2.06e-03\n",
            "[Epoch   90/ 100] [Batch    7/   9] Loss:  1.90e-03\n",
            "[Epoch   90/ 100] [Batch    8/   9] Loss:  1.70e-03\n",
            "[Epoch   90/ 100] [Batch    9/   9] Loss:  1.85e-03\n",
            "[Epoch   91/ 100] [Batch    1/   9] Loss:  1.59e-03\n",
            "[Epoch   91/ 100] [Batch    2/   9] Loss:  1.53e-03\n",
            "[Epoch   91/ 100] [Batch    3/   9] Loss:  1.42e-03\n",
            "[Epoch   91/ 100] [Batch    4/   9] Loss:  1.67e-03\n",
            "[Epoch   91/ 100] [Batch    5/   9] Loss:  1.91e-03\n",
            "[Epoch   91/ 100] [Batch    6/   9] Loss:  1.85e-03\n",
            "[Epoch   91/ 100] [Batch    7/   9] Loss:  1.75e-03\n",
            "[Epoch   91/ 100] [Batch    8/   9] Loss:  1.69e-03\n",
            "[Epoch   91/ 100] [Batch    9/   9] Loss:  1.40e-03\n",
            "[Epoch   92/ 100] [Batch    1/   9] Loss:  1.03e-03\n",
            "[Epoch   92/ 100] [Batch    2/   9] Loss:  2.09e-03\n",
            "[Epoch   92/ 100] [Batch    3/   9] Loss:  1.45e-03\n",
            "[Epoch   92/ 100] [Batch    4/   9] Loss:  1.47e-03\n",
            "[Epoch   92/ 100] [Batch    5/   9] Loss:  2.01e-03\n",
            "[Epoch   92/ 100] [Batch    6/   9] Loss:  1.73e-03\n",
            "[Epoch   92/ 100] [Batch    7/   9] Loss:  1.91e-03\n",
            "[Epoch   92/ 100] [Batch    8/   9] Loss:  1.67e-03\n",
            "[Epoch   92/ 100] [Batch    9/   9] Loss:  1.77e-03\n",
            "[Epoch   93/ 100] [Batch    1/   9] Loss:  1.71e-03\n",
            "[Epoch   93/ 100] [Batch    2/   9] Loss:  1.47e-03\n",
            "[Epoch   93/ 100] [Batch    3/   9] Loss:  1.75e-03\n",
            "[Epoch   93/ 100] [Batch    4/   9] Loss:  1.89e-03\n",
            "[Epoch   93/ 100] [Batch    5/   9] Loss:  1.32e-03\n",
            "[Epoch   93/ 100] [Batch    6/   9] Loss:  1.90e-03\n",
            "[Epoch   93/ 100] [Batch    7/   9] Loss:  1.93e-03\n",
            "[Epoch   93/ 100] [Batch    8/   9] Loss:  1.50e-03\n",
            "[Epoch   93/ 100] [Batch    9/   9] Loss:  1.44e-03\n",
            "[Epoch   94/ 100] [Batch    1/   9] Loss:  1.91e-03\n",
            "[Epoch   94/ 100] [Batch    2/   9] Loss:  1.58e-03\n",
            "[Epoch   94/ 100] [Batch    3/   9] Loss:  1.89e-03\n",
            "[Epoch   94/ 100] [Batch    4/   9] Loss:  1.95e-03\n",
            "[Epoch   94/ 100] [Batch    5/   9] Loss:  1.29e-03\n",
            "[Epoch   94/ 100] [Batch    6/   9] Loss:  1.82e-03\n",
            "[Epoch   94/ 100] [Batch    7/   9] Loss:  2.09e-03\n",
            "[Epoch   94/ 100] [Batch    8/   9] Loss:  1.72e-03\n",
            "[Epoch   94/ 100] [Batch    9/   9] Loss:  1.09e-03\n",
            "[Epoch   95/ 100] [Batch    1/   9] Loss:  1.38e-03\n",
            "[Epoch   95/ 100] [Batch    2/   9] Loss:  1.98e-03\n",
            "[Epoch   95/ 100] [Batch    3/   9] Loss:  1.53e-03\n",
            "[Epoch   95/ 100] [Batch    4/   9] Loss:  1.43e-03\n",
            "[Epoch   95/ 100] [Batch    5/   9] Loss:  1.68e-03\n",
            "[Epoch   95/ 100] [Batch    6/   9] Loss:  1.65e-03\n",
            "[Epoch   95/ 100] [Batch    7/   9] Loss:  1.72e-03\n",
            "[Epoch   95/ 100] [Batch    8/   9] Loss:  2.07e-03\n",
            "[Epoch   95/ 100] [Batch    9/   9] Loss:  3.22e-03\n",
            "[Epoch   96/ 100] [Batch    1/   9] Loss:  1.34e-03\n",
            "[Epoch   96/ 100] [Batch    2/   9] Loss:  2.03e-03\n",
            "[Epoch   96/ 100] [Batch    3/   9] Loss:  1.92e-03\n",
            "[Epoch   96/ 100] [Batch    4/   9] Loss:  1.61e-03\n",
            "[Epoch   96/ 100] [Batch    5/   9] Loss:  2.31e-03\n",
            "[Epoch   96/ 100] [Batch    6/   9] Loss:  1.99e-03\n",
            "[Epoch   96/ 100] [Batch    7/   9] Loss:  1.57e-03\n",
            "[Epoch   96/ 100] [Batch    8/   9] Loss:  1.98e-03\n",
            "[Epoch   96/ 100] [Batch    9/   9] Loss:  2.23e-03\n",
            "[Epoch   97/ 100] [Batch    1/   9] Loss:  1.93e-03\n",
            "[Epoch   97/ 100] [Batch    2/   9] Loss:  1.72e-03\n",
            "[Epoch   97/ 100] [Batch    3/   9] Loss:  1.94e-03\n",
            "[Epoch   97/ 100] [Batch    4/   9] Loss:  1.58e-03\n",
            "[Epoch   97/ 100] [Batch    5/   9] Loss:  1.53e-03\n",
            "[Epoch   97/ 100] [Batch    6/   9] Loss:  1.70e-03\n",
            "[Epoch   97/ 100] [Batch    7/   9] Loss:  1.63e-03\n",
            "[Epoch   97/ 100] [Batch    8/   9] Loss:  1.83e-03\n",
            "[Epoch   97/ 100] [Batch    9/   9] Loss:  1.34e-03\n",
            "[Epoch   98/ 100] [Batch    1/   9] Loss:  1.88e-03\n",
            "[Epoch   98/ 100] [Batch    2/   9] Loss:  1.65e-03\n",
            "[Epoch   98/ 100] [Batch    3/   9] Loss:  1.83e-03\n",
            "[Epoch   98/ 100] [Batch    4/   9] Loss:  1.64e-03\n",
            "[Epoch   98/ 100] [Batch    5/   9] Loss:  1.51e-03\n",
            "[Epoch   98/ 100] [Batch    6/   9] Loss:  1.61e-03\n",
            "[Epoch   98/ 100] [Batch    7/   9] Loss:  1.39e-03\n",
            "[Epoch   98/ 100] [Batch    8/   9] Loss:  1.63e-03\n",
            "[Epoch   98/ 100] [Batch    9/   9] Loss:  2.20e-03\n",
            "[Epoch   99/ 100] [Batch    1/   9] Loss:  1.53e-03\n",
            "[Epoch   99/ 100] [Batch    2/   9] Loss:  2.09e-03\n",
            "[Epoch   99/ 100] [Batch    3/   9] Loss:  1.77e-03\n",
            "[Epoch   99/ 100] [Batch    4/   9] Loss:  1.63e-03\n",
            "[Epoch   99/ 100] [Batch    5/   9] Loss:  1.51e-03\n",
            "[Epoch   99/ 100] [Batch    6/   9] Loss:  1.69e-03\n",
            "[Epoch   99/ 100] [Batch    7/   9] Loss:  2.24e-03\n",
            "[Epoch   99/ 100] [Batch    8/   9] Loss:  1.89e-03\n",
            "[Epoch   99/ 100] [Batch    9/   9] Loss:  1.28e-03\n",
            "[Epoch  100/ 100] [Batch    1/   9] Loss:  1.33e-03\n",
            "[Epoch  100/ 100] [Batch    2/   9] Loss:  1.82e-03\n",
            "[Epoch  100/ 100] [Batch    3/   9] Loss:  1.71e-03\n",
            "[Epoch  100/ 100] [Batch    4/   9] Loss:  1.44e-03\n",
            "[Epoch  100/ 100] [Batch    5/   9] Loss:  2.20e-03\n",
            "[Epoch  100/ 100] [Batch    6/   9] Loss:  1.37e-03\n",
            "[Epoch  100/ 100] [Batch    7/   9] Loss:  1.85e-03\n",
            "[Epoch  100/ 100] [Batch    8/   9] Loss:  1.72e-03\n",
            "[Epoch  100/ 100] [Batch    9/   9] Loss:  1.79e-03\n"
          ]
        },
        {
          "output_type": "execute_result",
          "data": {
            "text/plain": [
              "LinearModel(\n",
              "  (linear): Linear(in_features=1, out_features=1, bias=True)\n",
              ")"
            ]
          },
          "metadata": {},
          "execution_count": 34
        }
      ]
    },
    {
      "cell_type": "code",
      "metadata": {
        "id": "kg1qlmIB92Xx"
      },
      "source": [
        "if input_dim == output_dim == 1:\n",
        "    n_test = 500\n",
        "    X_test = np.random.rand(n_test, input_dim)\n",
        "    y_pred = []\n",
        "\n",
        "    state_dict = model.state_dict()\n",
        "\n",
        "    for idx in range(len(train_hist['weight'])):\n",
        "        state_dict['linear.weight'] = torch.tensor([[train_hist['weight'][idx]]])\n",
        "        state_dict['linear.bias'] = torch.tensor([train_hist['bias'][idx]])\n",
        "        model.load_state_dict(state_dict)\n",
        "\n",
        "        y_pred.append(model.forward(torch.tensor(X_test.astype('f'))).detach().numpy())    "
      ],
      "execution_count": 35,
      "outputs": []
    },
    {
      "cell_type": "code",
      "metadata": {
        "id": "0rCiUlNQ92Xx",
        "colab": {
          "base_uri": "https://localhost:8080/",
          "height": 369
        },
        "outputId": "0f307b1a-04c7-4302-e8ea-4b9798647d87"
      },
      "source": [
        "if input_dim == output_dim == 1:\n",
        "    fig = plt.figure(figsize=(15, 5))\n",
        "    fig.clf()\n",
        "    \n",
        "    ax = fig.add_subplot(1, 3, 1)\n",
        "    levels = np.logspace(np.log(np.min(loss_values)), np.log(np.max(loss_values)), 20)\n",
        "    ax.contourf(ww, bb, loss_values, levels=levels, norm=colors.LogNorm())\n",
        "    ax.plot(train_hist['weight'], train_hist['bias'], '.-b')\n",
        "    ax.plot(A[0], b, 'r*', markersize=10)\n",
        "    ax.set_xlabel('weight')\n",
        "    ax.set_ylabel('bias')\n",
        "    ax.legend(['optim', '(A, b)'])\n",
        "    ax.grid(True)\n",
        "    ax.set_xlim(-2, 2) \n",
        "    ax.set_ylim(-2, 2) \n",
        "    \n",
        "    ax = fig.add_subplot(1, 3, 2)\n",
        "    ax.loglog(np.abs(train_hist['loss']))\n",
        "    ax.set_xlabel('Iter')\n",
        "    ax.set_ylabel('Loss')\n",
        "    ax.grid(True)\n",
        "    \n",
        "    ax = fig.add_subplot(1, 3, 3)\n",
        "    ax.plot(X_train, y_train, '.')\n",
        "    a=ax.plot(X_test, y_pred[0], '-', alpha=0.1)\n",
        "    for y in y_pred[1:]:\n",
        "        ax.plot(X_test, y, '-', alpha=0.1, color=a[0].get_color())\n",
        "    ax.plot(X_test, y_pred[-1], 'k')\n",
        "    ax.grid(True)   \n",
        "\n",
        "    fig.tight_layout()\n",
        "\n",
        "else:\n",
        "    fig = plt.figure()\n",
        "    fig.clf()\n",
        "    ax = fig.gca()\n",
        "    ax.loglog(np.abs(train_hist['loss']))\n",
        "    ax.set_xlabel('Iter')\n",
        "    ax.set_ylabel('Loss')\n",
        "    ax.grid(True)"
      ],
      "execution_count": 36,
      "outputs": [
        {
          "output_type": "display_data",
          "data": {
            "image/png": "[encoded data removed]",
            "text/plain": [
              "<Figure size 1080x360 with 3 Axes>"
            ]
          },
          "metadata": {
            "needs_background": "light"
          }
        }
      ]
    },
    {
      "cell_type": "code",
      "metadata": {
        "id": "YD0pPrfA92Xx"
      },
      "source": [
        ""
      ],
      "execution_count": 36,
      "outputs": []
    }
  ]
}