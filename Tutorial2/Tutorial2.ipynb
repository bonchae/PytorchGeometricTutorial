{
  "nbformat": 4,
  "nbformat_minor": 0,
  "metadata": {
    "kernelspec": {
      "display_name": "Python 3",
      "language": "python",
      "name": "python3"
    },
    "language_info": {
      "codemirror_mode": {
        "name": "ipython",
        "version": 3
      },
      "file_extension": ".py",
      "mimetype": "text/x-python",
      "name": "python",
      "nbconvert_exporter": "python",
      "pygments_lexer": "ipython3",
      "version": "3.8.3"
    },
    "colab": {
      "name": "Tutorial2.ipynb",
      "provenance": [],
      "machine_shape": "hm",
      "include_colab_link": true
    },
    "accelerator": "GPU"
  },
  "cells": [
    {
      "cell_type": "markdown",
      "metadata": {
        "id": "view-in-github",
        "colab_type": "text"
      },
      "source": [
        "<a href=\"https://colab.research.google.com/github/bonchae/PytorchGeometricTutorial/blob/main/Tutorial2/Tutorial2.ipynb\" target=\"_parent\"><img src=\"https://colab.research.google.com/assets/colab-badge.svg\" alt=\"Open In Colab\"/></a>"
      ]
    },
    {
      "cell_type": "markdown",
      "metadata": {
        "id": "ZUvMXbyi92Xf"
      },
      "source": [
        "# Tutorial2: PyTorch basics"
      ]
    },
    {
      "cell_type": "markdown",
      "metadata": {
        "id": "sdSck-LB92Xi"
      },
      "source": [
        "## Outline"
      ]
    },
    {
      "cell_type": "markdown",
      "metadata": {
        "id": "X0_2AQqO92Xj"
      },
      "source": [
        "- Datasets\n",
        "- Models\n",
        "- Losses\n",
        "- Optimizers"
      ]
    },
    {
      "cell_type": "markdown",
      "metadata": {
        "id": "FX2ySWY592Xj"
      },
      "source": [
        "Official resources:\n",
        "* [Deep Learning with PyTorch: a 60 Minute Blitz](https://pytorch.org/tutorials/beginner/deep_learning_60min_blitz.html)\n",
        "* [PyTorch documentation](https://pytorch.org/docs/stable/index.html)"
      ]
    },
    {
      "cell_type": "markdown",
      "metadata": {
        "id": "eTKnH9ws92Xk"
      },
      "source": [
        "Here no details, mostly visualization, with linear regression."
      ]
    },
    {
      "cell_type": "markdown",
      "metadata": {
        "id": "-FQiymGj92Xk"
      },
      "source": [
        "### Imports"
      ]
    },
    {
      "cell_type": "code",
      "metadata": {
        "id": "E6Y_E_QE92Xk"
      },
      "source": [
        "import numpy as np\n",
        "import torch\n",
        "import matplotlib.pyplot as plt\n",
        "from matplotlib import colors\n",
        "plt.rcParams.update({'font.size': 16})"
      ],
      "execution_count": 1,
      "outputs": []
    },
    {
      "cell_type": "code",
      "metadata": {
        "id": "-BbYcRkr92Xm",
        "outputId": "caae491e-1574-44d3-f8af-61695f300c48",
        "colab": {
          "base_uri": "https://localhost:8080/"
        }
      },
      "source": [
        "x = torch.rand(20, 5)\n",
        "x\n",
        "((x.norm(dim=1) - 1).abs() < 1e-10).float()"
      ],
      "execution_count": 2,
      "outputs": [
        {
          "output_type": "execute_result",
          "data": {
            "text/plain": [
              "tensor([0., 0., 0., 0., 0., 0., 0., 0., 0., 0., 0., 0., 0., 0., 0., 0., 0., 0., 0., 0.])"
            ]
          },
          "metadata": {},
          "execution_count": 2
        }
      ]
    },
    {
      "cell_type": "markdown",
      "metadata": {
        "id": "s8qIjYXi92Xm"
      },
      "source": [
        "## Datasets"
      ]
    },
    {
      "cell_type": "markdown",
      "metadata": {
        "id": "ibmTZEV692Xn"
      },
      "source": [
        "### A raw dataset"
      ]
    },
    {
      "cell_type": "markdown",
      "metadata": {
        "id": "5fQXEDCY92Xn"
      },
      "source": [
        "The data are obtained from the model \n",
        "$$\n",
        "x \\mapsto y:=Ax + b\n",
        "$$\n",
        "with $x\\in\\mathbb R^{input\\_dim}$ and $y\\in\\mathbb R^{output\\_dim}$."
      ]
    },
    {
      "cell_type": "code",
      "metadata": {
        "id": "OYl4mjJn92Xn"
      },
      "source": [
        "input_dim = 1\n",
        "output_dim = 1\n",
        "\n",
        "A = 2 * np.random.rand(output_dim, input_dim) - 1\n",
        "b = 2 * np.random.rand(output_dim) - 1\n",
        "\n",
        "true_model = lambda x: A @ x + b"
      ],
      "execution_count": 3,
      "outputs": []
    },
    {
      "cell_type": "markdown",
      "metadata": {
        "id": "kWRDvpxe92Xo"
      },
      "source": [
        "We get a training set by randomly sampling and noisy observations\n",
        "\\begin{align*}\n",
        "&x_i \\sim U([-1, 1])\\\\\n",
        "&y_i = A x_i + b + \\nu_i\n",
        "\\end{align*}"
      ]
    },
    {
      "cell_type": "code",
      "metadata": {
        "id": "QCQO6Dvb92Xo"
      },
      "source": [
        "n_train = 1000\n",
        "noise_level = 0.04\n",
        "\n",
        "# Generate a random set of n_train samples\n",
        "X_train = np.random.rand(n_train, input_dim)\n",
        "y_train = np.array([true_model(x) for x in X_train])\n",
        "\n",
        "# Add some noise\n",
        "y_train += noise_level * np.random.standard_normal(size=y_train.shape)"
      ],
      "execution_count": 4,
      "outputs": []
    },
    {
      "cell_type": "code",
      "metadata": {
        "id": "f5ckvTRO92Xo",
        "outputId": "de609ec8-887b-4598-a742-620ea8e516b4",
        "colab": {
          "base_uri": "https://localhost:8080/",
          "height": 280
        }
      },
      "source": [
        "if input_dim == output_dim == 1:\n",
        "    fig = plt.figure()\n",
        "    fig.clf()\n",
        "    ax = fig.gca()\n",
        "    ax.plot(X_train, y_train, '.')\n",
        "    ax.grid(True)\n",
        "    ax.set_xlabel('X_train')\n",
        "    ax.set_ylabel('y_train')"
      ],
      "execution_count": 5,
      "outputs": [
        {
          "output_type": "display_data",
          "data": {
            "image/png": "[encoded data removed]",
            "text/plain": [
              "<Figure size 432x288 with 1 Axes>"
            ]
          },
          "metadata": {
            "needs_background": "light"
          }
        }
      ]
    },
    {
      "cell_type": "markdown",
      "metadata": {
        "id": "ZQDf3Ip092Xo"
      },
      "source": [
        "### PyTorch `Dataset`"
      ]
    },
    {
      "cell_type": "code",
      "metadata": {
        "id": "p3Qu9nEH92Xp"
      },
      "source": [
        "#%% Dataset to manage vector to vector data\n",
        "class VectorialDataset(torch.utils.data.Dataset):\n",
        "    def __init__(self, input_data, output_data):\n",
        "        super(VectorialDataset, self).__init__()\n",
        "        self.input_data = torch.tensor(input_data.astype('f'))\n",
        "        self.output_data = torch.tensor(output_data.astype('f'))\n",
        "        \n",
        "    def __len__(self):\n",
        "        return self.input_data.shape[0]\n",
        "    \n",
        "    def __getitem__(self, idx):\n",
        "        if torch.is_tensor(idx):\n",
        "            idx = idx.tolist()\n",
        "        sample = (self.input_data[idx, :], \n",
        "                  self.output_data[idx, :])  \n",
        "        return sample "
      ],
      "execution_count": 6,
      "outputs": []
    },
    {
      "cell_type": "code",
      "metadata": {
        "id": "CTKzByrC92Xp"
      },
      "source": [
        "training_set = VectorialDataset(input_data=X_train, output_data=y_train)"
      ],
      "execution_count": 7,
      "outputs": []
    },
    {
      "cell_type": "code",
      "metadata": {
        "id": "x3msj7hF92Xp",
        "outputId": "0e304a07-5640-419a-ed1a-594d8757a2b8",
        "colab": {
          "base_uri": "https://localhost:8080/"
        }
      },
      "source": [
        "len(training_set)"
      ],
      "execution_count": 8,
      "outputs": [
        {
          "output_type": "execute_result",
          "data": {
            "text/plain": [
              "1000"
            ]
          },
          "metadata": {},
          "execution_count": 8
        }
      ]
    },
    {
      "cell_type": "code",
      "metadata": {
        "id": "0WMeLXzo92Xp",
        "outputId": "9eae0ea2-4aa1-4820-c1cb-c7d1a01744a4",
        "colab": {
          "base_uri": "https://localhost:8080/"
        }
      },
      "source": [
        "training_set[10:12]"
      ],
      "execution_count": 9,
      "outputs": [
        {
          "output_type": "execute_result",
          "data": {
            "text/plain": [
              "(tensor([[0.8331],\n",
              "         [0.0898]]), tensor([[1.6983],\n",
              "         [0.9131]]))"
            ]
          },
          "metadata": {},
          "execution_count": 9
        }
      ]
    },
    {
      "cell_type": "markdown",
      "metadata": {
        "id": "4iYxCnZ992Xq"
      },
      "source": [
        "Here almost useless, but think about e.g. images."
      ]
    },
    {
      "cell_type": "markdown",
      "metadata": {
        "id": "RA0ctJnZ92Xq"
      },
      "source": [
        "### PyTorch `DataLoader`"
      ]
    },
    {
      "cell_type": "code",
      "metadata": {
        "id": "MwGJVUl992Xq"
      },
      "source": [
        "batch_size = 120\n",
        "train_loader = torch.utils.data.DataLoader(training_set, \n",
        "                                           batch_size=batch_size, \n",
        "                                           shuffle=True)"
      ],
      "execution_count": 10,
      "outputs": []
    },
    {
      "cell_type": "markdown",
      "metadata": {
        "id": "Wg5gtCR992Xq"
      },
      "source": [
        "The role of `batch_size`:"
      ]
    },
    {
      "cell_type": "code",
      "metadata": {
        "id": "6WNjBT-I92Xr",
        "outputId": "25ace6cb-b090-4089-9515-f568452d055f",
        "colab": {
          "base_uri": "https://localhost:8080/"
        }
      },
      "source": [
        "for idx, batch in enumerate(train_loader):\n",
        "    print('Batch n. %2d: input size=%s, output size=%s' % (idx+1, batch[0].shape, batch[1].shape))"
      ],
      "execution_count": 11,
      "outputs": [
        {
          "output_type": "stream",
          "name": "stdout",
          "text": [
            "Batch n.  1: input size=torch.Size([120, 1]), output size=torch.Size([120, 1])\n",
            "Batch n.  2: input size=torch.Size([120, 1]), output size=torch.Size([120, 1])\n",
            "Batch n.  3: input size=torch.Size([120, 1]), output size=torch.Size([120, 1])\n",
            "Batch n.  4: input size=torch.Size([120, 1]), output size=torch.Size([120, 1])\n",
            "Batch n.  5: input size=torch.Size([120, 1]), output size=torch.Size([120, 1])\n",
            "Batch n.  6: input size=torch.Size([120, 1]), output size=torch.Size([120, 1])\n",
            "Batch n.  7: input size=torch.Size([120, 1]), output size=torch.Size([120, 1])\n",
            "Batch n.  8: input size=torch.Size([120, 1]), output size=torch.Size([120, 1])\n",
            "Batch n.  9: input size=torch.Size([40, 1]), output size=torch.Size([40, 1])\n"
          ]
        }
      ]
    },
    {
      "cell_type": "code",
      "metadata": {
        "id": "XAw8eKce92Xr",
        "outputId": "12d25e3d-6a15-47d0-b116-5a25711374c1",
        "colab": {
          "base_uri": "https://localhost:8080/"
        }
      },
      "source": [
        "8 * 120"
      ],
      "execution_count": 12,
      "outputs": [
        {
          "output_type": "execute_result",
          "data": {
            "text/plain": [
              "960"
            ]
          },
          "metadata": {},
          "execution_count": 12
        }
      ]
    },
    {
      "cell_type": "markdown",
      "metadata": {
        "id": "zdXF-6qs92Xr"
      },
      "source": [
        "The role of `shuffle`:"
      ]
    },
    {
      "cell_type": "code",
      "metadata": {
        "id": "tdw6_Qtd92Xr",
        "outputId": "0ff7af30-0501-4dc6-cc81-a8e952ce1418",
        "colab": {
          "base_uri": "https://localhost:8080/"
        }
      },
      "source": [
        "first_batch = []\n",
        "\n",
        "for epoch in range(2):\n",
        "    for idx, batch in enumerate(train_loader):\n",
        "        if idx == 0:\n",
        "            first_batch.append(batch)\n",
        "        \n",
        "np.c_[X_train[:batch_size], first_batch[0][0].numpy(), first_batch[1][0].numpy()]"
      ],
      "execution_count": 13,
      "outputs": [
        {
          "output_type": "execute_result",
          "data": {
            "text/plain": [
              "array([[0.2376105 , 0.27774227, 0.80780292],\n",
              "       [0.4862277 , 0.6570673 , 0.96468616],\n",
              "       [0.26208315, 0.24937621, 0.77303946],\n",
              "       [0.25086809, 0.91368818, 0.77729398],\n",
              "       [0.77759749, 0.57800096, 0.13057862],\n",
              "       [0.05871817, 0.84609866, 0.26208314],\n",
              "       [0.72622646, 0.80564421, 0.78982502],\n",
              "       [0.39956631, 0.62825352, 0.98192579],\n",
              "       [0.89657999, 0.07417396, 0.06437043],\n",
              "       [0.44528599, 0.21727213, 0.02799721],\n",
              "       [0.83308053, 0.15440537, 0.13065198],\n",
              "       [0.08984869, 0.95224506, 0.62825352],\n",
              "       [0.81189662, 0.12001933, 0.85598147],\n",
              "       [0.54951172, 0.72260332, 0.99592471],\n",
              "       [0.55609914, 0.2765041 , 0.12468044],\n",
              "       [0.09850107, 0.11097794, 0.43175107],\n",
              "       [0.95628971, 0.01363661, 0.32613781],\n",
              "       [0.86592943, 0.01163373, 0.20053406],\n",
              "       [0.3318421 , 0.88134116, 0.28921852],\n",
              "       [0.44658026, 0.12035959, 0.89557028],\n",
              "       [0.7317236 , 0.45486817, 0.34477076],\n",
              "       [0.18577941, 0.35709256, 0.2303867 ],\n",
              "       [0.2310475 , 0.89227283, 0.94355762],\n",
              "       [0.21307855, 0.7152735 , 0.44073457],\n",
              "       [0.89412221, 0.29927924, 0.52237588],\n",
              "       [0.35996609, 0.6493113 , 0.15134434],\n",
              "       [0.3019035 , 0.10054262, 0.81355345],\n",
              "       [0.89422628, 0.25407797, 0.96909207],\n",
              "       [0.588622  , 0.12428796, 0.19831856],\n",
              "       [0.4078067 , 0.55313015, 0.5427115 ],\n",
              "       [0.80568533, 0.91992426, 0.1749437 ],\n",
              "       [0.24682108, 0.96120799, 0.88134116],\n",
              "       [0.34918168, 0.40773922, 0.3219578 ],\n",
              "       [0.09471857, 0.54005009, 0.83258384],\n",
              "       [0.32947009, 0.30194244, 0.4039236 ],\n",
              "       [0.94087981, 0.85569346, 0.07508116],\n",
              "       [0.34662004, 0.84941411, 0.86592942],\n",
              "       [0.02799722, 0.35833025, 0.98017681],\n",
              "       [0.99436037, 0.41335633, 0.45980075],\n",
              "       [0.76319875, 0.82714891, 0.79951537],\n",
              "       [0.83986342, 0.0473324 , 0.33385724],\n",
              "       [0.57548491, 0.10254421, 0.07496555],\n",
              "       [0.69954026, 0.5926308 , 0.34219399],\n",
              "       [0.16255642, 0.57975721, 0.65908831],\n",
              "       [0.92910273, 0.15596898, 0.79582494],\n",
              "       [0.15440538, 0.36150336, 0.11424413],\n",
              "       [0.65559339, 0.74417955, 0.78614163],\n",
              "       [0.71617088, 0.59543836, 0.13047801],\n",
              "       [0.34219399, 0.07304687, 0.83361959],\n",
              "       [0.24720378, 0.16196282, 0.16662771],\n",
              "       [0.88862683, 0.85913426, 0.55627024],\n",
              "       [0.28584713, 0.13794073, 0.55060315],\n",
              "       [0.80201147, 0.37356022, 0.40773922],\n",
              "       [0.54005007, 0.40443358, 0.42673537],\n",
              "       [0.11528259, 0.34477076, 0.15267068],\n",
              "       [0.49797394, 0.76455361, 0.0403062 ],\n",
              "       [0.76434992, 0.83361959, 0.8902275 ],\n",
              "       [0.56560961, 0.841106  , 0.75418013],\n",
              "       [0.85877324, 0.85275251, 0.18647097],\n",
              "       [0.93104352, 0.88862681, 0.33664137],\n",
              "       [0.69344789, 0.61367953, 0.67107463],\n",
              "       [0.41455989, 0.53079009, 0.74422872],\n",
              "       [0.58397969, 0.10068592, 0.12854278],\n",
              "       [0.70606523, 0.71719801, 0.86651826],\n",
              "       [0.09898214, 0.79573089, 0.16819005],\n",
              "       [0.14630386, 0.39584312, 0.40625224],\n",
              "       [0.20304327, 0.31857845, 0.47654641],\n",
              "       [0.91992428, 0.64315325, 0.58397967],\n",
              "       [0.53630096, 0.63658696, 0.89912647],\n",
              "       [0.55132106, 0.92942154, 0.56971055],\n",
              "       [0.90273067, 0.35034764, 0.88380307],\n",
              "       [0.67438713, 0.10286406, 0.82203966],\n",
              "       [0.13079393, 0.25197402, 0.58142769],\n",
              "       [0.02853061, 0.20304327, 0.30616647],\n",
              "       [0.90713342, 0.15267068, 0.25139114],\n",
              "       [0.45424842, 0.05113958, 0.22615018],\n",
              "       [0.71759309, 0.96731925, 0.64722407],\n",
              "       [0.22103451, 0.10392683, 0.97097623],\n",
              "       [0.90731209, 0.05794921, 0.45330253],\n",
              "       [0.79265299, 0.45879588, 0.06475715],\n",
              "       [0.39322988, 0.13580713, 0.77498585],\n",
              "       [0.31857845, 0.80780292, 0.12242445],\n",
              "       [0.26658696, 0.86521769, 0.16196282],\n",
              "       [0.61210844, 0.65590739, 0.09858803],\n",
              "       [0.95263004, 0.37248504, 0.58382881],\n",
              "       [0.46573981, 0.7867977 , 0.27329698],\n",
              "       [0.80455097, 0.31762674, 0.93211871],\n",
              "       [0.14792766, 0.64829254, 0.8373208 ],\n",
              "       [0.38286182, 0.01860276, 0.78006959],\n",
              "       [0.25923908, 0.40588826, 0.51873595],\n",
              "       [0.31224842, 0.66313869, 0.55596811],\n",
              "       [0.93211873, 0.95388645, 0.59534514],\n",
              "       [0.50259816, 0.49797395, 0.05270673],\n",
              "       [0.58130802, 0.72973585, 0.62275571],\n",
              "       [0.11305817, 0.7320298 , 0.86368364],\n",
              "       [0.66311235, 0.84527689, 0.83804518],\n",
              "       [0.42713667, 0.99436039, 0.50917995],\n",
              "       [0.76018714, 0.04542703, 0.46098149],\n",
              "       [0.70690628, 0.44714397, 0.22367793],\n",
              "       [0.52110426, 0.47654641, 0.21011053],\n",
              "       [0.9872027 , 0.58053493, 0.60091257],\n",
              "       [0.94345575, 0.63793004, 0.87309045],\n",
              "       [0.6227557 , 0.31207374, 0.23668453],\n",
              "       [0.16863194, 0.67111337, 0.79265296],\n",
              "       [0.35624259, 0.81974995, 0.89859354],\n",
              "       [0.89022751, 0.36044198, 0.84640861],\n",
              "       [0.62387302, 0.45344663, 0.46227497],\n",
              "       [0.21880145, 0.73628414, 0.68227333],\n",
              "       [0.78006961, 0.45424843, 0.10137779],\n",
              "       [0.5420213 , 0.52979714, 0.22103451],\n",
              "       [0.99911578, 0.05871817, 0.58124107],\n",
              "       [0.46368915, 0.26009554, 0.47558653],\n",
              "       [0.8838037 , 0.90019816, 0.76518762],\n",
              "       [0.75418012, 0.83986342, 0.32919407],\n",
              "       [0.01363661, 0.4039236 , 0.46958882],\n",
              "       [0.64829256, 0.13065198, 0.20171557],\n",
              "       [0.35034765, 0.44371247, 0.39043194],\n",
              "       [0.14273466, 0.75543141, 0.01721772],\n",
              "       [0.62516634, 0.99911577, 0.85945296],\n",
              "       [0.91662718, 0.17667219, 0.30815113]])"
            ]
          },
          "metadata": {},
          "execution_count": 13
        }
      ]
    },
    {
      "cell_type": "markdown",
      "metadata": {
        "id": "mt5YsKzb92Xr"
      },
      "source": [
        "## Models"
      ]
    },
    {
      "cell_type": "markdown",
      "metadata": {
        "id": "SNjd_Tv492Xr"
      },
      "source": [
        "We implement a linear model $$x \\mapsto model(x):=A x + b$$ \n",
        "\n",
        "with $A\\in \\mathbb{R}^{input\\_dim\\times output\\_dim}$, $b\\in\\mathbb{R}^{output\\_dim}$."
      ]
    },
    {
      "cell_type": "code",
      "metadata": {
        "id": "84Z1Yb2G92Xs"
      },
      "source": [
        "import torch.nn as nn\n",
        "import torch\n",
        "\n",
        "#%% Linear layer\n",
        "class LinearModel(nn.Module):\n",
        "    def __init__(self, input_dim, output_dim):\n",
        "        super(LinearModel, self).__init__()\n",
        "\n",
        "        self.input_dim = input_dim\n",
        "        self.output_dim = output_dim\n",
        "\n",
        "        self.linear = nn.Linear(self.input_dim, self.output_dim, bias=True)\n",
        "\n",
        "    def forward(self, x):\n",
        "        out = self.linear(x)\n",
        "        return out\n",
        "    \n",
        "    def reset(self):\n",
        "        self.linear.reset_parameters()"
      ],
      "execution_count": 14,
      "outputs": []
    },
    {
      "cell_type": "code",
      "metadata": {
        "id": "_yBKgIr692Xs"
      },
      "source": [
        "model = LinearModel(input_dim, output_dim)"
      ],
      "execution_count": 15,
      "outputs": []
    },
    {
      "cell_type": "markdown",
      "metadata": {
        "id": "ieXZIGpD92Xs"
      },
      "source": [
        "### Model inspection"
      ]
    },
    {
      "cell_type": "code",
      "metadata": {
        "id": "ynIdloRP92Xs",
        "outputId": "a4e67836-d3e8-4c8c-e524-f72ab6b2a3c0",
        "colab": {
          "base_uri": "https://localhost:8080/"
        }
      },
      "source": [
        "print(model)"
      ],
      "execution_count": 16,
      "outputs": [
        {
          "output_type": "stream",
          "name": "stdout",
          "text": [
            "LinearModel(\n",
            "  (linear): Linear(in_features=1, out_features=1, bias=True)\n",
            ")\n"
          ]
        }
      ]
    },
    {
      "cell_type": "markdown",
      "metadata": {
        "id": "9XPWFGgf92Xs"
      },
      "source": [
        "See [pytorch.org/docs/stable/nn.html](https://pytorch.org/docs/stable/nn.html) for many other layers."
      ]
    },
    {
      "cell_type": "code",
      "metadata": {
        "id": "cfpe0ypt92Xs",
        "outputId": "24cfc821-5fac-4cf7-e698-588af562a74a",
        "colab": {
          "base_uri": "https://localhost:8080/"
        }
      },
      "source": [
        "list(model.parameters())"
      ],
      "execution_count": 17,
      "outputs": [
        {
          "output_type": "execute_result",
          "data": {
            "text/plain": [
              "[Parameter containing:\n",
              " tensor([[0.6095]], requires_grad=True), Parameter containing:\n",
              " tensor([0.8005], requires_grad=True)]"
            ]
          },
          "metadata": {},
          "execution_count": 17
        }
      ]
    },
    {
      "cell_type": "code",
      "metadata": {
        "id": "MDJI7Q-492Xs",
        "outputId": "7c0a33cd-3c73-4066-e7b3-5a763e6f23d3",
        "colab": {
          "base_uri": "https://localhost:8080/"
        }
      },
      "source": [
        "model.linear.weight"
      ],
      "execution_count": 18,
      "outputs": [
        {
          "output_type": "execute_result",
          "data": {
            "text/plain": [
              "Parameter containing:\n",
              "tensor([[0.6095]], requires_grad=True)"
            ]
          },
          "metadata": {},
          "execution_count": 18
        }
      ]
    },
    {
      "cell_type": "code",
      "metadata": {
        "id": "mT06tPiS92Xt",
        "outputId": "7758bf3d-12fd-4387-99d3-e4005309e878",
        "colab": {
          "base_uri": "https://localhost:8080/"
        }
      },
      "source": [
        "model.linear.bias"
      ],
      "execution_count": 19,
      "outputs": [
        {
          "output_type": "execute_result",
          "data": {
            "text/plain": [
              "Parameter containing:\n",
              "tensor([0.8005], requires_grad=True)"
            ]
          },
          "metadata": {},
          "execution_count": 19
        }
      ]
    },
    {
      "cell_type": "markdown",
      "metadata": {
        "id": "7djh5d_a92Xt"
      },
      "source": [
        "### The `forward` method"
      ]
    },
    {
      "cell_type": "code",
      "metadata": {
        "id": "3EIkRVcA92Xt",
        "outputId": "8e4ef9d6-91e3-4ffc-fbb6-b5c6f5c518ef",
        "colab": {
          "base_uri": "https://localhost:8080/"
        }
      },
      "source": [
        "x = torch.randn(5, input_dim)\n",
        "model.forward(x)"
      ],
      "execution_count": 20,
      "outputs": [
        {
          "output_type": "execute_result",
          "data": {
            "text/plain": [
              "tensor([[0.6054],\n",
              "        [0.9468],\n",
              "        [1.1681],\n",
              "        [0.9971],\n",
              "        [0.5033]], grad_fn=<AddmmBackward>)"
            ]
          },
          "metadata": {},
          "execution_count": 20
        }
      ]
    },
    {
      "cell_type": "code",
      "metadata": {
        "id": "Who_dnZP92Xt",
        "outputId": "77a99380-ff41-4e8f-8fcb-ddecd0ca8fe5",
        "colab": {
          "base_uri": "https://localhost:8080/"
        }
      },
      "source": [
        "[model.linear.weight @ xx + model.linear.bias for xx in x]"
      ],
      "execution_count": 21,
      "outputs": [
        {
          "output_type": "execute_result",
          "data": {
            "text/plain": [
              "[tensor([0.6054], grad_fn=<AddBackward0>),\n",
              " tensor([0.9468], grad_fn=<AddBackward0>),\n",
              " tensor([1.1681], grad_fn=<AddBackward0>),\n",
              " tensor([0.9971], grad_fn=<AddBackward0>),\n",
              " tensor([0.5033], grad_fn=<AddBackward0>)]"
            ]
          },
          "metadata": {},
          "execution_count": 21
        }
      ]
    },
    {
      "cell_type": "code",
      "metadata": {
        "id": "Ckfyuj1292Xt",
        "outputId": "e17bd97e-40cf-4a99-f9b9-3fb665317d2f",
        "colab": {
          "base_uri": "https://localhost:8080/",
          "height": 280
        }
      },
      "source": [
        "if input_dim == output_dim == 1:\n",
        "    fig = plt.figure()\n",
        "    fig.clf()\n",
        "    ax = fig.gca()\n",
        "    ax.plot(training_set.input_data, training_set.output_data, '.')\n",
        "    ax.plot(training_set.input_data, model.forward(training_set.input_data).detach().numpy(), '.')\n",
        "    ax.grid(True)\n",
        "    ax.set_xlabel('X_train')\n",
        "    ax.legend(['y_train', 'model(X_train)'])    "
      ],
      "execution_count": 22,
      "outputs": [
        {
          "output_type": "display_data",
          "data": {
            "image/png": "[encoded data removed]",
            "text/plain": [
              "<Figure size 432x288 with 1 Axes>"
            ]
          },
          "metadata": {
            "needs_background": "light"
          }
        }
      ]
    },
    {
      "cell_type": "markdown",
      "metadata": {
        "id": "cvtLe2cx92Xt"
      },
      "source": [
        "## Losses"
      ]
    },
    {
      "cell_type": "markdown",
      "metadata": {
        "id": "JEDV1i8b92Xt"
      },
      "source": [
        "### The MSE loss"
      ]
    },
    {
      "cell_type": "markdown",
      "metadata": {
        "id": "Q3rFVR5s92Xt"
      },
      "source": [
        "The MSE loss is\n",
        "$$\n",
        "L(y, y') = \\|y-y'\\|_2^2\n",
        "$$"
      ]
    },
    {
      "cell_type": "code",
      "metadata": {
        "id": "l_I2rNSk92Xu"
      },
      "source": [
        "import torch.nn as nn\n",
        "loss_fun = nn.MSELoss(reduction='mean')"
      ],
      "execution_count": 23,
      "outputs": []
    },
    {
      "cell_type": "markdown",
      "metadata": {
        "id": "Pk1MGdju92Xu"
      },
      "source": [
        "More at [pytorch.org/docs/stable/nn.html#loss-functions](https://pytorch.org/docs/stable/nn.html#loss-functions)"
      ]
    },
    {
      "cell_type": "code",
      "metadata": {
        "id": "ogcyQGwq92Xu",
        "outputId": "8a095f4e-702a-4a91-d161-0cd970287237",
        "colab": {
          "base_uri": "https://localhost:8080/"
        }
      },
      "source": [
        "x = torch.tensor(np.array([1, 2, 1]).astype('f'))\n",
        "z = torch.tensor(np.array([0, 0, 0]).astype('f'))\n",
        "loss_fun(x, z)"
      ],
      "execution_count": 24,
      "outputs": [
        {
          "output_type": "execute_result",
          "data": {
            "text/plain": [
              "tensor(2.)"
            ]
          },
          "metadata": {},
          "execution_count": 24
        }
      ]
    },
    {
      "cell_type": "markdown",
      "metadata": {
        "id": "QFqdsLzL92Xu"
      },
      "source": [
        "### Giving a score to the model (parameters) given the training set"
      ]
    },
    {
      "cell_type": "markdown",
      "metadata": {
        "id": "SLrSVaFs92Xu"
      },
      "source": [
        "The loss for one data pair $(x_i, y_i)$ is \n",
        "$$\n",
        "L(model(x_i), y_i)\n",
        "$$\n",
        "\n",
        "The cumulative (average) loss on the training set is \n",
        "$$\n",
        "L(X_{train}, y_{train}):=\\frac{1}{n_{train}} \\sum_{i=1}^{n_{train}} L(model(x_i), y_i)\n",
        "$$"
      ]
    },
    {
      "cell_type": "code",
      "metadata": {
        "id": "YHTbiDmF92Xu",
        "outputId": "537fcd2b-d113-4dac-f094-4b0008ed7d59",
        "colab": {
          "base_uri": "https://localhost:8080/",
          "height": 501
        }
      },
      "source": [
        "if input_dim == output_dim == 1:\n",
        "\n",
        "    state_dict = model.state_dict()\n",
        "\n",
        "    ww, bb = np.meshgrid(np.linspace(-2, 2, 30), np.linspace(-2, 2, 30))\n",
        "\n",
        "    loss_values = 0 * ww\n",
        "    for i in range(ww.shape[0]):\n",
        "        for j in range(ww.shape[1]):\n",
        "            state_dict['linear.weight'] = torch.tensor([[ww[i, j]]])\n",
        "            state_dict['linear.bias'] = torch.tensor([bb[i, j]])\n",
        "            model.load_state_dict(state_dict)\n",
        "            loss_values[i, j] = loss_fun(model.forward(training_set.input_data),  training_set.output_data)\n",
        "\n",
        "    fig = plt.figure(figsize=(10, 8))\n",
        "    fig.clf()\n",
        "    ax = fig.gca()\n",
        "    levels = np.logspace(np.log(np.min(loss_values)), np.log(np.max(loss_values)), 20)\n",
        "    c=ax.contourf(ww, bb, loss_values, levels=levels, norm=colors.LogNorm())\n",
        "    plt.colorbar(c)\n",
        "    ax.plot(A[0], b, 'r*', markersize=10)\n",
        "    ax.set_ylabel('bias')\n",
        "    ax.set_xlabel('weight')\n",
        "    ax.legend(['(A, b)'])\n",
        "    \n",
        "    ax.grid(True)    "
      ],
      "execution_count": 25,
      "outputs": [
        {
          "output_type": "display_data",
          "data": {
            "image/png": "[encoded data removed]",
            "text/plain": [
              "<Figure size 720x576 with 2 Axes>"
            ]
          },
          "metadata": {
            "needs_background": "light"
          }
        }
      ]
    },
    {
      "cell_type": "markdown",
      "metadata": {
        "id": "1mkogFPT92Xu"
      },
      "source": [
        "## Optimization"
      ]
    },
    {
      "cell_type": "markdown",
      "metadata": {
        "id": "sQm1FtGq92Xu"
      },
      "source": [
        "Goal: minimize the loss given the data:\n",
        "$$\n",
        "\\min\\limits_{par \\in model} L(X_{train}, y_{train})\n",
        "=\\min\\limits_{par \\in model} \\frac{1}{n_{train}} \\sum_{i=1}^{n_{train}} L(x_i, model(x_i))\n",
        "$$\n",
        "\n",
        "In this case $par =\\{A, b\\}$."
      ]
    },
    {
      "cell_type": "markdown",
      "metadata": {
        "id": "RnK-NtFu92Xv"
      },
      "source": [
        "Iterative gradient based optimization:\n",
        "\\begin{align*}\n",
        "par^{(0)} &= par_0\\\\\n",
        "par^{(k+1)} &=  par^{(k)} - \\eta^{(k)} \\nabla_{par} L(X_{train}, y_{train})\n",
        "\\end{align*}    \n",
        "with learning rate $\\eta^{(k)}$."
      ]
    },
    {
      "cell_type": "markdown",
      "metadata": {
        "id": "D-SY6MgV92Xv"
      },
      "source": [
        "### Gradients"
      ]
    },
    {
      "cell_type": "markdown",
      "metadata": {
        "id": "JEshpO8V92Xv"
      },
      "source": [
        "The model is \n",
        "$$\n",
        "model(x) = A x + b\n",
        "$$\n",
        "\n",
        "With $input\\_dim = output\\_dim = 1$ we have $A:=a\\in\\mathbb{R},\\ b\\in\\mathbb{R}$. \n",
        "\n",
        "For a data pair $(x, y)$ the loss is\n",
        "\\begin{align*}\n",
        "L(x, y) \n",
        "&= \\|model(x)-y\\|_2^2\\\\ \n",
        "&= (model(x)-y)^2\\\\\n",
        "&= (a x + b - y)^2\\\\\n",
        "&= a^2 x^2 + 2 a b x - 2 a xy + b^2 -2 b y + y^2.\n",
        "\\end{align*}\n",
        "\n",
        "We can compute\n",
        "\\begin{align*}\n",
        "\\nabla_a L(x, y) \n",
        "&= 2 a x^2 + 2 b x - 2 xy\n",
        "=2 x (a x + b - y)\\\\\n",
        "\\nabla_b L(x, y)\n",
        "&= 2 a x + 2 b - 2 y\n",
        "= 2 (ax + b - y).\n",
        "\\end{align*}\n"
      ]
    },
    {
      "cell_type": "code",
      "metadata": {
        "id": "C0FeHXr-92Xv"
      },
      "source": [
        "x = torch.randn(1, input_dim)\n",
        "y =  torch.randn(1, output_dim)\n",
        "\n",
        "model.zero_grad()\n",
        "loss = loss_fun(model.forward(x),  y)\n",
        "loss.backward()"
      ],
      "execution_count": 26,
      "outputs": []
    },
    {
      "cell_type": "code",
      "metadata": {
        "id": "JZ-rBoXy92Xv",
        "outputId": "59412567-1a19-4862-804e-96e460537eef",
        "colab": {
          "base_uri": "https://localhost:8080/"
        }
      },
      "source": [
        "if input_dim == output_dim == 1:\n",
        "    print(model.linear.weight.grad)\n",
        "    print(2 * x * (model.linear.weight * x + model.linear.bias - y))\n",
        "    \n",
        "    print(model.linear.bias.grad)\n",
        "    print(2 * (model.linear.weight * x + model.linear.bias - y))"
      ],
      "execution_count": 27,
      "outputs": [
        {
          "output_type": "stream",
          "name": "stdout",
          "text": [
            "tensor([[3.5861]])\n",
            "tensor([[3.5861]], grad_fn=<MulBackward0>)\n",
            "tensor([5.4489])\n",
            "tensor([[5.4489]], grad_fn=<MulBackward0>)\n"
          ]
        }
      ]
    },
    {
      "cell_type": "markdown",
      "metadata": {
        "id": "9OrvzKKc92Xv"
      },
      "source": [
        "### Handmade optimization"
      ]
    },
    {
      "cell_type": "code",
      "metadata": {
        "id": "IwufHklh92Xv"
      },
      "source": [
        "if input_dim == output_dim == 1:\n",
        "\n",
        "    num_iter = 200\n",
        "    lr = 0.5 # 0.01\n",
        "\n",
        "    train_hist = {}\n",
        "    train_hist['weight'] = []\n",
        "    train_hist['bias'] = []\n",
        "\n",
        "    model.reset()\n",
        "    state_dict = model.state_dict()\n",
        "\n",
        "    for _ in range(num_iter):\n",
        "\n",
        "        model.zero_grad()\n",
        "        loss = loss_fun(model.forward(training_set.input_data), training_set.output_data)\n",
        "        loss.backward()\n",
        "\n",
        "        w = model.linear.weight.item()\n",
        "        b = model.linear.bias.item()\n",
        "\n",
        "        dw = model.linear.weight.grad.item()\n",
        "        db = model.linear.bias.grad.item()\n",
        "\n",
        "        state_dict['linear.weight'] += torch.tensor([-lr * dw])\n",
        "        state_dict['linear.bias'] += torch.tensor([-lr * db])\n",
        "        model.load_state_dict(state_dict)\n",
        "\n",
        "        train_hist['weight'].append(w)\n",
        "        train_hist['bias'].append(b)\n",
        "\n",
        "    for label in train_hist:\n",
        "        train_hist[label] = np.array(train_hist[label])"
      ],
      "execution_count": 28,
      "outputs": []
    },
    {
      "cell_type": "code",
      "metadata": {
        "id": "yoM2clmT92Xw",
        "outputId": "ff3d9cab-51dc-4966-bb98-e4089312ef8a",
        "colab": {
          "base_uri": "https://localhost:8080/",
          "height": 501
        }
      },
      "source": [
        "if input_dim == output_dim == 1:\n",
        "    fig = plt.figure(figsize=(8, 8))\n",
        "    fig.clf()\n",
        "    ax = fig.gca()\n",
        "    levels = np.logspace(np.log(np.min(loss_values)), np.log(np.max(loss_values)), 20)\n",
        "    ax.contourf(ww, bb, loss_values, levels=levels, norm=colors.LogNorm())\n",
        "    ax.set_xlabel('weight')\n",
        "    ax.set_ylabel('bias')\n",
        "    ax.grid(True)\n",
        "    ax.set_xlim(-2, 2) \n",
        "    ax.set_ylim(-2, 2) \n",
        "    \n",
        "    ax.plot(train_hist['weight'], train_hist['bias'], '.-b')\n",
        "    ax.plot(A[0], b, 'r*', markersize=10)\n",
        "\n",
        "    ax.legend(['optim', '(A, b)'])"
      ],
      "execution_count": 29,
      "outputs": [
        {
          "output_type": "display_data",
          "data": {
            "image/png": "[encoded data removed]",
            "text/plain": [
              "<Figure size 576x576 with 1 Axes>"
            ]
          },
          "metadata": {
            "needs_background": "light"
          }
        }
      ]
    },
    {
      "cell_type": "markdown",
      "metadata": {
        "id": "nEjEQ1Yw92Xw"
      },
      "source": [
        "### Stochastic GD"
      ]
    },
    {
      "cell_type": "markdown",
      "metadata": {
        "id": "Ai1BpOW892Xw"
      },
      "source": [
        "* Avoid loading the full training set\n",
        "* Avoid evaluating the model on the full training set"
      ]
    },
    {
      "cell_type": "markdown",
      "metadata": {
        "id": "5_T884Z_92Xw"
      },
      "source": [
        "At every step, compute the loss on a batch of data $(X^{(k)}, y^{(k)})\\sim (X_{train}, y_{train})$: \n",
        "\n",
        "\\begin{align*}\n",
        "L(X^{(k)}, y^{(k)}) := \\sum_{(x, y) \\in (X^{(k)}, y^{(k)})} L(x, model(x)).\n",
        "\\end{align*}    \n",
        "\n",
        "and then update with this approximated gradient:\n",
        "\\begin{align*}\n",
        "par^{(k+1)} &=  par^{(k)} - \\eta^{(k)} \\nabla_{par} L(X^{(k)}, y^{(k)}). \n",
        "\\end{align*}    "
      ]
    },
    {
      "cell_type": "markdown",
      "metadata": {
        "id": "3HmRlZbR92Xw"
      },
      "source": [
        "### PyTorch `optim`"
      ]
    },
    {
      "cell_type": "code",
      "metadata": {
        "id": "uKF878or92Xw"
      },
      "source": [
        "lr = 0.1\n",
        "weight_decay = 5e-4\n",
        "optimizer = torch.optim.Adam(model.parameters(), lr=lr, weight_decay=weight_decay)"
      ],
      "execution_count": 30,
      "outputs": []
    },
    {
      "cell_type": "markdown",
      "metadata": {
        "id": "8Qd3f2gV92Xw"
      },
      "source": [
        "More at [pytorch.org/docs/stable/optim.html](https://pytorch.org/docs/stable/optim.html)."
      ]
    },
    {
      "cell_type": "code",
      "metadata": {
        "id": "I1J5Kc_X92Xw"
      },
      "source": [
        "n_epochs = 100"
      ],
      "execution_count": 31,
      "outputs": []
    },
    {
      "cell_type": "code",
      "metadata": {
        "id": "pFfa-7Uc92Xw",
        "outputId": "2d20843c-ca5e-4e6e-a4b5-3aca9f3e4511",
        "colab": {
          "base_uri": "https://localhost:8080/"
        }
      },
      "source": [
        "train_hist = {}\n",
        "train_hist['loss'] = []\n",
        "\n",
        "if input_dim == output_dim == 1:\n",
        "    train_hist['weight'] = []\n",
        "    train_hist['bias'] = []\n",
        "\n",
        "# Initialize training\n",
        "model.reset()\n",
        "model.train()\n",
        "\n",
        "for epoch in range(n_epochs):\n",
        "    for idx, batch in enumerate(train_loader):\n",
        "        optimizer.zero_grad()\n",
        "        loss = loss_fun(model.forward(batch[0]),  batch[1])\n",
        "        loss.backward()\n",
        "        optimizer.step()\n",
        "\n",
        "        train_hist['loss'].append(loss.item())\n",
        "        if input_dim == output_dim == 1:\n",
        "            train_hist['weight'].append(model.linear.weight.item())\n",
        "            train_hist['bias'].append(model.linear.bias.item())\n",
        "        \n",
        "        print('[Epoch %4d/%4d] [Batch %4d/%4d] Loss: % 2.2e' % (epoch + 1, n_epochs, \n",
        "                                                                idx + 1, len(train_loader), \n",
        "                                                                loss.item()))\n",
        "        \n",
        "model.eval()"
      ],
      "execution_count": 32,
      "outputs": [
        {
          "output_type": "stream",
          "name": "stdout",
          "text": [
            "[Epoch    1/ 100] [Batch    1/   9] Loss:  6.73e+00\n",
            "[Epoch    1/ 100] [Batch    2/   9] Loss:  5.50e+00\n",
            "[Epoch    1/ 100] [Batch    3/   9] Loss:  4.96e+00\n",
            "[Epoch    1/ 100] [Batch    4/   9] Loss:  4.25e+00\n",
            "[Epoch    1/ 100] [Batch    5/   9] Loss:  3.94e+00\n",
            "[Epoch    1/ 100] [Batch    6/   9] Loss:  3.01e+00\n",
            "[Epoch    1/ 100] [Batch    7/   9] Loss:  2.65e+00\n",
            "[Epoch    1/ 100] [Batch    8/   9] Loss:  2.24e+00\n",
            "[Epoch    1/ 100] [Batch    9/   9] Loss:  1.81e+00\n",
            "[Epoch    2/ 100] [Batch    1/   9] Loss:  1.49e+00\n",
            "[Epoch    2/ 100] [Batch    2/   9] Loss:  1.09e+00\n",
            "[Epoch    2/ 100] [Batch    3/   9] Loss:  8.40e-01\n",
            "[Epoch    2/ 100] [Batch    4/   9] Loss:  6.95e-01\n",
            "[Epoch    2/ 100] [Batch    5/   9] Loss:  4.67e-01\n",
            "[Epoch    2/ 100] [Batch    6/   9] Loss:  2.84e-01\n",
            "[Epoch    2/ 100] [Batch    7/   9] Loss:  2.04e-01\n",
            "[Epoch    2/ 100] [Batch    8/   9] Loss:  1.06e-01\n",
            "[Epoch    2/ 100] [Batch    9/   9] Loss:  4.84e-02\n",
            "[Epoch    3/ 100] [Batch    1/   9] Loss:  2.32e-02\n",
            "[Epoch    3/ 100] [Batch    2/   9] Loss:  7.73e-03\n",
            "[Epoch    3/ 100] [Batch    3/   9] Loss:  8.98e-03\n",
            "[Epoch    3/ 100] [Batch    4/   9] Loss:  2.33e-02\n",
            "[Epoch    3/ 100] [Batch    5/   9] Loss:  4.33e-02\n",
            "[Epoch    3/ 100] [Batch    6/   9] Loss:  6.31e-02\n",
            "[Epoch    3/ 100] [Batch    7/   9] Loss:  8.89e-02\n",
            "[Epoch    3/ 100] [Batch    8/   9] Loss:  1.17e-01\n",
            "[Epoch    3/ 100] [Batch    9/   9] Loss:  1.48e-01\n",
            "[Epoch    4/ 100] [Batch    1/   9] Loss:  1.56e-01\n",
            "[Epoch    4/ 100] [Batch    2/   9] Loss:  1.66e-01\n",
            "[Epoch    4/ 100] [Batch    3/   9] Loss:  1.86e-01\n",
            "[Epoch    4/ 100] [Batch    4/   9] Loss:  1.89e-01\n",
            "[Epoch    4/ 100] [Batch    5/   9] Loss:  1.78e-01\n",
            "[Epoch    4/ 100] [Batch    6/   9] Loss:  1.75e-01\n",
            "[Epoch    4/ 100] [Batch    7/   9] Loss:  1.64e-01\n",
            "[Epoch    4/ 100] [Batch    8/   9] Loss:  1.51e-01\n",
            "[Epoch    4/ 100] [Batch    9/   9] Loss:  1.43e-01\n",
            "[Epoch    5/ 100] [Batch    1/   9] Loss:  1.11e-01\n",
            "[Epoch    5/ 100] [Batch    2/   9] Loss:  9.92e-02\n",
            "[Epoch    5/ 100] [Batch    3/   9] Loss:  7.95e-02\n",
            "[Epoch    5/ 100] [Batch    4/   9] Loss:  6.35e-02\n",
            "[Epoch    5/ 100] [Batch    5/   9] Loss:  5.19e-02\n",
            "[Epoch    5/ 100] [Batch    6/   9] Loss:  4.01e-02\n",
            "[Epoch    5/ 100] [Batch    7/   9] Loss:  2.62e-02\n",
            "[Epoch    5/ 100] [Batch    8/   9] Loss:  1.98e-02\n",
            "[Epoch    5/ 100] [Batch    9/   9] Loss:  1.12e-02\n",
            "[Epoch    6/ 100] [Batch    1/   9] Loss:  7.33e-03\n",
            "[Epoch    6/ 100] [Batch    2/   9] Loss:  6.12e-03\n",
            "[Epoch    6/ 100] [Batch    3/   9] Loss:  4.68e-03\n",
            "[Epoch    6/ 100] [Batch    4/   9] Loss:  5.19e-03\n",
            "[Epoch    6/ 100] [Batch    5/   9] Loss:  5.68e-03\n",
            "[Epoch    6/ 100] [Batch    6/   9] Loss:  7.79e-03\n",
            "[Epoch    6/ 100] [Batch    7/   9] Loss:  7.38e-03\n",
            "[Epoch    6/ 100] [Batch    8/   9] Loss:  1.26e-02\n",
            "[Epoch    6/ 100] [Batch    9/   9] Loss:  1.46e-02\n",
            "[Epoch    7/ 100] [Batch    1/   9] Loss:  1.61e-02\n",
            "[Epoch    7/ 100] [Batch    2/   9] Loss:  1.65e-02\n",
            "[Epoch    7/ 100] [Batch    3/   9] Loss:  1.53e-02\n",
            "[Epoch    7/ 100] [Batch    4/   9] Loss:  1.48e-02\n",
            "[Epoch    7/ 100] [Batch    5/   9] Loss:  1.69e-02\n",
            "[Epoch    7/ 100] [Batch    6/   9] Loss:  1.40e-02\n",
            "[Epoch    7/ 100] [Batch    7/   9] Loss:  1.66e-02\n",
            "[Epoch    7/ 100] [Batch    8/   9] Loss:  1.36e-02\n",
            "[Epoch    7/ 100] [Batch    9/   9] Loss:  1.53e-02\n",
            "[Epoch    8/ 100] [Batch    1/   9] Loss:  1.07e-02\n",
            "[Epoch    8/ 100] [Batch    2/   9] Loss:  8.81e-03\n",
            "[Epoch    8/ 100] [Batch    3/   9] Loss:  7.90e-03\n",
            "[Epoch    8/ 100] [Batch    4/   9] Loss:  5.18e-03\n",
            "[Epoch    8/ 100] [Batch    5/   9] Loss:  5.74e-03\n",
            "[Epoch    8/ 100] [Batch    6/   9] Loss:  3.98e-03\n",
            "[Epoch    8/ 100] [Batch    7/   9] Loss:  3.71e-03\n",
            "[Epoch    8/ 100] [Batch    8/   9] Loss:  3.42e-03\n",
            "[Epoch    8/ 100] [Batch    9/   9] Loss:  3.02e-03\n",
            "[Epoch    9/ 100] [Batch    1/   9] Loss:  2.74e-03\n",
            "[Epoch    9/ 100] [Batch    2/   9] Loss:  3.47e-03\n",
            "[Epoch    9/ 100] [Batch    3/   9] Loss:  3.59e-03\n",
            "[Epoch    9/ 100] [Batch    4/   9] Loss:  3.41e-03\n",
            "[Epoch    9/ 100] [Batch    5/   9] Loss:  3.65e-03\n",
            "[Epoch    9/ 100] [Batch    6/   9] Loss:  3.27e-03\n",
            "[Epoch    9/ 100] [Batch    7/   9] Loss:  3.51e-03\n",
            "[Epoch    9/ 100] [Batch    8/   9] Loss:  4.85e-03\n",
            "[Epoch    9/ 100] [Batch    9/   9] Loss:  4.34e-03\n",
            "[Epoch   10/ 100] [Batch    1/   9] Loss:  4.07e-03\n",
            "[Epoch   10/ 100] [Batch    2/   9] Loss:  3.10e-03\n",
            "[Epoch   10/ 100] [Batch    3/   9] Loss:  3.73e-03\n",
            "[Epoch   10/ 100] [Batch    4/   9] Loss:  3.09e-03\n",
            "[Epoch   10/ 100] [Batch    5/   9] Loss:  3.74e-03\n",
            "[Epoch   10/ 100] [Batch    6/   9] Loss:  3.41e-03\n",
            "[Epoch   10/ 100] [Batch    7/   9] Loss:  3.09e-03\n",
            "[Epoch   10/ 100] [Batch    8/   9] Loss:  2.42e-03\n",
            "[Epoch   10/ 100] [Batch    9/   9] Loss:  2.79e-03\n",
            "[Epoch   11/ 100] [Batch    1/   9] Loss:  2.85e-03\n",
            "[Epoch   11/ 100] [Batch    2/   9] Loss:  2.60e-03\n",
            "[Epoch   11/ 100] [Batch    3/   9] Loss:  2.42e-03\n",
            "[Epoch   11/ 100] [Batch    4/   9] Loss:  1.92e-03\n",
            "[Epoch   11/ 100] [Batch    5/   9] Loss:  2.39e-03\n",
            "[Epoch   11/ 100] [Batch    6/   9] Loss:  2.01e-03\n",
            "[Epoch   11/ 100] [Batch    7/   9] Loss:  2.11e-03\n",
            "[Epoch   11/ 100] [Batch    8/   9] Loss:  3.12e-03\n",
            "[Epoch   11/ 100] [Batch    9/   9] Loss:  2.42e-03\n",
            "[Epoch   12/ 100] [Batch    1/   9] Loss:  2.08e-03\n",
            "[Epoch   12/ 100] [Batch    2/   9] Loss:  3.18e-03\n",
            "[Epoch   12/ 100] [Batch    3/   9] Loss:  2.19e-03\n",
            "[Epoch   12/ 100] [Batch    4/   9] Loss:  2.02e-03\n",
            "[Epoch   12/ 100] [Batch    5/   9] Loss:  2.00e-03\n",
            "[Epoch   12/ 100] [Batch    6/   9] Loss:  2.43e-03\n",
            "[Epoch   12/ 100] [Batch    7/   9] Loss:  1.97e-03\n",
            "[Epoch   12/ 100] [Batch    8/   9] Loss:  1.79e-03\n",
            "[Epoch   12/ 100] [Batch    9/   9] Loss:  2.18e-03\n",
            "[Epoch   13/ 100] [Batch    1/   9] Loss:  1.72e-03\n",
            "[Epoch   13/ 100] [Batch    2/   9] Loss:  1.75e-03\n",
            "[Epoch   13/ 100] [Batch    3/   9] Loss:  2.06e-03\n",
            "[Epoch   13/ 100] [Batch    4/   9] Loss:  2.57e-03\n",
            "[Epoch   13/ 100] [Batch    5/   9] Loss:  1.75e-03\n",
            "[Epoch   13/ 100] [Batch    6/   9] Loss:  1.92e-03\n",
            "[Epoch   13/ 100] [Batch    7/   9] Loss:  1.94e-03\n",
            "[Epoch   13/ 100] [Batch    8/   9] Loss:  1.80e-03\n",
            "[Epoch   13/ 100] [Batch    9/   9] Loss:  2.00e-03\n",
            "[Epoch   14/ 100] [Batch    1/   9] Loss:  1.80e-03\n",
            "[Epoch   14/ 100] [Batch    2/   9] Loss:  1.82e-03\n",
            "[Epoch   14/ 100] [Batch    3/   9] Loss:  2.03e-03\n",
            "[Epoch   14/ 100] [Batch    4/   9] Loss:  1.72e-03\n",
            "[Epoch   14/ 100] [Batch    5/   9] Loss:  1.66e-03\n",
            "[Epoch   14/ 100] [Batch    6/   9] Loss:  1.86e-03\n",
            "[Epoch   14/ 100] [Batch    7/   9] Loss:  2.21e-03\n",
            "[Epoch   14/ 100] [Batch    8/   9] Loss:  1.50e-03\n",
            "[Epoch   14/ 100] [Batch    9/   9] Loss:  2.00e-03\n",
            "[Epoch   15/ 100] [Batch    1/   9] Loss:  1.70e-03\n",
            "[Epoch   15/ 100] [Batch    2/   9] Loss:  1.79e-03\n",
            "[Epoch   15/ 100] [Batch    3/   9] Loss:  1.62e-03\n",
            "[Epoch   15/ 100] [Batch    4/   9] Loss:  1.41e-03\n",
            "[Epoch   15/ 100] [Batch    5/   9] Loss:  1.94e-03\n",
            "[Epoch   15/ 100] [Batch    6/   9] Loss:  1.80e-03\n",
            "[Epoch   15/ 100] [Batch    7/   9] Loss:  1.69e-03\n",
            "[Epoch   15/ 100] [Batch    8/   9] Loss:  1.83e-03\n",
            "[Epoch   15/ 100] [Batch    9/   9] Loss:  2.04e-03\n",
            "[Epoch   16/ 100] [Batch    1/   9] Loss:  1.92e-03\n",
            "[Epoch   16/ 100] [Batch    2/   9] Loss:  1.26e-03\n",
            "[Epoch   16/ 100] [Batch    3/   9] Loss:  1.81e-03\n",
            "[Epoch   16/ 100] [Batch    4/   9] Loss:  1.68e-03\n",
            "[Epoch   16/ 100] [Batch    5/   9] Loss:  1.67e-03\n",
            "[Epoch   16/ 100] [Batch    6/   9] Loss:  1.53e-03\n",
            "[Epoch   16/ 100] [Batch    7/   9] Loss:  1.75e-03\n",
            "[Epoch   16/ 100] [Batch    8/   9] Loss:  1.57e-03\n",
            "[Epoch   16/ 100] [Batch    9/   9] Loss:  2.26e-03\n",
            "[Epoch   17/ 100] [Batch    1/   9] Loss:  1.46e-03\n",
            "[Epoch   17/ 100] [Batch    2/   9] Loss:  2.21e-03\n",
            "[Epoch   17/ 100] [Batch    3/   9] Loss:  1.31e-03\n",
            "[Epoch   17/ 100] [Batch    4/   9] Loss:  1.63e-03\n",
            "[Epoch   17/ 100] [Batch    5/   9] Loss:  1.95e-03\n",
            "[Epoch   17/ 100] [Batch    6/   9] Loss:  1.35e-03\n",
            "[Epoch   17/ 100] [Batch    7/   9] Loss:  1.50e-03\n",
            "[Epoch   17/ 100] [Batch    8/   9] Loss:  1.69e-03\n",
            "[Epoch   17/ 100] [Batch    9/   9] Loss:  1.52e-03\n",
            "[Epoch   18/ 100] [Batch    1/   9] Loss:  1.42e-03\n",
            "[Epoch   18/ 100] [Batch    2/   9] Loss:  1.60e-03\n",
            "[Epoch   18/ 100] [Batch    3/   9] Loss:  1.65e-03\n",
            "[Epoch   18/ 100] [Batch    4/   9] Loss:  1.78e-03\n",
            "[Epoch   18/ 100] [Batch    5/   9] Loss:  1.92e-03\n",
            "[Epoch   18/ 100] [Batch    6/   9] Loss:  1.52e-03\n",
            "[Epoch   18/ 100] [Batch    7/   9] Loss:  1.65e-03\n",
            "[Epoch   18/ 100] [Batch    8/   9] Loss:  1.40e-03\n",
            "[Epoch   18/ 100] [Batch    9/   9] Loss:  1.26e-03\n",
            "[Epoch   19/ 100] [Batch    1/   9] Loss:  1.72e-03\n",
            "[Epoch   19/ 100] [Batch    2/   9] Loss:  1.78e-03\n",
            "[Epoch   19/ 100] [Batch    3/   9] Loss:  1.49e-03\n",
            "[Epoch   19/ 100] [Batch    4/   9] Loss:  1.80e-03\n",
            "[Epoch   19/ 100] [Batch    5/   9] Loss:  1.53e-03\n",
            "[Epoch   19/ 100] [Batch    6/   9] Loss:  1.23e-03\n",
            "[Epoch   19/ 100] [Batch    7/   9] Loss:  1.71e-03\n",
            "[Epoch   19/ 100] [Batch    8/   9] Loss:  1.54e-03\n",
            "[Epoch   19/ 100] [Batch    9/   9] Loss:  1.34e-03\n",
            "[Epoch   20/ 100] [Batch    1/   9] Loss:  1.79e-03\n",
            "[Epoch   20/ 100] [Batch    2/   9] Loss:  1.52e-03\n",
            "[Epoch   20/ 100] [Batch    3/   9] Loss:  1.25e-03\n",
            "[Epoch   20/ 100] [Batch    4/   9] Loss:  1.45e-03\n",
            "[Epoch   20/ 100] [Batch    5/   9] Loss:  1.65e-03\n",
            "[Epoch   20/ 100] [Batch    6/   9] Loss:  1.61e-03\n",
            "[Epoch   20/ 100] [Batch    7/   9] Loss:  1.77e-03\n",
            "[Epoch   20/ 100] [Batch    8/   9] Loss:  1.64e-03\n",
            "[Epoch   20/ 100] [Batch    9/   9] Loss:  1.35e-03\n",
            "[Epoch   21/ 100] [Batch    1/   9] Loss:  1.13e-03\n",
            "[Epoch   21/ 100] [Batch    2/   9] Loss:  1.61e-03\n",
            "[Epoch   21/ 100] [Batch    3/   9] Loss:  1.75e-03\n",
            "[Epoch   21/ 100] [Batch    4/   9] Loss:  1.66e-03\n",
            "[Epoch   21/ 100] [Batch    5/   9] Loss:  1.40e-03\n",
            "[Epoch   21/ 100] [Batch    6/   9] Loss:  1.48e-03\n",
            "[Epoch   21/ 100] [Batch    7/   9] Loss:  1.69e-03\n",
            "[Epoch   21/ 100] [Batch    8/   9] Loss:  1.86e-03\n",
            "[Epoch   21/ 100] [Batch    9/   9] Loss:  1.63e-03\n",
            "[Epoch   22/ 100] [Batch    1/   9] Loss:  1.50e-03\n",
            "[Epoch   22/ 100] [Batch    2/   9] Loss:  1.51e-03\n",
            "[Epoch   22/ 100] [Batch    3/   9] Loss:  1.66e-03\n",
            "[Epoch   22/ 100] [Batch    4/   9] Loss:  1.65e-03\n",
            "[Epoch   22/ 100] [Batch    5/   9] Loss:  1.67e-03\n",
            "[Epoch   22/ 100] [Batch    6/   9] Loss:  1.71e-03\n",
            "[Epoch   22/ 100] [Batch    7/   9] Loss:  1.53e-03\n",
            "[Epoch   22/ 100] [Batch    8/   9] Loss:  1.43e-03\n",
            "[Epoch   22/ 100] [Batch    9/   9] Loss:  1.19e-03\n",
            "[Epoch   23/ 100] [Batch    1/   9] Loss:  1.22e-03\n",
            "[Epoch   23/ 100] [Batch    2/   9] Loss:  1.66e-03\n",
            "[Epoch   23/ 100] [Batch    3/   9] Loss:  1.65e-03\n",
            "[Epoch   23/ 100] [Batch    4/   9] Loss:  1.52e-03\n",
            "[Epoch   23/ 100] [Batch    5/   9] Loss:  1.86e-03\n",
            "[Epoch   23/ 100] [Batch    6/   9] Loss:  1.36e-03\n",
            "[Epoch   23/ 100] [Batch    7/   9] Loss:  1.62e-03\n",
            "[Epoch   23/ 100] [Batch    8/   9] Loss:  1.64e-03\n",
            "[Epoch   23/ 100] [Batch    9/   9] Loss:  1.50e-03\n",
            "[Epoch   24/ 100] [Batch    1/   9] Loss:  1.56e-03\n",
            "[Epoch   24/ 100] [Batch    2/   9] Loss:  1.76e-03\n",
            "[Epoch   24/ 100] [Batch    3/   9] Loss:  1.60e-03\n",
            "[Epoch   24/ 100] [Batch    4/   9] Loss:  1.21e-03\n",
            "[Epoch   24/ 100] [Batch    5/   9] Loss:  1.50e-03\n",
            "[Epoch   24/ 100] [Batch    6/   9] Loss:  1.51e-03\n",
            "[Epoch   24/ 100] [Batch    7/   9] Loss:  1.56e-03\n",
            "[Epoch   24/ 100] [Batch    8/   9] Loss:  1.92e-03\n",
            "[Epoch   24/ 100] [Batch    9/   9] Loss:  1.23e-03\n",
            "[Epoch   25/ 100] [Batch    1/   9] Loss:  1.54e-03\n",
            "[Epoch   25/ 100] [Batch    2/   9] Loss:  1.62e-03\n",
            "[Epoch   25/ 100] [Batch    3/   9] Loss:  1.17e-03\n",
            "[Epoch   25/ 100] [Batch    4/   9] Loss:  1.98e-03\n",
            "[Epoch   25/ 100] [Batch    5/   9] Loss:  1.49e-03\n",
            "[Epoch   25/ 100] [Batch    6/   9] Loss:  1.77e-03\n",
            "[Epoch   25/ 100] [Batch    7/   9] Loss:  1.53e-03\n",
            "[Epoch   25/ 100] [Batch    8/   9] Loss:  1.53e-03\n",
            "[Epoch   25/ 100] [Batch    9/   9] Loss:  1.16e-03\n",
            "[Epoch   26/ 100] [Batch    1/   9] Loss:  1.38e-03\n",
            "[Epoch   26/ 100] [Batch    2/   9] Loss:  1.95e-03\n",
            "[Epoch   26/ 100] [Batch    3/   9] Loss:  1.43e-03\n",
            "[Epoch   26/ 100] [Batch    4/   9] Loss:  1.49e-03\n",
            "[Epoch   26/ 100] [Batch    5/   9] Loss:  1.29e-03\n",
            "[Epoch   26/ 100] [Batch    6/   9] Loss:  1.69e-03\n",
            "[Epoch   26/ 100] [Batch    7/   9] Loss:  1.30e-03\n",
            "[Epoch   26/ 100] [Batch    8/   9] Loss:  1.90e-03\n",
            "[Epoch   26/ 100] [Batch    9/   9] Loss:  1.83e-03\n",
            "[Epoch   27/ 100] [Batch    1/   9] Loss:  1.52e-03\n",
            "[Epoch   27/ 100] [Batch    2/   9] Loss:  1.28e-03\n",
            "[Epoch   27/ 100] [Batch    3/   9] Loss:  1.74e-03\n",
            "[Epoch   27/ 100] [Batch    4/   9] Loss:  1.34e-03\n",
            "[Epoch   27/ 100] [Batch    5/   9] Loss:  1.73e-03\n",
            "[Epoch   27/ 100] [Batch    6/   9] Loss:  1.62e-03\n",
            "[Epoch   27/ 100] [Batch    7/   9] Loss:  1.65e-03\n",
            "[Epoch   27/ 100] [Batch    8/   9] Loss:  1.62e-03\n",
            "[Epoch   27/ 100] [Batch    9/   9] Loss:  1.47e-03\n",
            "[Epoch   28/ 100] [Batch    1/   9] Loss:  1.59e-03\n",
            "[Epoch   28/ 100] [Batch    2/   9] Loss:  1.73e-03\n",
            "[Epoch   28/ 100] [Batch    3/   9] Loss:  1.48e-03\n",
            "[Epoch   28/ 100] [Batch    4/   9] Loss:  1.70e-03\n",
            "[Epoch   28/ 100] [Batch    5/   9] Loss:  1.63e-03\n",
            "[Epoch   28/ 100] [Batch    6/   9] Loss:  1.32e-03\n",
            "[Epoch   28/ 100] [Batch    7/   9] Loss:  1.44e-03\n",
            "[Epoch   28/ 100] [Batch    8/   9] Loss:  1.70e-03\n",
            "[Epoch   28/ 100] [Batch    9/   9] Loss:  1.39e-03\n",
            "[Epoch   29/ 100] [Batch    1/   9] Loss:  1.52e-03\n",
            "[Epoch   29/ 100] [Batch    2/   9] Loss:  1.70e-03\n",
            "[Epoch   29/ 100] [Batch    3/   9] Loss:  1.72e-03\n",
            "[Epoch   29/ 100] [Batch    4/   9] Loss:  1.57e-03\n",
            "[Epoch   29/ 100] [Batch    5/   9] Loss:  1.62e-03\n",
            "[Epoch   29/ 100] [Batch    6/   9] Loss:  1.65e-03\n",
            "[Epoch   29/ 100] [Batch    7/   9] Loss:  1.45e-03\n",
            "[Epoch   29/ 100] [Batch    8/   9] Loss:  1.48e-03\n",
            "[Epoch   29/ 100] [Batch    9/   9] Loss:  9.62e-04\n",
            "[Epoch   30/ 100] [Batch    1/   9] Loss:  1.85e-03\n",
            "[Epoch   30/ 100] [Batch    2/   9] Loss:  1.62e-03\n",
            "[Epoch   30/ 100] [Batch    3/   9] Loss:  1.94e-03\n",
            "[Epoch   30/ 100] [Batch    4/   9] Loss:  1.07e-03\n",
            "[Epoch   30/ 100] [Batch    5/   9] Loss:  1.35e-03\n",
            "[Epoch   30/ 100] [Batch    6/   9] Loss:  1.52e-03\n",
            "[Epoch   30/ 100] [Batch    7/   9] Loss:  1.47e-03\n",
            "[Epoch   30/ 100] [Batch    8/   9] Loss:  1.76e-03\n",
            "[Epoch   30/ 100] [Batch    9/   9] Loss:  1.26e-03\n",
            "[Epoch   31/ 100] [Batch    1/   9] Loss:  1.45e-03\n",
            "[Epoch   31/ 100] [Batch    2/   9] Loss:  1.60e-03\n",
            "[Epoch   31/ 100] [Batch    3/   9] Loss:  1.83e-03\n",
            "[Epoch   31/ 100] [Batch    4/   9] Loss:  1.30e-03\n",
            "[Epoch   31/ 100] [Batch    5/   9] Loss:  1.70e-03\n",
            "[Epoch   31/ 100] [Batch    6/   9] Loss:  1.69e-03\n",
            "[Epoch   31/ 100] [Batch    7/   9] Loss:  1.72e-03\n",
            "[Epoch   31/ 100] [Batch    8/   9] Loss:  1.40e-03\n",
            "[Epoch   31/ 100] [Batch    9/   9] Loss:  1.12e-03\n",
            "[Epoch   32/ 100] [Batch    1/   9] Loss:  1.45e-03\n",
            "[Epoch   32/ 100] [Batch    2/   9] Loss:  1.56e-03\n",
            "[Epoch   32/ 100] [Batch    3/   9] Loss:  1.78e-03\n",
            "[Epoch   32/ 100] [Batch    4/   9] Loss:  1.50e-03\n",
            "[Epoch   32/ 100] [Batch    5/   9] Loss:  2.06e-03\n",
            "[Epoch   32/ 100] [Batch    6/   9] Loss:  1.56e-03\n",
            "[Epoch   32/ 100] [Batch    7/   9] Loss:  1.38e-03\n",
            "[Epoch   32/ 100] [Batch    8/   9] Loss:  1.49e-03\n",
            "[Epoch   32/ 100] [Batch    9/   9] Loss:  8.14e-04\n",
            "[Epoch   33/ 100] [Batch    1/   9] Loss:  1.51e-03\n",
            "[Epoch   33/ 100] [Batch    2/   9] Loss:  1.75e-03\n",
            "[Epoch   33/ 100] [Batch    3/   9] Loss:  1.59e-03\n",
            "[Epoch   33/ 100] [Batch    4/   9] Loss:  1.54e-03\n",
            "[Epoch   33/ 100] [Batch    5/   9] Loss:  1.43e-03\n",
            "[Epoch   33/ 100] [Batch    6/   9] Loss:  1.55e-03\n",
            "[Epoch   33/ 100] [Batch    7/   9] Loss:  1.63e-03\n",
            "[Epoch   33/ 100] [Batch    8/   9] Loss:  1.53e-03\n",
            "[Epoch   33/ 100] [Batch    9/   9] Loss:  1.48e-03\n",
            "[Epoch   34/ 100] [Batch    1/   9] Loss:  1.37e-03\n",
            "[Epoch   34/ 100] [Batch    2/   9] Loss:  1.72e-03\n",
            "[Epoch   34/ 100] [Batch    3/   9] Loss:  1.55e-03\n",
            "[Epoch   34/ 100] [Batch    4/   9] Loss:  1.56e-03\n",
            "[Epoch   34/ 100] [Batch    5/   9] Loss:  1.73e-03\n",
            "[Epoch   34/ 100] [Batch    6/   9] Loss:  1.45e-03\n",
            "[Epoch   34/ 100] [Batch    7/   9] Loss:  1.89e-03\n",
            "[Epoch   34/ 100] [Batch    8/   9] Loss:  1.36e-03\n",
            "[Epoch   34/ 100] [Batch    9/   9] Loss:  1.25e-03\n",
            "[Epoch   35/ 100] [Batch    1/   9] Loss:  1.38e-03\n",
            "[Epoch   35/ 100] [Batch    2/   9] Loss:  1.59e-03\n",
            "[Epoch   35/ 100] [Batch    3/   9] Loss:  1.67e-03\n",
            "[Epoch   35/ 100] [Batch    4/   9] Loss:  1.37e-03\n",
            "[Epoch   35/ 100] [Batch    5/   9] Loss:  1.57e-03\n",
            "[Epoch   35/ 100] [Batch    6/   9] Loss:  1.67e-03\n",
            "[Epoch   35/ 100] [Batch    7/   9] Loss:  1.83e-03\n",
            "[Epoch   35/ 100] [Batch    8/   9] Loss:  1.41e-03\n",
            "[Epoch   35/ 100] [Batch    9/   9] Loss:  1.55e-03\n",
            "[Epoch   36/ 100] [Batch    1/   9] Loss:  1.56e-03\n",
            "[Epoch   36/ 100] [Batch    2/   9] Loss:  1.68e-03\n",
            "[Epoch   36/ 100] [Batch    3/   9] Loss:  1.42e-03\n",
            "[Epoch   36/ 100] [Batch    4/   9] Loss:  1.43e-03\n",
            "[Epoch   36/ 100] [Batch    5/   9] Loss:  1.44e-03\n",
            "[Epoch   36/ 100] [Batch    6/   9] Loss:  1.92e-03\n",
            "[Epoch   36/ 100] [Batch    7/   9] Loss:  1.41e-03\n",
            "[Epoch   36/ 100] [Batch    8/   9] Loss:  1.71e-03\n",
            "[Epoch   36/ 100] [Batch    9/   9] Loss:  1.34e-03\n",
            "[Epoch   37/ 100] [Batch    1/   9] Loss:  1.52e-03\n",
            "[Epoch   37/ 100] [Batch    2/   9] Loss:  1.62e-03\n",
            "[Epoch   37/ 100] [Batch    3/   9] Loss:  1.54e-03\n",
            "[Epoch   37/ 100] [Batch    4/   9] Loss:  1.21e-03\n",
            "[Epoch   37/ 100] [Batch    5/   9] Loss:  2.03e-03\n",
            "[Epoch   37/ 100] [Batch    6/   9] Loss:  1.38e-03\n",
            "[Epoch   37/ 100] [Batch    7/   9] Loss:  1.52e-03\n",
            "[Epoch   37/ 100] [Batch    8/   9] Loss:  1.48e-03\n",
            "[Epoch   37/ 100] [Batch    9/   9] Loss:  2.07e-03\n",
            "[Epoch   38/ 100] [Batch    1/   9] Loss:  1.79e-03\n",
            "[Epoch   38/ 100] [Batch    2/   9] Loss:  1.46e-03\n",
            "[Epoch   38/ 100] [Batch    3/   9] Loss:  1.83e-03\n",
            "[Epoch   38/ 100] [Batch    4/   9] Loss:  1.44e-03\n",
            "[Epoch   38/ 100] [Batch    5/   9] Loss:  1.53e-03\n",
            "[Epoch   38/ 100] [Batch    6/   9] Loss:  1.59e-03\n",
            "[Epoch   38/ 100] [Batch    7/   9] Loss:  1.47e-03\n",
            "[Epoch   38/ 100] [Batch    8/   9] Loss:  1.47e-03\n",
            "[Epoch   38/ 100] [Batch    9/   9] Loss:  1.32e-03\n",
            "[Epoch   39/ 100] [Batch    1/   9] Loss:  1.44e-03\n",
            "[Epoch   39/ 100] [Batch    2/   9] Loss:  1.70e-03\n",
            "[Epoch   39/ 100] [Batch    3/   9] Loss:  1.55e-03\n",
            "[Epoch   39/ 100] [Batch    4/   9] Loss:  1.63e-03\n",
            "[Epoch   39/ 100] [Batch    5/   9] Loss:  1.71e-03\n",
            "[Epoch   39/ 100] [Batch    6/   9] Loss:  1.49e-03\n",
            "[Epoch   39/ 100] [Batch    7/   9] Loss:  1.47e-03\n",
            "[Epoch   39/ 100] [Batch    8/   9] Loss:  1.45e-03\n",
            "[Epoch   39/ 100] [Batch    9/   9] Loss:  1.69e-03\n",
            "[Epoch   40/ 100] [Batch    1/   9] Loss:  1.32e-03\n",
            "[Epoch   40/ 100] [Batch    2/   9] Loss:  1.23e-03\n",
            "[Epoch   40/ 100] [Batch    3/   9] Loss:  1.85e-03\n",
            "[Epoch   40/ 100] [Batch    4/   9] Loss:  1.78e-03\n",
            "[Epoch   40/ 100] [Batch    5/   9] Loss:  1.59e-03\n",
            "[Epoch   40/ 100] [Batch    6/   9] Loss:  1.33e-03\n",
            "[Epoch   40/ 100] [Batch    7/   9] Loss:  1.76e-03\n",
            "[Epoch   40/ 100] [Batch    8/   9] Loss:  1.48e-03\n",
            "[Epoch   40/ 100] [Batch    9/   9] Loss:  2.00e-03\n",
            "[Epoch   41/ 100] [Batch    1/   9] Loss:  1.30e-03\n",
            "[Epoch   41/ 100] [Batch    2/   9] Loss:  1.83e-03\n",
            "[Epoch   41/ 100] [Batch    3/   9] Loss:  1.36e-03\n",
            "[Epoch   41/ 100] [Batch    4/   9] Loss:  1.69e-03\n",
            "[Epoch   41/ 100] [Batch    5/   9] Loss:  1.41e-03\n",
            "[Epoch   41/ 100] [Batch    6/   9] Loss:  1.74e-03\n",
            "[Epoch   41/ 100] [Batch    7/   9] Loss:  1.52e-03\n",
            "[Epoch   41/ 100] [Batch    8/   9] Loss:  1.75e-03\n",
            "[Epoch   41/ 100] [Batch    9/   9] Loss:  1.32e-03\n",
            "[Epoch   42/ 100] [Batch    1/   9] Loss:  1.62e-03\n",
            "[Epoch   42/ 100] [Batch    2/   9] Loss:  1.91e-03\n",
            "[Epoch   42/ 100] [Batch    3/   9] Loss:  1.45e-03\n",
            "[Epoch   42/ 100] [Batch    4/   9] Loss:  1.50e-03\n",
            "[Epoch   42/ 100] [Batch    5/   9] Loss:  1.47e-03\n",
            "[Epoch   42/ 100] [Batch    6/   9] Loss:  1.53e-03\n",
            "[Epoch   42/ 100] [Batch    7/   9] Loss:  1.95e-03\n",
            "[Epoch   42/ 100] [Batch    8/   9] Loss:  1.10e-03\n",
            "[Epoch   42/ 100] [Batch    9/   9] Loss:  1.37e-03\n",
            "[Epoch   43/ 100] [Batch    1/   9] Loss:  1.41e-03\n",
            "[Epoch   43/ 100] [Batch    2/   9] Loss:  1.59e-03\n",
            "[Epoch   43/ 100] [Batch    3/   9] Loss:  1.57e-03\n",
            "[Epoch   43/ 100] [Batch    4/   9] Loss:  1.51e-03\n",
            "[Epoch   43/ 100] [Batch    5/   9] Loss:  1.79e-03\n",
            "[Epoch   43/ 100] [Batch    6/   9] Loss:  1.52e-03\n",
            "[Epoch   43/ 100] [Batch    7/   9] Loss:  1.65e-03\n",
            "[Epoch   43/ 100] [Batch    8/   9] Loss:  1.51e-03\n",
            "[Epoch   43/ 100] [Batch    9/   9] Loss:  1.32e-03\n",
            "[Epoch   44/ 100] [Batch    1/   9] Loss:  1.63e-03\n",
            "[Epoch   44/ 100] [Batch    2/   9] Loss:  1.45e-03\n",
            "[Epoch   44/ 100] [Batch    3/   9] Loss:  1.81e-03\n",
            "[Epoch   44/ 100] [Batch    4/   9] Loss:  1.46e-03\n",
            "[Epoch   44/ 100] [Batch    5/   9] Loss:  1.72e-03\n",
            "[Epoch   44/ 100] [Batch    6/   9] Loss:  1.45e-03\n",
            "[Epoch   44/ 100] [Batch    7/   9] Loss:  1.52e-03\n",
            "[Epoch   44/ 100] [Batch    8/   9] Loss:  1.64e-03\n",
            "[Epoch   44/ 100] [Batch    9/   9] Loss:  1.04e-03\n",
            "[Epoch   45/ 100] [Batch    1/   9] Loss:  1.72e-03\n",
            "[Epoch   45/ 100] [Batch    2/   9] Loss:  1.43e-03\n",
            "[Epoch   45/ 100] [Batch    3/   9] Loss:  1.73e-03\n",
            "[Epoch   45/ 100] [Batch    4/   9] Loss:  1.46e-03\n",
            "[Epoch   45/ 100] [Batch    5/   9] Loss:  1.61e-03\n",
            "[Epoch   45/ 100] [Batch    6/   9] Loss:  1.38e-03\n",
            "[Epoch   45/ 100] [Batch    7/   9] Loss:  1.51e-03\n",
            "[Epoch   45/ 100] [Batch    8/   9] Loss:  1.58e-03\n",
            "[Epoch   45/ 100] [Batch    9/   9] Loss:  1.72e-03\n",
            "[Epoch   46/ 100] [Batch    1/   9] Loss:  1.45e-03\n",
            "[Epoch   46/ 100] [Batch    2/   9] Loss:  1.50e-03\n",
            "[Epoch   46/ 100] [Batch    3/   9] Loss:  1.48e-03\n",
            "[Epoch   46/ 100] [Batch    4/   9] Loss:  1.50e-03\n",
            "[Epoch   46/ 100] [Batch    5/   9] Loss:  1.52e-03\n",
            "[Epoch   46/ 100] [Batch    6/   9] Loss:  1.94e-03\n",
            "[Epoch   46/ 100] [Batch    7/   9] Loss:  1.52e-03\n",
            "[Epoch   46/ 100] [Batch    8/   9] Loss:  1.45e-03\n",
            "[Epoch   46/ 100] [Batch    9/   9] Loss:  1.96e-03\n",
            "[Epoch   47/ 100] [Batch    1/   9] Loss:  1.47e-03\n",
            "[Epoch   47/ 100] [Batch    2/   9] Loss:  1.64e-03\n",
            "[Epoch   47/ 100] [Batch    3/   9] Loss:  1.35e-03\n",
            "[Epoch   47/ 100] [Batch    4/   9] Loss:  1.59e-03\n",
            "[Epoch   47/ 100] [Batch    5/   9] Loss:  1.98e-03\n",
            "[Epoch   47/ 100] [Batch    6/   9] Loss:  1.67e-03\n",
            "[Epoch   47/ 100] [Batch    7/   9] Loss:  1.50e-03\n",
            "[Epoch   47/ 100] [Batch    8/   9] Loss:  1.46e-03\n",
            "[Epoch   47/ 100] [Batch    9/   9] Loss:  1.11e-03\n",
            "[Epoch   48/ 100] [Batch    1/   9] Loss:  1.69e-03\n",
            "[Epoch   48/ 100] [Batch    2/   9] Loss:  1.61e-03\n",
            "[Epoch   48/ 100] [Batch    3/   9] Loss:  1.32e-03\n",
            "[Epoch   48/ 100] [Batch    4/   9] Loss:  1.44e-03\n",
            "[Epoch   48/ 100] [Batch    5/   9] Loss:  1.32e-03\n",
            "[Epoch   48/ 100] [Batch    6/   9] Loss:  1.42e-03\n",
            "[Epoch   48/ 100] [Batch    7/   9] Loss:  1.68e-03\n",
            "[Epoch   48/ 100] [Batch    8/   9] Loss:  1.82e-03\n",
            "[Epoch   48/ 100] [Batch    9/   9] Loss:  2.24e-03\n",
            "[Epoch   49/ 100] [Batch    1/   9] Loss:  1.40e-03\n",
            "[Epoch   49/ 100] [Batch    2/   9] Loss:  1.63e-03\n",
            "[Epoch   49/ 100] [Batch    3/   9] Loss:  1.52e-03\n",
            "[Epoch   49/ 100] [Batch    4/   9] Loss:  1.30e-03\n",
            "[Epoch   49/ 100] [Batch    5/   9] Loss:  1.89e-03\n",
            "[Epoch   49/ 100] [Batch    6/   9] Loss:  1.55e-03\n",
            "[Epoch   49/ 100] [Batch    7/   9] Loss:  1.69e-03\n",
            "[Epoch   49/ 100] [Batch    8/   9] Loss:  1.49e-03\n",
            "[Epoch   49/ 100] [Batch    9/   9] Loss:  1.79e-03\n",
            "[Epoch   50/ 100] [Batch    1/   9] Loss:  1.45e-03\n",
            "[Epoch   50/ 100] [Batch    2/   9] Loss:  1.68e-03\n",
            "[Epoch   50/ 100] [Batch    3/   9] Loss:  1.59e-03\n",
            "[Epoch   50/ 100] [Batch    4/   9] Loss:  1.23e-03\n",
            "[Epoch   50/ 100] [Batch    5/   9] Loss:  1.42e-03\n",
            "[Epoch   50/ 100] [Batch    6/   9] Loss:  1.64e-03\n",
            "[Epoch   50/ 100] [Batch    7/   9] Loss:  1.67e-03\n",
            "[Epoch   50/ 100] [Batch    8/   9] Loss:  1.70e-03\n",
            "[Epoch   50/ 100] [Batch    9/   9] Loss:  1.87e-03\n",
            "[Epoch   51/ 100] [Batch    1/   9] Loss:  1.56e-03\n",
            "[Epoch   51/ 100] [Batch    2/   9] Loss:  1.58e-03\n",
            "[Epoch   51/ 100] [Batch    3/   9] Loss:  1.60e-03\n",
            "[Epoch   51/ 100] [Batch    4/   9] Loss:  1.23e-03\n",
            "[Epoch   51/ 100] [Batch    5/   9] Loss:  1.64e-03\n",
            "[Epoch   51/ 100] [Batch    6/   9] Loss:  1.67e-03\n",
            "[Epoch   51/ 100] [Batch    7/   9] Loss:  1.67e-03\n",
            "[Epoch   51/ 100] [Batch    8/   9] Loss:  1.65e-03\n",
            "[Epoch   51/ 100] [Batch    9/   9] Loss:  1.44e-03\n",
            "[Epoch   52/ 100] [Batch    1/   9] Loss:  1.50e-03\n",
            "[Epoch   52/ 100] [Batch    2/   9] Loss:  1.68e-03\n",
            "[Epoch   52/ 100] [Batch    3/   9] Loss:  1.72e-03\n",
            "[Epoch   52/ 100] [Batch    4/   9] Loss:  1.31e-03\n",
            "[Epoch   52/ 100] [Batch    5/   9] Loss:  1.57e-03\n",
            "[Epoch   52/ 100] [Batch    6/   9] Loss:  1.38e-03\n",
            "[Epoch   52/ 100] [Batch    7/   9] Loss:  1.67e-03\n",
            "[Epoch   52/ 100] [Batch    8/   9] Loss:  1.74e-03\n",
            "[Epoch   52/ 100] [Batch    9/   9] Loss:  1.31e-03\n",
            "[Epoch   53/ 100] [Batch    1/   9] Loss:  1.33e-03\n",
            "[Epoch   53/ 100] [Batch    2/   9] Loss:  1.69e-03\n",
            "[Epoch   53/ 100] [Batch    3/   9] Loss:  1.51e-03\n",
            "[Epoch   53/ 100] [Batch    4/   9] Loss:  1.43e-03\n",
            "[Epoch   53/ 100] [Batch    5/   9] Loss:  1.33e-03\n",
            "[Epoch   53/ 100] [Batch    6/   9] Loss:  1.47e-03\n",
            "[Epoch   53/ 100] [Batch    7/   9] Loss:  2.14e-03\n",
            "[Epoch   53/ 100] [Batch    8/   9] Loss:  1.55e-03\n",
            "[Epoch   53/ 100] [Batch    9/   9] Loss:  1.73e-03\n",
            "[Epoch   54/ 100] [Batch    1/   9] Loss:  1.44e-03\n",
            "[Epoch   54/ 100] [Batch    2/   9] Loss:  1.56e-03\n",
            "[Epoch   54/ 100] [Batch    3/   9] Loss:  1.43e-03\n",
            "[Epoch   54/ 100] [Batch    4/   9] Loss:  1.52e-03\n",
            "[Epoch   54/ 100] [Batch    5/   9] Loss:  1.60e-03\n",
            "[Epoch   54/ 100] [Batch    6/   9] Loss:  1.49e-03\n",
            "[Epoch   54/ 100] [Batch    7/   9] Loss:  1.80e-03\n",
            "[Epoch   54/ 100] [Batch    8/   9] Loss:  1.75e-03\n",
            "[Epoch   54/ 100] [Batch    9/   9] Loss:  1.27e-03\n",
            "[Epoch   55/ 100] [Batch    1/   9] Loss:  1.31e-03\n",
            "[Epoch   55/ 100] [Batch    2/   9] Loss:  1.78e-03\n",
            "[Epoch   55/ 100] [Batch    3/   9] Loss:  1.58e-03\n",
            "[Epoch   55/ 100] [Batch    4/   9] Loss:  1.33e-03\n",
            "[Epoch   55/ 100] [Batch    5/   9] Loss:  1.55e-03\n",
            "[Epoch   55/ 100] [Batch    6/   9] Loss:  1.52e-03\n",
            "[Epoch   55/ 100] [Batch    7/   9] Loss:  1.83e-03\n",
            "[Epoch   55/ 100] [Batch    8/   9] Loss:  1.75e-03\n",
            "[Epoch   55/ 100] [Batch    9/   9] Loss:  1.10e-03\n",
            "[Epoch   56/ 100] [Batch    1/   9] Loss:  1.07e-03\n",
            "[Epoch   56/ 100] [Batch    2/   9] Loss:  1.29e-03\n",
            "[Epoch   56/ 100] [Batch    3/   9] Loss:  1.60e-03\n",
            "[Epoch   56/ 100] [Batch    4/   9] Loss:  1.63e-03\n",
            "[Epoch   56/ 100] [Batch    5/   9] Loss:  1.35e-03\n",
            "[Epoch   56/ 100] [Batch    6/   9] Loss:  1.78e-03\n",
            "[Epoch   56/ 100] [Batch    7/   9] Loss:  1.70e-03\n",
            "[Epoch   56/ 100] [Batch    8/   9] Loss:  2.08e-03\n",
            "[Epoch   56/ 100] [Batch    9/   9] Loss:  1.61e-03\n",
            "[Epoch   57/ 100] [Batch    1/   9] Loss:  1.47e-03\n",
            "[Epoch   57/ 100] [Batch    2/   9] Loss:  1.38e-03\n",
            "[Epoch   57/ 100] [Batch    3/   9] Loss:  1.90e-03\n",
            "[Epoch   57/ 100] [Batch    4/   9] Loss:  1.33e-03\n",
            "[Epoch   57/ 100] [Batch    5/   9] Loss:  1.38e-03\n",
            "[Epoch   57/ 100] [Batch    6/   9] Loss:  1.71e-03\n",
            "[Epoch   57/ 100] [Batch    7/   9] Loss:  1.37e-03\n",
            "[Epoch   57/ 100] [Batch    8/   9] Loss:  1.74e-03\n",
            "[Epoch   57/ 100] [Batch    9/   9] Loss:  2.22e-03\n",
            "[Epoch   58/ 100] [Batch    1/   9] Loss:  1.29e-03\n",
            "[Epoch   58/ 100] [Batch    2/   9] Loss:  1.45e-03\n",
            "[Epoch   58/ 100] [Batch    3/   9] Loss:  1.86e-03\n",
            "[Epoch   58/ 100] [Batch    4/   9] Loss:  1.44e-03\n",
            "[Epoch   58/ 100] [Batch    5/   9] Loss:  1.72e-03\n",
            "[Epoch   58/ 100] [Batch    6/   9] Loss:  1.49e-03\n",
            "[Epoch   58/ 100] [Batch    7/   9] Loss:  1.51e-03\n",
            "[Epoch   58/ 100] [Batch    8/   9] Loss:  1.61e-03\n",
            "[Epoch   58/ 100] [Batch    9/   9] Loss:  1.96e-03\n",
            "[Epoch   59/ 100] [Batch    1/   9] Loss:  1.46e-03\n",
            "[Epoch   59/ 100] [Batch    2/   9] Loss:  1.49e-03\n",
            "[Epoch   59/ 100] [Batch    3/   9] Loss:  2.09e-03\n",
            "[Epoch   59/ 100] [Batch    4/   9] Loss:  1.49e-03\n",
            "[Epoch   59/ 100] [Batch    5/   9] Loss:  1.62e-03\n",
            "[Epoch   59/ 100] [Batch    6/   9] Loss:  1.44e-03\n",
            "[Epoch   59/ 100] [Batch    7/   9] Loss:  1.38e-03\n",
            "[Epoch   59/ 100] [Batch    8/   9] Loss:  1.58e-03\n",
            "[Epoch   59/ 100] [Batch    9/   9] Loss:  1.40e-03\n",
            "[Epoch   60/ 100] [Batch    1/   9] Loss:  1.76e-03\n",
            "[Epoch   60/ 100] [Batch    2/   9] Loss:  1.70e-03\n",
            "[Epoch   60/ 100] [Batch    3/   9] Loss:  1.56e-03\n",
            "[Epoch   60/ 100] [Batch    4/   9] Loss:  1.38e-03\n",
            "[Epoch   60/ 100] [Batch    5/   9] Loss:  1.77e-03\n",
            "[Epoch   60/ 100] [Batch    6/   9] Loss:  1.22e-03\n",
            "[Epoch   60/ 100] [Batch    7/   9] Loss:  1.71e-03\n",
            "[Epoch   60/ 100] [Batch    8/   9] Loss:  1.41e-03\n",
            "[Epoch   60/ 100] [Batch    9/   9] Loss:  1.52e-03\n",
            "[Epoch   61/ 100] [Batch    1/   9] Loss:  1.50e-03\n",
            "[Epoch   61/ 100] [Batch    2/   9] Loss:  1.63e-03\n",
            "[Epoch   61/ 100] [Batch    3/   9] Loss:  1.92e-03\n",
            "[Epoch   61/ 100] [Batch    4/   9] Loss:  1.68e-03\n",
            "[Epoch   61/ 100] [Batch    5/   9] Loss:  1.10e-03\n",
            "[Epoch   61/ 100] [Batch    6/   9] Loss:  1.34e-03\n",
            "[Epoch   61/ 100] [Batch    7/   9] Loss:  1.45e-03\n",
            "[Epoch   61/ 100] [Batch    8/   9] Loss:  1.80e-03\n",
            "[Epoch   61/ 100] [Batch    9/   9] Loss:  1.84e-03\n",
            "[Epoch   62/ 100] [Batch    1/   9] Loss:  1.73e-03\n",
            "[Epoch   62/ 100] [Batch    2/   9] Loss:  1.56e-03\n",
            "[Epoch   62/ 100] [Batch    3/   9] Loss:  1.52e-03\n",
            "[Epoch   62/ 100] [Batch    4/   9] Loss:  1.85e-03\n",
            "[Epoch   62/ 100] [Batch    5/   9] Loss:  1.31e-03\n",
            "[Epoch   62/ 100] [Batch    6/   9] Loss:  1.66e-03\n",
            "[Epoch   62/ 100] [Batch    7/   9] Loss:  1.57e-03\n",
            "[Epoch   62/ 100] [Batch    8/   9] Loss:  1.39e-03\n",
            "[Epoch   62/ 100] [Batch    9/   9] Loss:  1.32e-03\n",
            "[Epoch   63/ 100] [Batch    1/   9] Loss:  1.62e-03\n",
            "[Epoch   63/ 100] [Batch    2/   9] Loss:  1.20e-03\n",
            "[Epoch   63/ 100] [Batch    3/   9] Loss:  1.60e-03\n",
            "[Epoch   63/ 100] [Batch    4/   9] Loss:  1.56e-03\n",
            "[Epoch   63/ 100] [Batch    5/   9] Loss:  1.68e-03\n",
            "[Epoch   63/ 100] [Batch    6/   9] Loss:  1.55e-03\n",
            "[Epoch   63/ 100] [Batch    7/   9] Loss:  1.63e-03\n",
            "[Epoch   63/ 100] [Batch    8/   9] Loss:  1.66e-03\n",
            "[Epoch   63/ 100] [Batch    9/   9] Loss:  1.52e-03\n",
            "[Epoch   64/ 100] [Batch    1/   9] Loss:  1.82e-03\n",
            "[Epoch   64/ 100] [Batch    2/   9] Loss:  1.22e-03\n",
            "[Epoch   64/ 100] [Batch    3/   9] Loss:  1.31e-03\n",
            "[Epoch   64/ 100] [Batch    4/   9] Loss:  1.49e-03\n",
            "[Epoch   64/ 100] [Batch    5/   9] Loss:  1.75e-03\n",
            "[Epoch   64/ 100] [Batch    6/   9] Loss:  1.63e-03\n",
            "[Epoch   64/ 100] [Batch    7/   9] Loss:  1.40e-03\n",
            "[Epoch   64/ 100] [Batch    8/   9] Loss:  1.99e-03\n",
            "[Epoch   64/ 100] [Batch    9/   9] Loss:  1.38e-03\n",
            "[Epoch   65/ 100] [Batch    1/   9] Loss:  1.66e-03\n",
            "[Epoch   65/ 100] [Batch    2/   9] Loss:  2.07e-03\n",
            "[Epoch   65/ 100] [Batch    3/   9] Loss:  1.53e-03\n",
            "[Epoch   65/ 100] [Batch    4/   9] Loss:  1.30e-03\n",
            "[Epoch   65/ 100] [Batch    5/   9] Loss:  1.46e-03\n",
            "[Epoch   65/ 100] [Batch    6/   9] Loss:  1.43e-03\n",
            "[Epoch   65/ 100] [Batch    7/   9] Loss:  1.42e-03\n",
            "[Epoch   65/ 100] [Batch    8/   9] Loss:  1.60e-03\n",
            "[Epoch   65/ 100] [Batch    9/   9] Loss:  1.64e-03\n",
            "[Epoch   66/ 100] [Batch    1/   9] Loss:  1.75e-03\n",
            "[Epoch   66/ 100] [Batch    2/   9] Loss:  1.71e-03\n",
            "[Epoch   66/ 100] [Batch    3/   9] Loss:  1.74e-03\n",
            "[Epoch   66/ 100] [Batch    4/   9] Loss:  1.56e-03\n",
            "[Epoch   66/ 100] [Batch    5/   9] Loss:  1.46e-03\n",
            "[Epoch   66/ 100] [Batch    6/   9] Loss:  1.16e-03\n",
            "[Epoch   66/ 100] [Batch    7/   9] Loss:  1.63e-03\n",
            "[Epoch   66/ 100] [Batch    8/   9] Loss:  1.52e-03\n",
            "[Epoch   66/ 100] [Batch    9/   9] Loss:  1.71e-03\n",
            "[Epoch   67/ 100] [Batch    1/   9] Loss:  1.54e-03\n",
            "[Epoch   67/ 100] [Batch    2/   9] Loss:  1.54e-03\n",
            "[Epoch   67/ 100] [Batch    3/   9] Loss:  1.66e-03\n",
            "[Epoch   67/ 100] [Batch    4/   9] Loss:  1.58e-03\n",
            "[Epoch   67/ 100] [Batch    5/   9] Loss:  1.54e-03\n",
            "[Epoch   67/ 100] [Batch    6/   9] Loss:  1.86e-03\n",
            "[Epoch   67/ 100] [Batch    7/   9] Loss:  1.25e-03\n",
            "[Epoch   67/ 100] [Batch    8/   9] Loss:  1.62e-03\n",
            "[Epoch   67/ 100] [Batch    9/   9] Loss:  1.33e-03\n",
            "[Epoch   68/ 100] [Batch    1/   9] Loss:  1.20e-03\n",
            "[Epoch   68/ 100] [Batch    2/   9] Loss:  1.88e-03\n",
            "[Epoch   68/ 100] [Batch    3/   9] Loss:  1.50e-03\n",
            "[Epoch   68/ 100] [Batch    4/   9] Loss:  1.71e-03\n",
            "[Epoch   68/ 100] [Batch    5/   9] Loss:  1.69e-03\n",
            "[Epoch   68/ 100] [Batch    6/   9] Loss:  1.47e-03\n",
            "[Epoch   68/ 100] [Batch    7/   9] Loss:  1.35e-03\n",
            "[Epoch   68/ 100] [Batch    8/   9] Loss:  1.69e-03\n",
            "[Epoch   68/ 100] [Batch    9/   9] Loss:  1.66e-03\n",
            "[Epoch   69/ 100] [Batch    1/   9] Loss:  1.59e-03\n",
            "[Epoch   69/ 100] [Batch    2/   9] Loss:  1.52e-03\n",
            "[Epoch   69/ 100] [Batch    3/   9] Loss:  1.42e-03\n",
            "[Epoch   69/ 100] [Batch    4/   9] Loss:  1.48e-03\n",
            "[Epoch   69/ 100] [Batch    5/   9] Loss:  1.71e-03\n",
            "[Epoch   69/ 100] [Batch    6/   9] Loss:  1.47e-03\n",
            "[Epoch   69/ 100] [Batch    7/   9] Loss:  1.68e-03\n",
            "[Epoch   69/ 100] [Batch    8/   9] Loss:  1.57e-03\n",
            "[Epoch   69/ 100] [Batch    9/   9] Loss:  1.68e-03\n",
            "[Epoch   70/ 100] [Batch    1/   9] Loss:  1.55e-03\n",
            "[Epoch   70/ 100] [Batch    2/   9] Loss:  1.53e-03\n",
            "[Epoch   70/ 100] [Batch    3/   9] Loss:  1.66e-03\n",
            "[Epoch   70/ 100] [Batch    4/   9] Loss:  1.91e-03\n",
            "[Epoch   70/ 100] [Batch    5/   9] Loss:  1.53e-03\n",
            "[Epoch   70/ 100] [Batch    6/   9] Loss:  1.39e-03\n",
            "[Epoch   70/ 100] [Batch    7/   9] Loss:  1.70e-03\n",
            "[Epoch   70/ 100] [Batch    8/   9] Loss:  1.45e-03\n",
            "[Epoch   70/ 100] [Batch    9/   9] Loss:  9.99e-04\n",
            "[Epoch   71/ 100] [Batch    1/   9] Loss:  1.20e-03\n",
            "[Epoch   71/ 100] [Batch    2/   9] Loss:  1.71e-03\n",
            "[Epoch   71/ 100] [Batch    3/   9] Loss:  1.78e-03\n",
            "[Epoch   71/ 100] [Batch    4/   9] Loss:  1.39e-03\n",
            "[Epoch   71/ 100] [Batch    5/   9] Loss:  1.51e-03\n",
            "[Epoch   71/ 100] [Batch    6/   9] Loss:  2.03e-03\n",
            "[Epoch   71/ 100] [Batch    7/   9] Loss:  1.49e-03\n",
            "[Epoch   71/ 100] [Batch    8/   9] Loss:  1.29e-03\n",
            "[Epoch   71/ 100] [Batch    9/   9] Loss:  1.95e-03\n",
            "[Epoch   72/ 100] [Batch    1/   9] Loss:  1.70e-03\n",
            "[Epoch   72/ 100] [Batch    2/   9] Loss:  1.68e-03\n",
            "[Epoch   72/ 100] [Batch    3/   9] Loss:  1.37e-03\n",
            "[Epoch   72/ 100] [Batch    4/   9] Loss:  1.75e-03\n",
            "[Epoch   72/ 100] [Batch    5/   9] Loss:  1.62e-03\n",
            "[Epoch   72/ 100] [Batch    6/   9] Loss:  1.43e-03\n",
            "[Epoch   72/ 100] [Batch    7/   9] Loss:  1.38e-03\n",
            "[Epoch   72/ 100] [Batch    8/   9] Loss:  1.42e-03\n",
            "[Epoch   72/ 100] [Batch    9/   9] Loss:  2.01e-03\n",
            "[Epoch   73/ 100] [Batch    1/   9] Loss:  1.76e-03\n",
            "[Epoch   73/ 100] [Batch    2/   9] Loss:  1.39e-03\n",
            "[Epoch   73/ 100] [Batch    3/   9] Loss:  1.51e-03\n",
            "[Epoch   73/ 100] [Batch    4/   9] Loss:  1.39e-03\n",
            "[Epoch   73/ 100] [Batch    5/   9] Loss:  1.60e-03\n",
            "[Epoch   73/ 100] [Batch    6/   9] Loss:  1.67e-03\n",
            "[Epoch   73/ 100] [Batch    7/   9] Loss:  1.64e-03\n",
            "[Epoch   73/ 100] [Batch    8/   9] Loss:  1.46e-03\n",
            "[Epoch   73/ 100] [Batch    9/   9] Loss:  1.81e-03\n",
            "[Epoch   74/ 100] [Batch    1/   9] Loss:  1.45e-03\n",
            "[Epoch   74/ 100] [Batch    2/   9] Loss:  1.56e-03\n",
            "[Epoch   74/ 100] [Batch    3/   9] Loss:  1.90e-03\n",
            "[Epoch   74/ 100] [Batch    4/   9] Loss:  1.23e-03\n",
            "[Epoch   74/ 100] [Batch    5/   9] Loss:  1.50e-03\n",
            "[Epoch   74/ 100] [Batch    6/   9] Loss:  1.55e-03\n",
            "[Epoch   74/ 100] [Batch    7/   9] Loss:  1.62e-03\n",
            "[Epoch   74/ 100] [Batch    8/   9] Loss:  1.93e-03\n",
            "[Epoch   74/ 100] [Batch    9/   9] Loss:  8.57e-04\n",
            "[Epoch   75/ 100] [Batch    1/   9] Loss:  2.05e-03\n",
            "[Epoch   75/ 100] [Batch    2/   9] Loss:  1.20e-03\n",
            "[Epoch   75/ 100] [Batch    3/   9] Loss:  1.63e-03\n",
            "[Epoch   75/ 100] [Batch    4/   9] Loss:  1.41e-03\n",
            "[Epoch   75/ 100] [Batch    5/   9] Loss:  1.57e-03\n",
            "[Epoch   75/ 100] [Batch    6/   9] Loss:  1.68e-03\n",
            "[Epoch   75/ 100] [Batch    7/   9] Loss:  1.47e-03\n",
            "[Epoch   75/ 100] [Batch    8/   9] Loss:  1.41e-03\n",
            "[Epoch   75/ 100] [Batch    9/   9] Loss:  1.86e-03\n",
            "[Epoch   76/ 100] [Batch    1/   9] Loss:  1.47e-03\n",
            "[Epoch   76/ 100] [Batch    2/   9] Loss:  1.57e-03\n",
            "[Epoch   76/ 100] [Batch    3/   9] Loss:  1.68e-03\n",
            "[Epoch   76/ 100] [Batch    4/   9] Loss:  1.91e-03\n",
            "[Epoch   76/ 100] [Batch    5/   9] Loss:  1.47e-03\n",
            "[Epoch   76/ 100] [Batch    6/   9] Loss:  1.31e-03\n",
            "[Epoch   76/ 100] [Batch    7/   9] Loss:  1.66e-03\n",
            "[Epoch   76/ 100] [Batch    8/   9] Loss:  1.49e-03\n",
            "[Epoch   76/ 100] [Batch    9/   9] Loss:  1.47e-03\n",
            "[Epoch   77/ 100] [Batch    1/   9] Loss:  1.28e-03\n",
            "[Epoch   77/ 100] [Batch    2/   9] Loss:  1.62e-03\n",
            "[Epoch   77/ 100] [Batch    3/   9] Loss:  1.30e-03\n",
            "[Epoch   77/ 100] [Batch    4/   9] Loss:  1.84e-03\n",
            "[Epoch   77/ 100] [Batch    5/   9] Loss:  1.70e-03\n",
            "[Epoch   77/ 100] [Batch    6/   9] Loss:  1.65e-03\n",
            "[Epoch   77/ 100] [Batch    7/   9] Loss:  1.70e-03\n",
            "[Epoch   77/ 100] [Batch    8/   9] Loss:  1.37e-03\n",
            "[Epoch   77/ 100] [Batch    9/   9] Loss:  1.81e-03\n",
            "[Epoch   78/ 100] [Batch    1/   9] Loss:  1.72e-03\n",
            "[Epoch   78/ 100] [Batch    2/   9] Loss:  1.50e-03\n",
            "[Epoch   78/ 100] [Batch    3/   9] Loss:  1.42e-03\n",
            "[Epoch   78/ 100] [Batch    4/   9] Loss:  1.70e-03\n",
            "[Epoch   78/ 100] [Batch    5/   9] Loss:  1.47e-03\n",
            "[Epoch   78/ 100] [Batch    6/   9] Loss:  1.68e-03\n",
            "[Epoch   78/ 100] [Batch    7/   9] Loss:  1.71e-03\n",
            "[Epoch   78/ 100] [Batch    8/   9] Loss:  1.35e-03\n",
            "[Epoch   78/ 100] [Batch    9/   9] Loss:  1.50e-03\n",
            "[Epoch   79/ 100] [Batch    1/   9] Loss:  1.69e-03\n",
            "[Epoch   79/ 100] [Batch    2/   9] Loss:  1.31e-03\n",
            "[Epoch   79/ 100] [Batch    3/   9] Loss:  1.73e-03\n",
            "[Epoch   79/ 100] [Batch    4/   9] Loss:  1.32e-03\n",
            "[Epoch   79/ 100] [Batch    5/   9] Loss:  1.65e-03\n",
            "[Epoch   79/ 100] [Batch    6/   9] Loss:  1.49e-03\n",
            "[Epoch   79/ 100] [Batch    7/   9] Loss:  1.66e-03\n",
            "[Epoch   79/ 100] [Batch    8/   9] Loss:  1.76e-03\n",
            "[Epoch   79/ 100] [Batch    9/   9] Loss:  1.28e-03\n",
            "[Epoch   80/ 100] [Batch    1/   9] Loss:  1.51e-03\n",
            "[Epoch   80/ 100] [Batch    2/   9] Loss:  1.39e-03\n",
            "[Epoch   80/ 100] [Batch    3/   9] Loss:  1.73e-03\n",
            "[Epoch   80/ 100] [Batch    4/   9] Loss:  1.70e-03\n",
            "[Epoch   80/ 100] [Batch    5/   9] Loss:  2.07e-03\n",
            "[Epoch   80/ 100] [Batch    6/   9] Loss:  1.57e-03\n",
            "[Epoch   80/ 100] [Batch    7/   9] Loss:  1.29e-03\n",
            "[Epoch   80/ 100] [Batch    8/   9] Loss:  1.22e-03\n",
            "[Epoch   80/ 100] [Batch    9/   9] Loss:  1.79e-03\n",
            "[Epoch   81/ 100] [Batch    1/   9] Loss:  1.32e-03\n",
            "[Epoch   81/ 100] [Batch    2/   9] Loss:  1.73e-03\n",
            "[Epoch   81/ 100] [Batch    3/   9] Loss:  1.55e-03\n",
            "[Epoch   81/ 100] [Batch    4/   9] Loss:  1.68e-03\n",
            "[Epoch   81/ 100] [Batch    5/   9] Loss:  1.46e-03\n",
            "[Epoch   81/ 100] [Batch    6/   9] Loss:  1.40e-03\n",
            "[Epoch   81/ 100] [Batch    7/   9] Loss:  1.42e-03\n",
            "[Epoch   81/ 100] [Batch    8/   9] Loss:  1.97e-03\n",
            "[Epoch   81/ 100] [Batch    9/   9] Loss:  1.55e-03\n",
            "[Epoch   82/ 100] [Batch    1/   9] Loss:  1.62e-03\n",
            "[Epoch   82/ 100] [Batch    2/   9] Loss:  1.67e-03\n",
            "[Epoch   82/ 100] [Batch    3/   9] Loss:  1.44e-03\n",
            "[Epoch   82/ 100] [Batch    4/   9] Loss:  1.13e-03\n",
            "[Epoch   82/ 100] [Batch    5/   9] Loss:  1.95e-03\n",
            "[Epoch   82/ 100] [Batch    6/   9] Loss:  1.49e-03\n",
            "[Epoch   82/ 100] [Batch    7/   9] Loss:  1.42e-03\n",
            "[Epoch   82/ 100] [Batch    8/   9] Loss:  1.87e-03\n",
            "[Epoch   82/ 100] [Batch    9/   9] Loss:  1.52e-03\n",
            "[Epoch   83/ 100] [Batch    1/   9] Loss:  1.40e-03\n",
            "[Epoch   83/ 100] [Batch    2/   9] Loss:  1.82e-03\n",
            "[Epoch   83/ 100] [Batch    3/   9] Loss:  1.82e-03\n",
            "[Epoch   83/ 100] [Batch    4/   9] Loss:  1.32e-03\n",
            "[Epoch   83/ 100] [Batch    5/   9] Loss:  1.53e-03\n",
            "[Epoch   83/ 100] [Batch    6/   9] Loss:  1.56e-03\n",
            "[Epoch   83/ 100] [Batch    7/   9] Loss:  1.43e-03\n",
            "[Epoch   83/ 100] [Batch    8/   9] Loss:  1.51e-03\n",
            "[Epoch   83/ 100] [Batch    9/   9] Loss:  1.81e-03\n",
            "[Epoch   84/ 100] [Batch    1/   9] Loss:  1.37e-03\n",
            "[Epoch   84/ 100] [Batch    2/   9] Loss:  1.61e-03\n",
            "[Epoch   84/ 100] [Batch    3/   9] Loss:  1.22e-03\n",
            "[Epoch   84/ 100] [Batch    4/   9] Loss:  1.41e-03\n",
            "[Epoch   84/ 100] [Batch    5/   9] Loss:  1.57e-03\n",
            "[Epoch   84/ 100] [Batch    6/   9] Loss:  1.96e-03\n",
            "[Epoch   84/ 100] [Batch    7/   9] Loss:  1.68e-03\n",
            "[Epoch   84/ 100] [Batch    8/   9] Loss:  1.76e-03\n",
            "[Epoch   84/ 100] [Batch    9/   9] Loss:  1.32e-03\n",
            "[Epoch   85/ 100] [Batch    1/   9] Loss:  1.50e-03\n",
            "[Epoch   85/ 100] [Batch    2/   9] Loss:  1.15e-03\n",
            "[Epoch   85/ 100] [Batch    3/   9] Loss:  1.70e-03\n",
            "[Epoch   85/ 100] [Batch    4/   9] Loss:  1.76e-03\n",
            "[Epoch   85/ 100] [Batch    5/   9] Loss:  1.63e-03\n",
            "[Epoch   85/ 100] [Batch    6/   9] Loss:  1.09e-03\n",
            "[Epoch   85/ 100] [Batch    7/   9] Loss:  1.79e-03\n",
            "[Epoch   85/ 100] [Batch    8/   9] Loss:  1.84e-03\n",
            "[Epoch   85/ 100] [Batch    9/   9] Loss:  1.71e-03\n",
            "[Epoch   86/ 100] [Batch    1/   9] Loss:  1.40e-03\n",
            "[Epoch   86/ 100] [Batch    2/   9] Loss:  1.76e-03\n",
            "[Epoch   86/ 100] [Batch    3/   9] Loss:  1.59e-03\n",
            "[Epoch   86/ 100] [Batch    4/   9] Loss:  1.56e-03\n",
            "[Epoch   86/ 100] [Batch    5/   9] Loss:  1.38e-03\n",
            "[Epoch   86/ 100] [Batch    6/   9] Loss:  1.74e-03\n",
            "[Epoch   86/ 100] [Batch    7/   9] Loss:  1.44e-03\n",
            "[Epoch   86/ 100] [Batch    8/   9] Loss:  1.65e-03\n",
            "[Epoch   86/ 100] [Batch    9/   9] Loss:  1.54e-03\n",
            "[Epoch   87/ 100] [Batch    1/   9] Loss:  1.45e-03\n",
            "[Epoch   87/ 100] [Batch    2/   9] Loss:  1.84e-03\n",
            "[Epoch   87/ 100] [Batch    3/   9] Loss:  1.82e-03\n",
            "[Epoch   87/ 100] [Batch    4/   9] Loss:  1.53e-03\n",
            "[Epoch   87/ 100] [Batch    5/   9] Loss:  1.24e-03\n",
            "[Epoch   87/ 100] [Batch    6/   9] Loss:  1.68e-03\n",
            "[Epoch   87/ 100] [Batch    7/   9] Loss:  1.61e-03\n",
            "[Epoch   87/ 100] [Batch    8/   9] Loss:  1.39e-03\n",
            "[Epoch   87/ 100] [Batch    9/   9] Loss:  1.58e-03\n",
            "[Epoch   88/ 100] [Batch    1/   9] Loss:  1.61e-03\n",
            "[Epoch   88/ 100] [Batch    2/   9] Loss:  1.53e-03\n",
            "[Epoch   88/ 100] [Batch    3/   9] Loss:  1.55e-03\n",
            "[Epoch   88/ 100] [Batch    4/   9] Loss:  1.80e-03\n",
            "[Epoch   88/ 100] [Batch    5/   9] Loss:  1.61e-03\n",
            "[Epoch   88/ 100] [Batch    6/   9] Loss:  1.64e-03\n",
            "[Epoch   88/ 100] [Batch    7/   9] Loss:  1.21e-03\n",
            "[Epoch   88/ 100] [Batch    8/   9] Loss:  1.49e-03\n",
            "[Epoch   88/ 100] [Batch    9/   9] Loss:  1.68e-03\n",
            "[Epoch   89/ 100] [Batch    1/   9] Loss:  1.63e-03\n",
            "[Epoch   89/ 100] [Batch    2/   9] Loss:  1.92e-03\n",
            "[Epoch   89/ 100] [Batch    3/   9] Loss:  1.64e-03\n",
            "[Epoch   89/ 100] [Batch    4/   9] Loss:  1.42e-03\n",
            "[Epoch   89/ 100] [Batch    5/   9] Loss:  1.12e-03\n",
            "[Epoch   89/ 100] [Batch    6/   9] Loss:  1.80e-03\n",
            "[Epoch   89/ 100] [Batch    7/   9] Loss:  1.50e-03\n",
            "[Epoch   89/ 100] [Batch    8/   9] Loss:  1.62e-03\n",
            "[Epoch   89/ 100] [Batch    9/   9] Loss:  1.06e-03\n",
            "[Epoch   90/ 100] [Batch    1/   9] Loss:  1.52e-03\n",
            "[Epoch   90/ 100] [Batch    2/   9] Loss:  1.76e-03\n",
            "[Epoch   90/ 100] [Batch    3/   9] Loss:  1.60e-03\n",
            "[Epoch   90/ 100] [Batch    4/   9] Loss:  1.49e-03\n",
            "[Epoch   90/ 100] [Batch    5/   9] Loss:  1.88e-03\n",
            "[Epoch   90/ 100] [Batch    6/   9] Loss:  1.48e-03\n",
            "[Epoch   90/ 100] [Batch    7/   9] Loss:  1.33e-03\n",
            "[Epoch   90/ 100] [Batch    8/   9] Loss:  1.30e-03\n",
            "[Epoch   90/ 100] [Batch    9/   9] Loss:  1.97e-03\n",
            "[Epoch   91/ 100] [Batch    1/   9] Loss:  1.44e-03\n",
            "[Epoch   91/ 100] [Batch    2/   9] Loss:  1.64e-03\n",
            "[Epoch   91/ 100] [Batch    3/   9] Loss:  1.44e-03\n",
            "[Epoch   91/ 100] [Batch    4/   9] Loss:  1.84e-03\n",
            "[Epoch   91/ 100] [Batch    5/   9] Loss:  1.27e-03\n",
            "[Epoch   91/ 100] [Batch    6/   9] Loss:  1.63e-03\n",
            "[Epoch   91/ 100] [Batch    7/   9] Loss:  1.74e-03\n",
            "[Epoch   91/ 100] [Batch    8/   9] Loss:  1.51e-03\n",
            "[Epoch   91/ 100] [Batch    9/   9] Loss:  1.72e-03\n",
            "[Epoch   92/ 100] [Batch    1/   9] Loss:  1.62e-03\n",
            "[Epoch   92/ 100] [Batch    2/   9] Loss:  1.48e-03\n",
            "[Epoch   92/ 100] [Batch    3/   9] Loss:  1.79e-03\n",
            "[Epoch   92/ 100] [Batch    4/   9] Loss:  1.76e-03\n",
            "[Epoch   92/ 100] [Batch    5/   9] Loss:  1.54e-03\n",
            "[Epoch   92/ 100] [Batch    6/   9] Loss:  1.56e-03\n",
            "[Epoch   92/ 100] [Batch    7/   9] Loss:  1.59e-03\n",
            "[Epoch   92/ 100] [Batch    8/   9] Loss:  1.27e-03\n",
            "[Epoch   92/ 100] [Batch    9/   9] Loss:  1.42e-03\n",
            "[Epoch   93/ 100] [Batch    1/   9] Loss:  1.33e-03\n",
            "[Epoch   93/ 100] [Batch    2/   9] Loss:  1.31e-03\n",
            "[Epoch   93/ 100] [Batch    3/   9] Loss:  1.45e-03\n",
            "[Epoch   93/ 100] [Batch    4/   9] Loss:  1.56e-03\n",
            "[Epoch   93/ 100] [Batch    5/   9] Loss:  1.65e-03\n",
            "[Epoch   93/ 100] [Batch    6/   9] Loss:  1.63e-03\n",
            "[Epoch   93/ 100] [Batch    7/   9] Loss:  1.65e-03\n",
            "[Epoch   93/ 100] [Batch    8/   9] Loss:  1.96e-03\n",
            "[Epoch   93/ 100] [Batch    9/   9] Loss:  1.43e-03\n",
            "[Epoch   94/ 100] [Batch    1/   9] Loss:  1.22e-03\n",
            "[Epoch   94/ 100] [Batch    2/   9] Loss:  1.50e-03\n",
            "[Epoch   94/ 100] [Batch    3/   9] Loss:  1.38e-03\n",
            "[Epoch   94/ 100] [Batch    4/   9] Loss:  1.69e-03\n",
            "[Epoch   94/ 100] [Batch    5/   9] Loss:  1.60e-03\n",
            "[Epoch   94/ 100] [Batch    6/   9] Loss:  1.76e-03\n",
            "[Epoch   94/ 100] [Batch    7/   9] Loss:  1.79e-03\n",
            "[Epoch   94/ 100] [Batch    8/   9] Loss:  1.76e-03\n",
            "[Epoch   94/ 100] [Batch    9/   9] Loss:  1.36e-03\n",
            "[Epoch   95/ 100] [Batch    1/   9] Loss:  1.54e-03\n",
            "[Epoch   95/ 100] [Batch    2/   9] Loss:  1.62e-03\n",
            "[Epoch   95/ 100] [Batch    3/   9] Loss:  1.45e-03\n",
            "[Epoch   95/ 100] [Batch    4/   9] Loss:  1.54e-03\n",
            "[Epoch   95/ 100] [Batch    5/   9] Loss:  1.49e-03\n",
            "[Epoch   95/ 100] [Batch    6/   9] Loss:  1.69e-03\n",
            "[Epoch   95/ 100] [Batch    7/   9] Loss:  1.42e-03\n",
            "[Epoch   95/ 100] [Batch    8/   9] Loss:  1.50e-03\n",
            "[Epoch   95/ 100] [Batch    9/   9] Loss:  2.58e-03\n",
            "[Epoch   96/ 100] [Batch    1/   9] Loss:  1.56e-03\n",
            "[Epoch   96/ 100] [Batch    2/   9] Loss:  1.71e-03\n",
            "[Epoch   96/ 100] [Batch    3/   9] Loss:  1.63e-03\n",
            "[Epoch   96/ 100] [Batch    4/   9] Loss:  1.51e-03\n",
            "[Epoch   96/ 100] [Batch    5/   9] Loss:  1.63e-03\n",
            "[Epoch   96/ 100] [Batch    6/   9] Loss:  1.61e-03\n",
            "[Epoch   96/ 100] [Batch    7/   9] Loss:  1.43e-03\n",
            "[Epoch   96/ 100] [Batch    8/   9] Loss:  1.41e-03\n",
            "[Epoch   96/ 100] [Batch    9/   9] Loss:  1.62e-03\n",
            "[Epoch   97/ 100] [Batch    1/   9] Loss:  1.36e-03\n",
            "[Epoch   97/ 100] [Batch    2/   9] Loss:  1.69e-03\n",
            "[Epoch   97/ 100] [Batch    3/   9] Loss:  1.47e-03\n",
            "[Epoch   97/ 100] [Batch    4/   9] Loss:  1.65e-03\n",
            "[Epoch   97/ 100] [Batch    5/   9] Loss:  1.53e-03\n",
            "[Epoch   97/ 100] [Batch    6/   9] Loss:  1.87e-03\n",
            "[Epoch   97/ 100] [Batch    7/   9] Loss:  1.31e-03\n",
            "[Epoch   97/ 100] [Batch    8/   9] Loss:  1.57e-03\n",
            "[Epoch   97/ 100] [Batch    9/   9] Loss:  1.64e-03\n",
            "[Epoch   98/ 100] [Batch    1/   9] Loss:  1.68e-03\n",
            "[Epoch   98/ 100] [Batch    2/   9] Loss:  1.70e-03\n",
            "[Epoch   98/ 100] [Batch    3/   9] Loss:  1.52e-03\n",
            "[Epoch   98/ 100] [Batch    4/   9] Loss:  1.48e-03\n",
            "[Epoch   98/ 100] [Batch    5/   9] Loss:  1.58e-03\n",
            "[Epoch   98/ 100] [Batch    6/   9] Loss:  1.45e-03\n",
            "[Epoch   98/ 100] [Batch    7/   9] Loss:  1.69e-03\n",
            "[Epoch   98/ 100] [Batch    8/   9] Loss:  1.57e-03\n",
            "[Epoch   98/ 100] [Batch    9/   9] Loss:  1.32e-03\n",
            "[Epoch   99/ 100] [Batch    1/   9] Loss:  1.52e-03\n",
            "[Epoch   99/ 100] [Batch    2/   9] Loss:  1.74e-03\n",
            "[Epoch   99/ 100] [Batch    3/   9] Loss:  1.62e-03\n",
            "[Epoch   99/ 100] [Batch    4/   9] Loss:  1.69e-03\n",
            "[Epoch   99/ 100] [Batch    5/   9] Loss:  1.24e-03\n",
            "[Epoch   99/ 100] [Batch    6/   9] Loss:  1.59e-03\n",
            "[Epoch   99/ 100] [Batch    7/   9] Loss:  1.73e-03\n",
            "[Epoch   99/ 100] [Batch    8/   9] Loss:  1.47e-03\n",
            "[Epoch   99/ 100] [Batch    9/   9] Loss:  1.63e-03\n",
            "[Epoch  100/ 100] [Batch    1/   9] Loss:  1.76e-03\n",
            "[Epoch  100/ 100] [Batch    2/   9] Loss:  1.75e-03\n",
            "[Epoch  100/ 100] [Batch    3/   9] Loss:  1.23e-03\n",
            "[Epoch  100/ 100] [Batch    4/   9] Loss:  1.66e-03\n",
            "[Epoch  100/ 100] [Batch    5/   9] Loss:  1.67e-03\n",
            "[Epoch  100/ 100] [Batch    6/   9] Loss:  1.74e-03\n",
            "[Epoch  100/ 100] [Batch    7/   9] Loss:  1.22e-03\n",
            "[Epoch  100/ 100] [Batch    8/   9] Loss:  1.65e-03\n",
            "[Epoch  100/ 100] [Batch    9/   9] Loss:  1.23e-03\n"
          ]
        },
        {
          "output_type": "execute_result",
          "data": {
            "text/plain": [
              "LinearModel(\n",
              "  (linear): Linear(in_features=1, out_features=1, bias=True)\n",
              ")"
            ]
          },
          "metadata": {},
          "execution_count": 32
        }
      ]
    },
    {
      "cell_type": "code",
      "metadata": {
        "id": "kg1qlmIB92Xx"
      },
      "source": [
        "if input_dim == output_dim == 1:\n",
        "    n_test = 500\n",
        "    X_test = np.random.rand(n_test, input_dim)\n",
        "    y_pred = []\n",
        "\n",
        "    state_dict = model.state_dict()\n",
        "\n",
        "    for idx in range(len(train_hist['weight'])):\n",
        "        state_dict['linear.weight'] = torch.tensor([[train_hist['weight'][idx]]])\n",
        "        state_dict['linear.bias'] = torch.tensor([train_hist['bias'][idx]])\n",
        "        model.load_state_dict(state_dict)\n",
        "\n",
        "        y_pred.append(model.forward(torch.tensor(X_test.astype('f'))).detach().numpy())    "
      ],
      "execution_count": 33,
      "outputs": []
    },
    {
      "cell_type": "code",
      "metadata": {
        "id": "0rCiUlNQ92Xx",
        "outputId": "1807d4d3-0365-4242-b61b-9908b8815137",
        "colab": {
          "base_uri": "https://localhost:8080/",
          "height": 369
        }
      },
      "source": [
        "if input_dim == output_dim == 1:\n",
        "    fig = plt.figure(figsize=(15, 5))\n",
        "    fig.clf()\n",
        "    \n",
        "    ax = fig.add_subplot(1, 3, 1)\n",
        "    levels = np.logspace(np.log(np.min(loss_values)), np.log(np.max(loss_values)), 20)\n",
        "    ax.contourf(ww, bb, loss_values, levels=levels, norm=colors.LogNorm())\n",
        "    ax.plot(train_hist['weight'], train_hist['bias'], '.-b')\n",
        "    ax.plot(A[0], b, 'r*', markersize=10)\n",
        "    ax.set_xlabel('weight')\n",
        "    ax.set_ylabel('bias')\n",
        "    ax.legend(['optim', '(A, b)'])\n",
        "    ax.grid(True)\n",
        "    ax.set_xlim(-2, 2) \n",
        "    ax.set_ylim(-2, 2) \n",
        "    \n",
        "    ax = fig.add_subplot(1, 3, 2)\n",
        "    ax.loglog(np.abs(train_hist['loss']))\n",
        "    ax.set_xlabel('Iter')\n",
        "    ax.set_ylabel('Loss')\n",
        "    ax.grid(True)\n",
        "    \n",
        "    ax = fig.add_subplot(1, 3, 3)\n",
        "    ax.plot(X_train, y_train, '.')\n",
        "    a=ax.plot(X_test, y_pred[0], '-', alpha=0.1)\n",
        "    for y in y_pred[1:]:\n",
        "        ax.plot(X_test, y, '-', alpha=0.1, color=a[0].get_color())\n",
        "    ax.plot(X_test, y_pred[-1], 'k')\n",
        "    ax.grid(True)   \n",
        "\n",
        "    fig.tight_layout()\n",
        "\n",
        "else:\n",
        "    fig = plt.figure()\n",
        "    fig.clf()\n",
        "    ax = fig.gca()\n",
        "    ax.loglog(np.abs(train_hist['loss']))\n",
        "    ax.set_xlabel('Iter')\n",
        "    ax.set_ylabel('Loss')\n",
        "    ax.grid(True)"
      ],
      "execution_count": 34,
      "outputs": [
        {
          "output_type": "display_data",
          "data": {
            "image/png": "[encoded data removed]",
            "text/plain": [
              "<Figure size 1080x360 with 3 Axes>"
            ]
          },
          "metadata": {
            "needs_background": "light"
          }
        }
      ]
    },
    {
      "cell_type": "code",
      "metadata": {
        "id": "YD0pPrfA92Xx"
      },
      "source": [
        ""
      ],
      "execution_count": null,
      "outputs": []
    }
  ]
}